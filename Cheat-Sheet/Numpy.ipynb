{
  "nbformat": 4,
  "nbformat_minor": 0,
  "metadata": {
    "colab": {
      "name": "Numpy.ipynb",
      "provenance": []
    },
    "kernelspec": {
      "name": "python3",
      "display_name": "Python 3"
    }
  },
  "cells": [
    {
      "cell_type": "markdown",
      "metadata": {
        "id": "gIpMbGODJEzj",
        "colab_type": "text"
      },
      "source": [
        "#Numpy Cheat Sheet"
      ]
    },
    {
      "cell_type": "code",
      "metadata": {
        "id": "AVYQKjY0H-7B",
        "colab_type": "code",
        "colab": {}
      },
      "source": [
        "import numpy as np"
      ],
      "execution_count": 1,
      "outputs": []
    },
    {
      "cell_type": "markdown",
      "metadata": {
        "id": "0VhC36iqJivV",
        "colab_type": "text"
      },
      "source": [
        "#Creating Array"
      ]
    },
    {
      "cell_type": "code",
      "metadata": {
        "id": "xEf8of5SJLMV",
        "colab_type": "code",
        "colab": {
          "base_uri": "https://localhost:8080/",
          "height": 34
        },
        "outputId": "223fff53-90e3-4983-8a36-035e8091c12e"
      },
      "source": [
        "# 1D array\n",
        "np.array([1,2,3,4,5])\n"
      ],
      "execution_count": 2,
      "outputs": [
        {
          "output_type": "execute_result",
          "data": {
            "text/plain": [
              "array([1, 2, 3, 4, 5])"
            ]
          },
          "metadata": {
            "tags": []
          },
          "execution_count": 2
        }
      ]
    },
    {
      "cell_type": "code",
      "metadata": {
        "id": "PJABviFmJ55S",
        "colab_type": "code",
        "colab": {
          "base_uri": "https://localhost:8080/",
          "height": 84
        },
        "outputId": "e9967148-2ae1-4902-89db-1eed8f480138"
      },
      "source": [
        "#2D array\n",
        "a = np.array([[1,2,3,4],[5,6,7,8]])\n",
        "print(a)\n",
        "\n",
        "b = np.array( [ (1.5,2,4) , (4,5,6) ] ,dtype=float )\n",
        "print(b)\n"
      ],
      "execution_count": 3,
      "outputs": [
        {
          "output_type": "stream",
          "text": [
            "[[1 2 3 4]\n",
            " [5 6 7 8]]\n",
            "[[1.5 2.  4. ]\n",
            " [4.  5.  6. ]]\n"
          ],
          "name": "stdout"
        }
      ]
    },
    {
      "cell_type": "markdown",
      "metadata": {
        "id": "as6EvJYeLXm5",
        "colab_type": "text"
      },
      "source": [
        "#Initial Placeholders\n",
        "##(some methods)"
      ]
    },
    {
      "cell_type": "markdown",
      "metadata": {
        "id": "8VZXcx3WLgtw",
        "colab_type": "text"
      },
      "source": [
        "###1. Arrange\n",
        "creates an array of evenly spaced values"
      ]
    },
    {
      "cell_type": "code",
      "metadata": {
        "id": "YE3emwBtKEjy",
        "colab_type": "code",
        "colab": {
          "base_uri": "https://localhost:8080/",
          "height": 50
        },
        "outputId": "726b5940-4be8-4866-f17a-f92eb748789a"
      },
      "source": [
        "#last value is not included\n",
        "d = np.arange(0,10)\n",
        "print(d)\n",
        "\n",
        "d1 = np.arange(0,10,3)\n",
        "print(d1)"
      ],
      "execution_count": 4,
      "outputs": [
        {
          "output_type": "stream",
          "text": [
            "[0 1 2 3 4 5 6 7 8 9]\n",
            "[0 3 6 9]\n"
          ],
          "name": "stdout"
        }
      ]
    },
    {
      "cell_type": "markdown",
      "metadata": {
        "id": "RQRh1-R4MIYD",
        "colab_type": "text"
      },
      "source": [
        "###2. Zeros\n",
        "create an arrays of zeros"
      ]
    },
    {
      "cell_type": "code",
      "metadata": {
        "id": "57aPEJyqLx1-",
        "colab_type": "code",
        "colab": {
          "base_uri": "https://localhost:8080/",
          "height": 50
        },
        "outputId": "545ed726-55e7-438b-bebd-2f7954b4ce93"
      },
      "source": [
        "# 1D array\n",
        "a = np.zeros(5,dtype=int)\n",
        "# print(a)\n",
        "# np.zeros(5)\n",
        "\n",
        "\n",
        "#2D array\n",
        "np.zeros((2,5),dtype=int)"
      ],
      "execution_count": 5,
      "outputs": [
        {
          "output_type": "execute_result",
          "data": {
            "text/plain": [
              "array([[0, 0, 0, 0, 0],\n",
              "       [0, 0, 0, 0, 0]])"
            ]
          },
          "metadata": {
            "tags": []
          },
          "execution_count": 5
        }
      ]
    },
    {
      "cell_type": "markdown",
      "metadata": {
        "id": "Je6wsUaiMx8k",
        "colab_type": "text"
      },
      "source": [
        "###3.Ones \n",
        "create an arrays of ones"
      ]
    },
    {
      "cell_type": "code",
      "metadata": {
        "id": "bQeFy8lGMWdH",
        "colab_type": "code",
        "colab": {
          "base_uri": "https://localhost:8080/",
          "height": 67
        },
        "outputId": "57522a58-48e2-434b-a2bf-24a193a5d121"
      },
      "source": [
        "#1D\n",
        "a = np.ones(5)\n",
        "print(a)\n",
        "\n",
        "#2D\n",
        "np.ones((2,5),dtype=np.int8)\n",
        "# np.ones((2,5))\n"
      ],
      "execution_count": 6,
      "outputs": [
        {
          "output_type": "stream",
          "text": [
            "[1. 1. 1. 1. 1.]\n"
          ],
          "name": "stdout"
        },
        {
          "output_type": "execute_result",
          "data": {
            "text/plain": [
              "array([[1, 1, 1, 1, 1],\n",
              "       [1, 1, 1, 1, 1]], dtype=int8)"
            ]
          },
          "metadata": {
            "tags": []
          },
          "execution_count": 6
        }
      ]
    },
    {
      "cell_type": "markdown",
      "metadata": {
        "id": "nhkXSRFyNU9k",
        "colab_type": "text"
      },
      "source": [
        "###4.Eye\n",
        "create and identity matirx"
      ]
    },
    {
      "cell_type": "code",
      "metadata": {
        "id": "6n-GwDvJNZ_G",
        "colab_type": "code",
        "colab": {
          "base_uri": "https://localhost:8080/",
          "height": 84
        },
        "outputId": "67332c2c-8cde-4364-c539-6e801aca0019"
      },
      "source": [
        "np.eye(4)"
      ],
      "execution_count": 7,
      "outputs": [
        {
          "output_type": "execute_result",
          "data": {
            "text/plain": [
              "array([[1., 0., 0., 0.],\n",
              "       [0., 1., 0., 0.],\n",
              "       [0., 0., 1., 0.],\n",
              "       [0., 0., 0., 1.]])"
            ]
          },
          "metadata": {
            "tags": []
          },
          "execution_count": 7
        }
      ]
    },
    {
      "cell_type": "markdown",
      "metadata": {
        "id": "jhJLuWSXNn_x",
        "colab_type": "text"
      },
      "source": [
        "###5. Linspace\n",
        "create an array of evenly space values"
      ]
    },
    {
      "cell_type": "code",
      "metadata": {
        "id": "tB1JcVHoM58a",
        "colab_type": "code",
        "colab": {
          "base_uri": "https://localhost:8080/",
          "height": 34
        },
        "outputId": "b8e83011-4721-4ece-e50a-5bb7042c8862"
      },
      "source": [
        "np.linspace(0,50,11,dtype=int)"
      ],
      "execution_count": 8,
      "outputs": [
        {
          "output_type": "execute_result",
          "data": {
            "text/plain": [
              "array([ 0,  5, 10, 15, 20, 25, 30, 35, 40, 45, 50])"
            ]
          },
          "metadata": {
            "tags": []
          },
          "execution_count": 8
        }
      ]
    },
    {
      "cell_type": "markdown",
      "metadata": {
        "id": "HvzfHZFaON-Z",
        "colab_type": "text"
      },
      "source": [
        "###6. Random \n",
        "create an array with random values"
      ]
    },
    {
      "cell_type": "code",
      "metadata": {
        "id": "SUgu05znN2Nj",
        "colab_type": "code",
        "colab": {
          "base_uri": "https://localhost:8080/",
          "height": 386
        },
        "outputId": "4716a5c0-02f1-4e37-aaf6-8bebf6e2059d"
      },
      "source": [
        "#1D\n",
        "np.random.random(5)\n",
        "\n",
        "#2D\n",
        "a =np.random.rand(2,3)\n",
        "print(a,\"\\n\")\n",
        "\n",
        "#another way\n",
        "a1 = np.random.random((2,3))\n",
        "print(a1,\"\\n\")\n",
        "\n",
        "#By using randint =>> this will print any random no between 0 to 3 (3 included)\n",
        "rand1 = np.random.randint(3)\n",
        "print(rand1,'\\n')\n",
        "\n",
        "rand2 = np.random.randint(1,10) #10 excluded\n",
        "print(rand2,'\\n')\n",
        "\n",
        "#If we want to insert random integer to array then we can do like below\n",
        "my_arr = np.random.randint(1,10,6)\n",
        "\n",
        "print(my_arr,'\\n')\n",
        "\n",
        "#MAX and MIN\n",
        "\n",
        "max = my_arr.max()\n",
        "min = my_arr.min()\n",
        "print(\"Max : \", max)\n",
        "print(\"Min : \", min,'\\n')\n",
        "\n",
        "#To return the index of max and min element\n",
        "max_index = my_arr.argmax()\n",
        "min_index = my_arr.argmin()\n",
        "\n",
        "print(\"Max_Index :\",max_index)\n",
        "print(\"Max_Index :\",min_index,'\\n')\n",
        "\n",
        "#Reshaping\n",
        "#convert 1d array to 2D\n",
        "# [6 3 1 6 5 2] \n",
        "\n",
        "new_arr = my_arr.reshape(2,3)\n",
        "print(new_arr)\n",
        "print('\\n')\n"
      ],
      "execution_count": 9,
      "outputs": [
        {
          "output_type": "stream",
          "text": [
            "[[0.43594431 0.93414394 0.80541402]\n",
            " [0.27995966 0.08138133 0.49910454]] \n",
            "\n",
            "[[0.20791594 0.14659831 0.20573165]\n",
            " [0.80280679 0.63039416 0.63261297]] \n",
            "\n",
            "2 \n",
            "\n",
            "8 \n",
            "\n",
            "[2 7 7 8 1 6] \n",
            "\n",
            "Max :  8\n",
            "Min :  1 \n",
            "\n",
            "Max_Index : 3\n",
            "Max_Index : 4 \n",
            "\n",
            "[[2 7 7]\n",
            " [8 1 6]]\n",
            "\n",
            "\n"
          ],
          "name": "stdout"
        }
      ]
    },
    {
      "cell_type": "markdown",
      "metadata": {
        "id": "ctRe-QgiStFj",
        "colab_type": "text"
      },
      "source": [
        "##Indexing"
      ]
    },
    {
      "cell_type": "code",
      "metadata": {
        "id": "gLoLAaUgOiRm",
        "colab_type": "code",
        "colab": {
          "base_uri": "https://localhost:8080/",
          "height": 50
        },
        "outputId": "fb074fda-2c21-4bc7-9000-34cb501281e8"
      },
      "source": [
        "print(my_arr)\n",
        "my_arr[2] = 33\n",
        "print(my_arr)"
      ],
      "execution_count": 12,
      "outputs": [
        {
          "output_type": "stream",
          "text": [
            "[ 2  7 33  8  1  6]\n",
            "[ 2  7 33  8  1  6]\n"
          ],
          "name": "stdout"
        }
      ]
    },
    {
      "cell_type": "markdown",
      "metadata": {
        "id": "l0ksbf5qTLoF",
        "colab_type": "text"
      },
      "source": [
        "## Creating Copy"
      ]
    },
    {
      "cell_type": "code",
      "metadata": {
        "id": "njFX37WRS3vR",
        "colab_type": "code",
        "colab": {
          "base_uri": "https://localhost:8080/",
          "height": 34
        },
        "outputId": "ac41c888-06e3-4844-9c5c-4ada67f3ee90"
      },
      "source": [
        "my_arr1 = my_arr.copy()\n",
        "print(my_arr1)"
      ],
      "execution_count": 13,
      "outputs": [
        {
          "output_type": "stream",
          "text": [
            "[ 2  7 33  8  1  6]\n"
          ],
          "name": "stdout"
        }
      ]
    },
    {
      "cell_type": "markdown",
      "metadata": {
        "id": "g6akUOyIT21H",
        "colab_type": "text"
      },
      "source": [
        "##2D Arrays "
      ]
    },
    {
      "cell_type": "code",
      "metadata": {
        "id": "CYltUr93S6FE",
        "colab_type": "code",
        "colab": {
          "base_uri": "https://localhost:8080/",
          "height": 151
        },
        "outputId": "641254ba-197a-40ef-e7ab-37400e5379e7"
      },
      "source": [
        "array2d = np.array( [ (1,2,3) , (4,5,6) , (6,78,7) ] ) \n",
        "print(array2d,'\\n')\n",
        "\n",
        "#access a element\n",
        "print(array2d[1][1],'\\n')\n",
        "\n",
        "#another way\n",
        "print(array2d[1,1],'\\n')\n"
      ],
      "execution_count": 21,
      "outputs": [
        {
          "output_type": "stream",
          "text": [
            "[[ 1  2  3]\n",
            " [ 4  5  6]\n",
            " [ 6 78  7]] \n",
            "\n",
            "5 \n",
            "\n",
            "5 \n",
            "\n"
          ],
          "name": "stdout"
        }
      ]
    },
    {
      "cell_type": "markdown",
      "metadata": {
        "id": "jmJUoRSgUm5T",
        "colab_type": "text"
      },
      "source": [
        "##Slicing"
      ]
    },
    {
      "cell_type": "code",
      "metadata": {
        "id": "tmA1crSRUFF2",
        "colab_type": "code",
        "colab": {
          "base_uri": "https://localhost:8080/",
          "height": 336
        },
        "outputId": "577b0222-4111-4478-d852-4b19779309c0"
      },
      "source": [
        "print(array2d,'\\n')\n",
        "\n",
        "print(  array2d[1:] )\n",
        "print('\\n')\n",
        "\n",
        "print(  array2d[1:,1:] )\n",
        "print('\\n')\n",
        "\n",
        "print(   array2d[0:2]    )\n",
        "print('\\n')\n",
        "\n",
        "print( array2d[::-1] )"
      ],
      "execution_count": 30,
      "outputs": [
        {
          "output_type": "stream",
          "text": [
            "[[ 1  2  3]\n",
            " [ 4  5  6]\n",
            " [ 6 78  7]] \n",
            "\n",
            "[[ 4  5  6]\n",
            " [ 6 78  7]]\n",
            "\n",
            "\n",
            "[[ 5  6]\n",
            " [78  7]]\n",
            "\n",
            "\n",
            "[[1 2 3]\n",
            " [4 5 6]]\n",
            "\n",
            "\n",
            "[[ 6 78  7]\n",
            " [ 4  5  6]\n",
            " [ 1  2  3]]\n"
          ],
          "name": "stdout"
        }
      ]
    },
    {
      "cell_type": "markdown",
      "metadata": {
        "id": "KrD_MX2RVxfA",
        "colab_type": "text"
      },
      "source": [
        "##Comparison"
      ]
    },
    {
      "cell_type": "code",
      "metadata": {
        "id": "6Kn_bSouUrAY",
        "colab_type": "code",
        "colab": {
          "base_uri": "https://localhost:8080/",
          "height": 168
        },
        "outputId": "79ccdb59-522a-4d16-d72e-ae46d8d96c64"
      },
      "source": [
        "print(my_arr)\n",
        "print('\\n')\n",
        "\n",
        "#Return true and false \n",
        "arr = my_arr>2\n",
        "print(arr)\n",
        "print('\\n')\n",
        "\n",
        "#returns the value \n",
        "arr1 = my_arr[my_arr>2]\n",
        "print(arr1)\n",
        "print('\\n')\n",
        "\n"
      ],
      "execution_count": 36,
      "outputs": [
        {
          "output_type": "stream",
          "text": [
            "[ 2  7 33  8  1  6]\n",
            "\n",
            "\n",
            "[False  True  True  True False  True]\n",
            "\n",
            "\n",
            "[ 7 33  8  6]\n",
            "\n",
            "\n"
          ],
          "name": "stdout"
        }
      ]
    },
    {
      "cell_type": "markdown",
      "metadata": {
        "id": "FSCR3TrDWpGK",
        "colab_type": "text"
      },
      "source": [
        "##Operations"
      ]
    },
    {
      "cell_type": "code",
      "metadata": {
        "id": "Xja9jXXUV4mk",
        "colab_type": "code",
        "colab": {
          "base_uri": "https://localhost:8080/",
          "height": 487
        },
        "outputId": "ac897c87-d287-4e61-adea-6680ec9702cf"
      },
      "source": [
        "print(my_arr)\n",
        "print('\\n')\n",
        "print(my_arr1)\n",
        "print('\\n')\n",
        "\n",
        "#Addition\n",
        "print(\"Addition\")\n",
        "add_two_arr = my_arr + my_arr1\n",
        "print(add_two_arr)\n",
        "print('\\n')\n",
        "\n",
        "#Subtraction\n",
        "print(\"Subtraction\")\n",
        "sub_two_arr = my_arr - my_arr1\n",
        "print(sub_two_arr)\n",
        "print('\\n')\n",
        "\n",
        "#Multiplication\n",
        "print(\"multiplication\")\n",
        "Mul_two_arr = my_arr * my_arr1\n",
        "print(Mul_two_arr)\n",
        "print('\\n')\n",
        "\n",
        "#Divide\n",
        "print(\"divide\")\n",
        "div_two_arr = my_arr / my_arr1\n",
        "print(div_two_arr)\n",
        "print('\\n')\n",
        "\n",
        "#add 10 to all\n",
        "a = my_arr+10\n",
        "print(a)\n",
        "print('\\n')\n",
        "#Similar for m,d,s\n",
        "\n",
        "#Square root\n",
        "sq_arr = np.sqrt(my_arr)\n",
        "print(sq_arr)\n",
        "print('\\n')\n",
        "\n"
      ],
      "execution_count": 48,
      "outputs": [
        {
          "output_type": "stream",
          "text": [
            "[ 2  7 33  8  1  6]\n",
            "\n",
            "\n",
            "[ 2  7 33  8  1  6]\n",
            "\n",
            "\n",
            "Addition\n",
            "[ 4 14 66 16  2 12]\n",
            "\n",
            "\n",
            "Subtraction\n",
            "[0 0 0 0 0 0]\n",
            "\n",
            "\n",
            "multiplication\n",
            "[   4   49 1089   64    1   36]\n",
            "\n",
            "\n",
            "divide\n",
            "[1. 1. 1. 1. 1. 1.]\n",
            "\n",
            "\n",
            "[12 17 43 18 11 16]\n",
            "\n",
            "\n",
            "[1.41421356 2.64575131 5.74456265 2.82842712 1.         2.44948974]\n",
            "\n",
            "\n"
          ],
          "name": "stdout"
        }
      ]
    },
    {
      "cell_type": "markdown",
      "metadata": {
        "id": "PKJkxCZxYOOe",
        "colab_type": "text"
      },
      "source": [
        "##Aggregate Functions"
      ]
    },
    {
      "cell_type": "code",
      "metadata": {
        "id": "8Hdu8X8BWzUZ",
        "colab_type": "code",
        "colab": {
          "base_uri": "https://localhost:8080/",
          "height": 269
        },
        "outputId": "37a7dffe-82de-4bc3-ac96-3511c4498229"
      },
      "source": [
        "print(my_arr)\n",
        "print('\\n')\n",
        "\n",
        "#Sum\n",
        "sum_arr = my_arr.sum()\n",
        "print(sum_arr)\n",
        "print('\\n')\n",
        "\n",
        "#Min\n",
        "min_arr = my_arr.min()\n",
        "print(min_arr)\n",
        "print('\\n')\n",
        "\n",
        "#Max\n",
        "max_arr = my_arr.max()\n",
        "print(max_arr)\n",
        "print('\\n')\n",
        "\n",
        "#mean\n",
        "mean_arr = my_arr.mean()\n",
        "print(mean_arr)\n",
        "print('\\n')\n",
        "\n",
        "#same for mean median and var\n",
        "\n",
        "# >>> b.cumsum(axis=1) Cumulative sum of the elements \n",
        "# >>> a.mean() Mean\n",
        "# >>> b.median() Median\n",
        "# >>> a.corrcoef() Correlation coefficient\n",
        "# >>> np.std(b) standard deviation"
      ],
      "execution_count": 56,
      "outputs": [
        {
          "output_type": "stream",
          "text": [
            "[ 2  7 33  8  1  6]\n",
            "\n",
            "\n",
            "57\n",
            "\n",
            "\n",
            "1\n",
            "\n",
            "\n",
            "33\n",
            "\n",
            "\n",
            "9.5\n",
            "\n",
            "\n"
          ],
          "name": "stdout"
        }
      ]
    },
    {
      "cell_type": "code",
      "metadata": {
        "id": "OwnIiU-5YZtJ",
        "colab_type": "code",
        "colab": {}
      },
      "source": [
        ""
      ],
      "execution_count": null,
      "outputs": []
    }
  ]
}