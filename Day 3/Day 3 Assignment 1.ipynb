{
 "cells": [
  {
   "cell_type": "markdown",
   "metadata": {},
   "source": [
    "# Question 1 :\n",
    "Write a program to subtract two complex numbers in Python"
   ]
  },
  {
   "cell_type": "code",
   "execution_count": 1,
   "metadata": {},
   "outputs": [],
   "source": [
    "def subComplexNo():\n",
    "    i=1\n",
    "    print(\"Enter no \",i)\n",
    "    real_part =int( input (\"Enter Real no :\") )\n",
    "    complex_part = int (input(\"Enter Complex no : \") )\n",
    "    i+=i\n",
    "    print(\"Enter no \",i)\n",
    "    real_part_1 = int(input (\"Enter Real no :\") )\n",
    "    complex_part_1 =int( input(\"Enter Complex no : \")) \n",
    "    x = real_part_1-real_part\n",
    "    y = complex_part_1-complex_part\n",
    "    print(x,\"+\",y,\"i\")\n"
   ]
  },
  {
   "cell_type": "code",
   "execution_count": null,
   "metadata": {},
   "outputs": [],
   "source": []
  },
  {
   "cell_type": "code",
   "execution_count": 3,
   "metadata": {},
   "outputs": [
    {
     "name": "stdout",
     "output_type": "stream",
     "text": [
      "Enter no  1\n",
      "Enter Real no :1\n",
      "Enter Complex no : 3\n",
      "Enter no  2\n",
      "Enter Real no :4\n",
      "Enter Complex no : 6\n",
      "3 + 3 i\n"
     ]
    }
   ],
   "source": [
    "subComplexNo()"
   ]
  },
  {
   "cell_type": "markdown",
   "metadata": {},
   "source": [
    "# Question 2 :\n",
    "Write a program to find the fourth root of a number.\n"
   ]
  },
  {
   "cell_type": "code",
   "execution_count": 28,
   "metadata": {},
   "outputs": [],
   "source": [
    "import math\n",
    "def findFourthRoot(x):\n",
    "    y=math.sqrt(x)\n",
    "    return math.sqrt(y)"
   ]
  },
  {
   "cell_type": "code",
   "execution_count": 31,
   "metadata": {},
   "outputs": [
    {
     "name": "stdout",
     "output_type": "stream",
     "text": [
      "3.34370152488211\n"
     ]
    }
   ],
   "source": [
    "ans = findFourthRoot(125)\n",
    "print(ans)"
   ]
  },
  {
   "cell_type": "code",
   "execution_count": 21,
   "metadata": {},
   "outputs": [
    {
     "data": {
      "text/plain": [
       "3.0"
      ]
     },
     "execution_count": 21,
     "metadata": {},
     "output_type": "execute_result"
    }
   ],
   "source": [
    "import math\n",
    "\n",
    "x=81\n",
    "y= math.sqrt(x)\n",
    "math.sqrt(y)"
   ]
  },
  {
   "cell_type": "markdown",
   "metadata": {},
   "source": [
    "# Question 3:\n",
    "Write a program to swap two numbers in Python with the help of a temporary variable.\n",
    " "
   ]
  },
  {
   "cell_type": "code",
   "execution_count": 42,
   "metadata": {},
   "outputs": [],
   "source": [
    "def swap(a,b):\n",
    "    c = a\n",
    "    a = b\n",
    "    b = c\n",
    "    return (a,b)"
   ]
  },
  {
   "cell_type": "code",
   "execution_count": 43,
   "metadata": {},
   "outputs": [
    {
     "name": "stdout",
     "output_type": "stream",
     "text": [
      "44 33\n"
     ]
    }
   ],
   "source": [
    "a=33\n",
    "b=44\n",
    "a,b=swap(a,b)\n",
    "print(a,b)"
   ]
  },
  {
   "cell_type": "markdown",
   "metadata": {},
   "source": [
    "# Question 4:\n",
    "Write a program to swap two numbers in Python without using a temporary variable.\n"
   ]
  },
  {
   "cell_type": "code",
   "execution_count": 45,
   "metadata": {},
   "outputs": [],
   "source": [
    "def swapWithOutVariable(a,b):\n",
    "    return (b,a)"
   ]
  },
  {
   "cell_type": "code",
   "execution_count": 46,
   "metadata": {},
   "outputs": [
    {
     "name": "stdout",
     "output_type": "stream",
     "text": [
      "22 11\n"
     ]
    }
   ],
   "source": [
    "a=11\n",
    "b=22\n",
    "a,b=swapWithOutVariable(a,b)\n",
    "print(a,b)"
   ]
  },
  {
   "cell_type": "markdown",
   "metadata": {},
   "source": [
    "# Question 5:\n",
    "Write a program to convert fahrenheit to kelvin and celsius both.\n"
   ]
  },
  {
   "cell_type": "code",
   "execution_count": 54,
   "metadata": {},
   "outputs": [],
   "source": [
    "def fToCAndFToK(fahrenheit):\n",
    "    celcius = (fahrenheit-32)*5/9\n",
    "    kelvin = (fahrenheit-32)*5/9+273.15\n",
    "    return (celcius,kelvin)\n",
    "    "
   ]
  },
  {
   "cell_type": "code",
   "execution_count": 55,
   "metadata": {},
   "outputs": [
    {
     "name": "stdout",
     "output_type": "stream",
     "text": [
      "Celcius is : 17.77777777777778\n",
      "Kelvin is : 290.92777777777775\n"
     ]
    }
   ],
   "source": [
    "C,K=fToCAndFToK(64)\n",
    "print(\"Celcius is :\",C)\n",
    "print(\"Kelvin is :\",K)"
   ]
  },
  {
   "cell_type": "markdown",
   "metadata": {},
   "source": [
    "# Question 6:\n",
    "Write a program to demonstrate all the available data types in Python. Hint: Use type() function."
   ]
  },
  {
   "cell_type": "code",
   "execution_count": 59,
   "metadata": {},
   "outputs": [
    {
     "name": "stdout",
     "output_type": "stream",
     "text": [
      "<class 'list'>\n",
      "<class 'tuple'>\n",
      "<class 'str'>\n",
      "<class 'dict'>\n",
      "<class 'set'>\n"
     ]
    }
   ],
   "source": [
    "# List\n",
    "l = ['a',1,23,3]\n",
    "print(type(l))\n",
    "\n",
    "#Tules\n",
    "t = (1,2,\"honey\")\n",
    "print(type(t))\n",
    "\n",
    "\n",
    "#string \n",
    "s = \"honey\"\n",
    "print(type(s))\n",
    "\n",
    "# Dicts\n",
    "d = {\"a\":1,\"b\":2}\n",
    "print(type(d))\n",
    "\n",
    "#sets\n",
    "s = {3,1,2}\n",
    "print(type(s))\n",
    "\n",
    "\n"
   ]
  },
  {
   "cell_type": "markdown",
   "metadata": {},
   "source": [
    "# Question 7:\n",
    "Create a Markdown cell in jupyter and list the steps discussed in the session by Dr. Darshan\n",
    "Ingle sir to create Github profile and upload Githubs Assignment link.# "
   ]
  },
  {
   "cell_type": "markdown",
   "metadata": {},
   "source": [
    "# Github And Assignment\n",
    "\n",
    "**Github Profile**\n",
    "1.Open github\n",
    "2.sign up\n",
    "3.sign in\n",
    "4.create repo\n",
    "\n",
    "**Github Assignment**\n",
    "1.After making repo download notebook from jupyter notebook\n",
    "2. make particular day folder and upload it to github\n",
    "3.you are ready to share now\n",
    "\n"
   ]
  },
  {
   "cell_type": "code",
   "execution_count": null,
   "metadata": {},
   "outputs": [],
   "source": []
  }
 ],
 "metadata": {
  "kernelspec": {
   "display_name": "Python 3",
   "language": "python",
   "name": "python3"
  },
  "language_info": {
   "codemirror_mode": {
    "name": "ipython",
    "version": 3
   },
   "file_extension": ".py",
   "mimetype": "text/x-python",
   "name": "python",
   "nbconvert_exporter": "python",
   "pygments_lexer": "ipython3",
   "version": "3.7.1"
  }
 },
 "nbformat": 4,
 "nbformat_minor": 2
}
