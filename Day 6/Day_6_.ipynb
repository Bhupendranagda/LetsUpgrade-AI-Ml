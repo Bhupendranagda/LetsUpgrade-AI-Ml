{
  "nbformat": 4,
  "nbformat_minor": 0,
  "metadata": {
    "colab": {
      "name": "Day 6 .ipynb",
      "provenance": []
    },
    "kernelspec": {
      "name": "python3",
      "display_name": "Python 3"
    }
  },
  "cells": [
    {
      "cell_type": "markdown",
      "metadata": {
        "id": "wxJTpCYK2uJN",
        "colab_type": "text"
      },
      "source": [
        "#question 1"
      ]
    },
    {
      "cell_type": "code",
      "metadata": {
        "id": "SPTIG7MK2Tlt",
        "colab_type": "code",
        "colab": {
          "base_uri": "https://localhost:8080/",
          "height": 50
        },
        "outputId": "364c6f54-4de8-46c3-f83e-e0885d113359"
      },
      "source": [
        "email = input('Enter you email')\n",
        "\n",
        "e = email.split('@')\n",
        "e = e[1]\n",
        "ans = e.split('.')\n",
        "\n",
        "print(\"Your company name is \",ans[0])"
      ],
      "execution_count": 8,
      "outputs": [
        {
          "output_type": "stream",
          "text": [
            "Enter you emailhoney@bittu.com\n",
            "Your company name is  bittu\n"
          ],
          "name": "stdout"
        }
      ]
    },
    {
      "cell_type": "markdown",
      "metadata": {
        "id": "jY7hbP0V3z06",
        "colab_type": "text"
      },
      "source": [
        "#Question 2"
      ]
    },
    {
      "cell_type": "code",
      "metadata": {
        "id": "cncaj9sI22Tz",
        "colab_type": "code",
        "colab": {
          "base_uri": "https://localhost:8080/",
          "height": 34
        },
        "outputId": "ba76c0f2-b02d-4124-95ee-845696ba7668"
      },
      "source": [
        "l = ['without','hello','bag','world']\n",
        "l.sort()\n",
        "print(l)"
      ],
      "execution_count": 14,
      "outputs": [
        {
          "output_type": "stream",
          "text": [
            "['bag', 'hello', 'without', 'world']\n"
          ],
          "name": "stdout"
        }
      ]
    },
    {
      "cell_type": "markdown",
      "metadata": {
        "id": "WZ6u2mJ15QA6",
        "colab_type": "text"
      },
      "source": [
        "#Question 3"
      ]
    },
    {
      "cell_type": "code",
      "metadata": {
        "id": "Pkf_76RJ5G38",
        "colab_type": "code",
        "colab": {
          "base_uri": "https://localhost:8080/",
          "height": 34
        },
        "outputId": "1f0de880-3f64-4993-c0ed-bc6a299e82ac"
      },
      "source": [
        "fruits = {\"apple\", \"banana\", \"cherry\"}\n",
        "\n",
        "fruits.add(\"orange\")\n",
        "\n",
        "print(fruits)"
      ],
      "execution_count": 17,
      "outputs": [
        {
          "output_type": "stream",
          "text": [
            "{'apple', 'orange', 'banana', 'cherry'}\n"
          ],
          "name": "stdout"
        }
      ]
    },
    {
      "cell_type": "code",
      "metadata": {
        "id": "W0phfsst5UWf",
        "colab_type": "code",
        "colab": {
          "base_uri": "https://localhost:8080/",
          "height": 34
        },
        "outputId": "bd8aeb50-200b-4586-f64f-3fe79f2b9b29"
      },
      "source": [
        "fruits = {\"apple\", \"banana\", \"cherry\"}\n",
        "\n",
        "x = fruits.copy()\n",
        "\n",
        "print(x)"
      ],
      "execution_count": 19,
      "outputs": [
        {
          "output_type": "stream",
          "text": [
            "{'apple', 'banana', 'cherry'}\n"
          ],
          "name": "stdout"
        }
      ]
    },
    {
      "cell_type": "code",
      "metadata": {
        "id": "585iS9Us5Um0",
        "colab_type": "code",
        "colab": {
          "base_uri": "https://localhost:8080/",
          "height": 34
        },
        "outputId": "a4feab33-2c03-4eee-9b5b-a34fff64e457"
      },
      "source": [
        "x = {\"f\", \"e\", \"d\", \"c\", \"b\", \"a\"}\n",
        "y = {\"a\", \"b\", \"c\"}\n",
        "\n",
        "z = x.issuperset(y)\n",
        "\n",
        "print(z)\n"
      ],
      "execution_count": 20,
      "outputs": [
        {
          "output_type": "stream",
          "text": [
            "True\n"
          ],
          "name": "stdout"
        }
      ]
    },
    {
      "cell_type": "code",
      "metadata": {
        "id": "a1BTMyxE5UwA",
        "colab_type": "code",
        "colab": {
          "base_uri": "https://localhost:8080/",
          "height": 34
        },
        "outputId": "92f7eeed-9765-44bb-c069-a8e0fd889ef4"
      },
      "source": [
        "x = {\"apple\", \"banana\", \"cherry\"}\n",
        "y = {\"google\", \"microsoft\", \"apple\"}\n",
        "\n",
        "z = x.intersection(y)\n",
        "\n",
        "print(z)"
      ],
      "execution_count": 21,
      "outputs": [
        {
          "output_type": "stream",
          "text": [
            "{'apple'}\n"
          ],
          "name": "stdout"
        }
      ]
    },
    {
      "cell_type": "code",
      "metadata": {
        "id": "DnoM54GR5U35",
        "colab_type": "code",
        "colab": {
          "base_uri": "https://localhost:8080/",
          "height": 34
        },
        "outputId": "af84c8bf-3dfe-46dc-998a-c3d387c4ded4"
      },
      "source": [
        "fruits = {\"apple\", \"banana\", \"cherry\"}\n",
        "\n",
        "fruits.pop()\n",
        "\n",
        "print(fruits)\n"
      ],
      "execution_count": 22,
      "outputs": [
        {
          "output_type": "stream",
          "text": [
            "{'banana', 'cherry'}\n"
          ],
          "name": "stdout"
        }
      ]
    },
    {
      "cell_type": "code",
      "metadata": {
        "id": "BeUeoCXX5U0h",
        "colab_type": "code",
        "colab": {}
      },
      "source": [
        ""
      ],
      "execution_count": null,
      "outputs": []
    },
    {
      "cell_type": "code",
      "metadata": {
        "id": "cmGNmSkc5Ur7",
        "colab_type": "code",
        "colab": {
          "base_uri": "https://localhost:8080/",
          "height": 34
        },
        "outputId": "e416494b-f9bf-446d-efd3-6b85c522ad5e"
      },
      "source": [
        "fruits = {\"apple\", \"banana\", \"cherry\"}\n",
        "\n",
        "fruits.clear()\n",
        "\n",
        "print(fruits)"
      ],
      "execution_count": 18,
      "outputs": [
        {
          "output_type": "stream",
          "text": [
            "set()\n"
          ],
          "name": "stdout"
        }
      ]
    },
    {
      "cell_type": "code",
      "metadata": {
        "id": "5m47bHtf5Ujv",
        "colab_type": "code",
        "colab": {
          "base_uri": "https://localhost:8080/",
          "height": 34
        },
        "outputId": "b7c060ec-c1e8-4cf4-ad4e-cd9ee25b3704"
      },
      "source": [
        "x = {\"apple\", \"banana\", \"cherry\"}\n",
        "y = {\"google\", \"microsoft\", \"apple\"}\n",
        "\n",
        "z = x.difference(y)\n",
        "\n",
        "print(z)"
      ],
      "execution_count": 23,
      "outputs": [
        {
          "output_type": "stream",
          "text": [
            "{'banana', 'cherry'}\n"
          ],
          "name": "stdout"
        }
      ]
    },
    {
      "cell_type": "markdown",
      "metadata": {
        "id": "N5TTQuQo4vEu",
        "colab_type": "text"
      },
      "source": [
        "#Question 4\n",
        "\n",
        "\n"
      ]
    },
    {
      "cell_type": "code",
      "metadata": {
        "id": "QkdTjcbB4C-9",
        "colab_type": "code",
        "colab": {
          "base_uri": "https://localhost:8080/",
          "height": 34
        },
        "outputId": "e8e51b33-604e-4724-a826-93a2ad43f8ac"
      },
      "source": [
        "def find_missing(lst): \n",
        "    return [x for x in range(lst[0], lst[-1]+1)  \n",
        "                               if x not in lst] \n",
        "  \n",
        "# Driver code \n",
        "lst = [1, 2, 4, 6, 7, 9, 10] \n",
        "print(find_missing(lst)) "
      ],
      "execution_count": 15,
      "outputs": [
        {
          "output_type": "stream",
          "text": [
            "[3, 5, 8]\n"
          ],
          "name": "stdout"
        }
      ]
    },
    {
      "cell_type": "markdown",
      "metadata": {
        "id": "AbwbKc4p5CTL",
        "colab_type": "text"
      },
      "source": [
        "#Question 5"
      ]
    },
    {
      "cell_type": "code",
      "metadata": {
        "id": "mjTtXWz-4txw",
        "colab_type": "code",
        "colab": {
          "base_uri": "https://localhost:8080/",
          "height": 50
        },
        "outputId": "0401fbe9-4024-43da-97e9-783333a2e1f5"
      },
      "source": [
        "test_list = [1, 3, 5, 6, 3, 5, 6, 1] \n",
        "print (\"The original list is : \" +  str(test_list)) \n",
        "  \n",
        "# using naive method \n",
        "# to remove duplicated  \n",
        "# from list  \n",
        "res = [] \n",
        "for i in test_list: \n",
        "    if i not in res: \n",
        "        res.append(i) \n",
        "  \n",
        "# printing list after removal  \n",
        "print (\"The list after removing duplicates : \" + str(res))"
      ],
      "execution_count": 16,
      "outputs": [
        {
          "output_type": "stream",
          "text": [
            "The original list is : [1, 3, 5, 6, 3, 5, 6, 1]\n",
            "The list after removing duplicates : [1, 3, 5, 6]\n"
          ],
          "name": "stdout"
        }
      ]
    },
    {
      "cell_type": "code",
      "metadata": {
        "id": "0FqhHdFN5BIB",
        "colab_type": "code",
        "colab": {}
      },
      "source": [
        ""
      ],
      "execution_count": null,
      "outputs": []
    }
  ]
}