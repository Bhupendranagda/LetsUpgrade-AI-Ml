{
  "nbformat": 4,
  "nbformat_minor": 0,
  "metadata": {
    "colab": {
      "name": "Day4.ipynb",
      "provenance": [],
      "collapsed_sections": []
    },
    "kernelspec": {
      "name": "python3",
      "display_name": "Python 3"
    }
  },
  "cells": [
    {
      "cell_type": "code",
      "metadata": {
        "id": "hfgi3aLuWS7k",
        "colab_type": "code",
        "colab": {}
      },
      "source": [
        ""
      ],
      "execution_count": null,
      "outputs": []
    },
    {
      "cell_type": "markdown",
      "metadata": {
        "id": "DehjylviWWZ7",
        "colab_type": "text"
      },
      "source": [
        "#Question 1 :\n",
        "Research on whether addition, subtraction, multiplication, division, floor division and modulo\n",
        "operations be performed on complex numbers. Based on your study, implement a Python\n",
        "program to demonstrate these operations.\n"
      ]
    },
    {
      "cell_type": "code",
      "metadata": {
        "id": "SiANc0cQWXtG",
        "colab_type": "code",
        "colab": {
          "base_uri": "https://localhost:8080/",
          "height": 84
        },
        "outputId": "f5f72c77-3191-4e73-9cfd-d2aa5480a9df"
      },
      "source": [
        "def addComplex(z1,z2):\n",
        "  return z1+z2\n",
        "\n",
        "def subComplex(z1,z2):\n",
        "  return z1-z2\n",
        "\n",
        "def mulComplex(z1,z2):\n",
        "  return z1*z2\n",
        "\n",
        "def divComplex(z1,z2):\n",
        "  return z1/z2\n",
        "\n",
        "\n",
        "z1 = complex(3,4)\n",
        "z2 = complex(8,-2)\n",
        "\n",
        "ans1 = addComplex(z1,z2)\n",
        "ans2 = subComplex(z1,z2)\n",
        "ans3 =  mulComplex(z1,z2)\n",
        "ans4 = divComplex(z1,z2)\n",
        "\n",
        "\n",
        "print(\"Addition is :\",ans1)\n",
        "print(\"Subtraction is :\",ans2)\n",
        "print(\"Multiplication is :\",ans3)\n",
        "print(\"Division is :\",ans4)\n"
      ],
      "execution_count": 10,
      "outputs": [
        {
          "output_type": "stream",
          "text": [
            "Addition is : (11+2j)\n",
            "Subtraction is : (-5+6j)\n",
            "Multiplication is : (32+26j)\n",
            "Division is : (0.23529411764705882+0.5588235294117647j)\n"
          ],
          "name": "stdout"
        }
      ]
    },
    {
      "cell_type": "markdown",
      "metadata": {
        "id": "WBhaxWKCb5KW",
        "colab_type": "text"
      },
      "source": [
        "#Question 2 :\n",
        "Research on range() functions and its parameters. Create a markdown cell and write in your own\n",
        "words (no copy-paste from google please) what you understand about it. Implement a small\n",
        "program of your choice on the same.\n"
      ]
    },
    {
      "cell_type": "markdown",
      "metadata": {
        "id": "4gVHCGaJcaEg",
        "colab_type": "text"
      },
      "source": [
        "#Range\n",
        "\n",
        "##Works\n",
        "Range is a function which is use to generate a number between particular numbers like for example generate any number from 1 to 100 so will use range there \n",
        "Second most popular use of range is in looping through a list of tupple with for or while loop\n",
        "\n",
        "##Arguments\n",
        "\n",
        "start : from where the range should start\n",
        "\n",
        "End : Till where the last value but last one is not included\n",
        "\n",
        "step : how much we have to skip between values\n"
      ]
    },
    {
      "cell_type": "code",
      "metadata": {
        "id": "7Gz4Jq_kdmQJ",
        "colab_type": "code",
        "colab": {
          "base_uri": "https://localhost:8080/",
          "height": 50
        },
        "outputId": "41782127-c616-474e-cb82-d2e3b88f2f94"
      },
      "source": [
        "l = [10,20,3,30,2,1]\n",
        "sum=0\n",
        "for i in range(len(l)):\n",
        "  sum += l[i]\n",
        "\n",
        "print (sum)\n",
        "\n",
        "# second tarika\n",
        "s=0\n",
        "for i in range(1,11):\n",
        "  s+=i\n",
        "\n",
        "print(s)\n",
        "\n"
      ],
      "execution_count": 18,
      "outputs": [
        {
          "output_type": "stream",
          "text": [
            "66\n",
            "55\n"
          ],
          "name": "stdout"
        }
      ]
    },
    {
      "cell_type": "code",
      "metadata": {
        "id": "B6Voictcdt5L",
        "colab_type": "code",
        "colab": {}
      },
      "source": [
        ""
      ],
      "execution_count": null,
      "outputs": []
    },
    {
      "cell_type": "markdown",
      "metadata": {
        "id": "wRGO2k56e6Pw",
        "colab_type": "text"
      },
      "source": [
        "#Question 3:\n",
        "\n",
        " Consider two numbers. Perform their subtraction and if the result of subtraction is greater than\n",
        "25, print their multiplication result else print their division result"
      ]
    },
    {
      "cell_type": "code",
      "metadata": {
        "id": "4-2hEKU5e-rn",
        "colab_type": "code",
        "colab": {}
      },
      "source": [
        "def sub(a,b):\n",
        "  z= a-b\n",
        "  if(z>25):\n",
        "    return a*b\n",
        "  \n",
        "  return a/b\n"
      ],
      "execution_count": 20,
      "outputs": []
    },
    {
      "cell_type": "code",
      "metadata": {
        "id": "DydsTvf8fJV0",
        "colab_type": "code",
        "colab": {
          "base_uri": "https://localhost:8080/",
          "height": 34
        },
        "outputId": "7abd1370-ff4d-4f34-a5ba-77df8f287f5d"
      },
      "source": [
        "sub(40 ,10)"
      ],
      "execution_count": 22,
      "outputs": [
        {
          "output_type": "execute_result",
          "data": {
            "text/plain": [
              "400"
            ]
          },
          "metadata": {
            "tags": []
          },
          "execution_count": 22
        }
      ]
    },
    {
      "cell_type": "code",
      "metadata": {
        "id": "HvhQ-dopfOwj",
        "colab_type": "code",
        "colab": {}
      },
      "source": [
        ""
      ],
      "execution_count": null,
      "outputs": []
    },
    {
      "cell_type": "markdown",
      "metadata": {
        "id": "Ib16bbzefZDD",
        "colab_type": "text"
      },
      "source": [
        "#Question 4:\n",
        "Consider a list of 10 elements of integer values. If the number in the list is divisible by 2, print the\n",
        "result as \"square of that number minus 2\"."
      ]
    },
    {
      "cell_type": "code",
      "metadata": {
        "id": "GH2uHqvvfbjT",
        "colab_type": "code",
        "colab": {
          "base_uri": "https://localhost:8080/",
          "height": 134
        },
        "outputId": "50156c9c-1b00-4dba-c43e-d0fa0c0f6e02"
      },
      "source": [
        "l = [ 20,34,2,65,41,31,6,78,4,32]\n",
        "# len(l)\n",
        "\n",
        "for i in range(len(l)):\n",
        "  if(l[i]%2==0):\n",
        "    z=l[i]*l[i]\n",
        "    print(z-2)\n",
        "    \n"
      ],
      "execution_count": 24,
      "outputs": [
        {
          "output_type": "stream",
          "text": [
            "398\n",
            "1154\n",
            "2\n",
            "34\n",
            "6082\n",
            "14\n",
            "1022\n"
          ],
          "name": "stdout"
        }
      ]
    },
    {
      "cell_type": "markdown",
      "metadata": {
        "id": "mVdNZs51gBuM",
        "colab_type": "text"
      },
      "source": [
        "#Question 5:\n",
        "Consider a list of 10 elements. Print all the elements in the list which are greater than 7 when that\n",
        "number is divided 2."
      ]
    },
    {
      "cell_type": "code",
      "metadata": {
        "id": "tKSiKTlHflJb",
        "colab_type": "code",
        "colab": {
          "base_uri": "https://localhost:8080/",
          "height": 118
        },
        "outputId": "b24e6e22-8b99-4bd2-aa88-5f9579ad8cf9"
      },
      "source": [
        "l = [23,45,67,34,23,12,6,2,7,2,34,13]\n",
        "\n",
        "for i in range( len (l)):\n",
        "  ans = l[i]/2\n",
        "  if(ans>7):\n",
        "    print(l[i])"
      ],
      "execution_count": 30,
      "outputs": [
        {
          "output_type": "stream",
          "text": [
            "23\n",
            "45\n",
            "67\n",
            "34\n",
            "23\n",
            "34\n"
          ],
          "name": "stdout"
        }
      ]
    },
    {
      "cell_type": "code",
      "metadata": {
        "id": "tE-E_ZrLgbeO",
        "colab_type": "code",
        "colab": {}
      },
      "source": [
        ""
      ],
      "execution_count": null,
      "outputs": []
    }
  ]
}