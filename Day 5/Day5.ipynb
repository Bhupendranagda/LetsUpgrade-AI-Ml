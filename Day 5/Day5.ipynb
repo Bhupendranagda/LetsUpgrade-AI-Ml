{
  "nbformat": 4,
  "nbformat_minor": 0,
  "metadata": {
    "colab": {
      "name": "Day5.ipynb",
      "provenance": []
    },
    "kernelspec": {
      "name": "python3",
      "display_name": "Python 3"
    }
  },
  "cells": [
    {
      "cell_type": "markdown",
      "metadata": {
        "id": "hEkjPt-QPctd",
        "colab_type": "text"
      },
      "source": [
        "#Question 1 :\n",
        "Write a Python program to find the first 20 non-even prime natural numbers."
      ]
    },
    {
      "cell_type": "code",
      "metadata": {
        "id": "YQP0wnbOOw1G",
        "colab_type": "code",
        "colab": {}
      },
      "source": [
        "def firstNPrime(n):\n",
        "  nos = range(1,n*10)\n",
        "  l = []\n",
        "  for i in nos:\n",
        "    if i >2 and len(l)<=n-1:\n",
        "      for j in range(2,i):\n",
        "        if i%j==0:\n",
        "          break;\n",
        "      else:\n",
        "          l.append(i)\n",
        "  \n",
        "  for i in l:\n",
        "    print(i,end=\" \")\n"
      ],
      "execution_count": 1,
      "outputs": []
    },
    {
      "cell_type": "code",
      "metadata": {
        "id": "3FSA59LRPlK-",
        "colab_type": "code",
        "colab": {
          "base_uri": "https://localhost:8080/",
          "height": 50
        },
        "outputId": "ac1a845c-2b7a-4cc4-aa2d-b5e13436a18f"
      },
      "source": [
        "no = int(input(\"Enter how many number you want??\"))\n",
        "firstNPrime(no)"
      ],
      "execution_count": 2,
      "outputs": [
        {
          "output_type": "stream",
          "text": [
            "Enter how many number you want??20\n",
            "3 5 7 11 13 17 19 23 29 31 37 41 43 47 53 59 61 67 71 73 "
          ],
          "name": "stdout"
        }
      ]
    },
    {
      "cell_type": "markdown",
      "metadata": {
        "id": "wdVe4fI-ZGE4",
        "colab_type": "text"
      },
      "source": [
        "# Question 3\n",
        "Write a Python program to check if the given string is a Palindrome or Anagram or None of them.\n",
        "Display the message accordingly to the user.\n"
      ]
    },
    {
      "cell_type": "code",
      "metadata": {
        "id": "8O9lodLJSsZ7",
        "colab_type": "code",
        "colab": {}
      },
      "source": [
        "\n",
        "def checkString(str1,str2):\n",
        "  rev = str1[::-1]\n",
        "  if str1 == rev and sorted(str1) == sorted(str2):\n",
        "    print(\"Its a Palindrome and anagram\")  \n",
        "  elif (sorted(str1)== sorted(str2)): \n",
        "      print(\"Its anagram\")\n",
        "  else :\n",
        "    print(\"The strings are anagrams.\")\n",
        "  \n"
      ],
      "execution_count": 11,
      "outputs": []
    },
    {
      "cell_type": "code",
      "metadata": {
        "id": "1cJYRod0Zps1",
        "colab_type": "code",
        "colab": {
          "base_uri": "https://localhost:8080/",
          "height": 67
        },
        "outputId": "7c8e9d79-01f0-40d9-b834-e37186dcfe9a"
      },
      "source": [
        "str1 = input(\"Enter 1st string  \")\n",
        "str2 = input(\"Enter 2nd string  \")\n",
        "\n",
        "checkString(str1,str2)"
      ],
      "execution_count": 12,
      "outputs": [
        {
          "output_type": "stream",
          "text": [
            "Enter 1st string  rubal\n",
            "Enter 2nd string  labur\n",
            "Its anagram\n"
          ],
          "name": "stdout"
        }
      ]
    },
    {
      "cell_type": "markdown",
      "metadata": {
        "id": "-Uajq_4GnE3f",
        "colab_type": "text"
      },
      "source": [
        "#Question 4:\n",
        "Write a Python's user defined function that removes all the additional characters from the string\n",
        "and converts it finally to lower case using built-in lower(). eg: If the string is \"Dr. Darshan Ingle\n",
        "@AI-ML Trainer\", then the output be \"drdarshaningle aimltrainer\"."
      ]
    },
    {
      "cell_type": "code",
      "metadata": {
        "id": "GFiBU1p_alt_",
        "colab_type": "code",
        "colab": {}
      },
      "source": [
        "def removeChar(str1):\n",
        "  bad_chars = [';', ':', '!', \"*\",\"@\"] \n",
        "  for i in bad_chars:\n",
        "    str1 = str1.replace(i,\"\")\n",
        "    str2 = str1.lower()\n",
        "  print(str2)\n",
        "  "
      ],
      "execution_count": 17,
      "outputs": []
    },
    {
      "cell_type": "code",
      "metadata": {
        "id": "dfz4Bl0lnVVs",
        "colab_type": "code",
        "colab": {
          "base_uri": "https://localhost:8080/",
          "height": 34
        },
        "outputId": "f4b27d05-f042-444b-c9e2-7a863be04230"
      },
      "source": [
        "removeChar(\"HONEY @dr.Darshan Ingle\")"
      ],
      "execution_count": 18,
      "outputs": [
        {
          "output_type": "stream",
          "text": [
            "honey dr.darshan ingle\n"
          ],
          "name": "stdout"
        }
      ]
    },
    {
      "cell_type": "markdown",
      "metadata": {
        "id": "CRl0F_g-pTs-",
        "colab_type": "text"
      },
      "source": [
        "#Question 2\n",
        "Write a Python program to implement 15 functions of string.\n"
      ]
    },
    {
      "cell_type": "code",
      "metadata": {
        "id": "BsAWKoHlnXsb",
        "colab_type": "code",
        "colab": {
          "base_uri": "https://localhost:8080/",
          "height": 840
        },
        "outputId": "978830e9-a3d4-4ec7-9ce0-9c04c90ab826"
      },
      "source": [
        "str1 = \"honn1ey\"\n",
        "str2 = \"beauty\"\n",
        "str3 = \"gd\"\n",
        "str4=\"i,am,running,goinf,to,bastek,kaka\"\n",
        "\n",
        "# Find \n",
        "print(\"1.Find Function \")\n",
        "print(str1.find('e'))\n",
        "\n",
        "#capitalize\n",
        "print(\"\\n 2.Capitalize Function\")\n",
        "print(str2.capitalize())\n",
        "print(str1.capitalize())\n",
        "\n",
        "#Count \n",
        "print(\"\\n 3.Count Function\")\n",
        "print(str1.count('n'))\n",
        "\n",
        "#center\n",
        "print(\"\\n 4.Center Function\")\n",
        "print(str1.center(20))\n",
        "print(str2.center(10))\n",
        "\n",
        "#IsAlpha\n",
        "print(\"\\n 5 IsAlpha \")\n",
        "print(str1.isalpha())\n",
        "\n",
        "#Isalnum\n",
        "print(\"\\n 6 isAlnum\")\n",
        "print(str1.isalnum())\n",
        "\n",
        "#Isdigit\n",
        "print(\"\\n 7 isDigit\")\n",
        "print(str1.isdigit())\n",
        "\n",
        "\n",
        "#Isdigit\n",
        "print(\"\\n 8 IS Lower\")\n",
        "print(str1.islower())\n",
        "\n",
        "#Isdigit\n",
        "print(\"\\n 9 IS Upper\")\n",
        "print(str1.isupper())\n",
        "\n",
        "#Join\n",
        "print(\"\\n 10 Join\")\n",
        "print(str1.join(str3))\n",
        "\n",
        "#lower\n",
        "print(\"\\n 11 Lower\")\n",
        "print(str1.lower())\n",
        "\n",
        "#replace\n",
        "print(\"\\n 12 Replace\")\n",
        "print(str1.replace('1',''))\n",
        "\n",
        "\n",
        "#Split\n",
        "print(\"\\n 13 Split\")\n",
        "print(str4.split(\",\",1))\n",
        "\n",
        "#Strip\n",
        "print(\"\\n 13 Strip\")\n",
        "print(str4.strip())\n",
        "\n",
        "#swapCase\n",
        "print(\"\\n 14 swapCase\")\n",
        "print(str1.swapcase())\n",
        "\n",
        "#Upper\n",
        "print(\"\\n 13 Upper\")\n",
        "print(str4.upper())\n",
        "\n"
      ],
      "execution_count": 62,
      "outputs": [
        {
          "output_type": "stream",
          "text": [
            "1.Find Function \n",
            "5\n",
            "\n",
            " 2.Capitalize Function\n",
            "Beauty\n",
            "Honn1ey\n",
            "\n",
            " 3.Count Function\n",
            "2\n",
            "\n",
            " 4.Center Function\n",
            "      honn1ey       \n",
            "  beauty  \n",
            "\n",
            " 5 IsAlpha \n",
            "False\n",
            "\n",
            " 6 isAlnum\n",
            "True\n",
            "\n",
            " 7 isDigit\n",
            "False\n",
            "\n",
            " 8 IS Lower\n",
            "True\n",
            "\n",
            " 9 IS Upper\n",
            "False\n",
            "\n",
            " 10 Join\n",
            "ghonn1eyd\n",
            "\n",
            " 11 Lower\n",
            "honn1ey\n",
            "\n",
            " 12 Replace\n",
            "honney\n",
            "\n",
            " 13 Split\n",
            "['i', 'am,running,goinf,to,bastek,kaka']\n",
            "\n",
            " 13 Strip\n",
            "i,am,running,goinf,to,bastek,kaka\n",
            "\n",
            " 14 swapCase\n",
            "HONN1EY\n",
            "\n",
            " 13 Upper\n",
            "I,AM,RUNNING,GOINF,TO,BASTEK,KAKA\n"
          ],
          "name": "stdout"
        }
      ]
    },
    {
      "cell_type": "code",
      "metadata": {
        "id": "JNhi8JK-phcB",
        "colab_type": "code",
        "colab": {}
      },
      "source": [
        ""
      ],
      "execution_count": null,
      "outputs": []
    }
  ]
}