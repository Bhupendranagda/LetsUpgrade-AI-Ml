{
  "nbformat": 4,
  "nbformat_minor": 0,
  "metadata": {
    "colab": {
      "name": "Day 12 Assignment.ipynb",
      "provenance": [],
      "collapsed_sections": []
    },
    "kernelspec": {
      "name": "python3",
      "display_name": "Python 3"
    }
  },
  "cells": [
    {
      "cell_type": "markdown",
      "metadata": {
        "id": "ut4eIlilobWO",
        "colab_type": "text"
      },
      "source": [
        "#Day 12 Assignment"
      ]
    },
    {
      "cell_type": "code",
      "metadata": {
        "id": "EZM0KCZ_oXpB",
        "colab_type": "code",
        "colab": {}
      },
      "source": [
        "import pandas as pd\n",
        "import numpy as np\n"
      ],
      "execution_count": 1,
      "outputs": []
    },
    {
      "cell_type": "code",
      "metadata": {
        "id": "Z_u_xFSmoIUk",
        "colab_type": "code",
        "colab": {}
      },
      "source": [
        "df = pd.read_csv('/content/drive/My Drive/Colab Notebooks/Day12/Copy of general_data - general_data.csv')"
      ],
      "execution_count": 2,
      "outputs": []
    },
    {
      "cell_type": "code",
      "metadata": {
        "id": "JTNzHD1upcbl",
        "colab_type": "code",
        "colab": {
          "base_uri": "https://localhost:8080/",
          "height": 299
        },
        "outputId": "3a2d03df-932a-496d-9fff-260dbc86d1fb"
      },
      "source": [
        "df.head()"
      ],
      "execution_count": 3,
      "outputs": [
        {
          "output_type": "execute_result",
          "data": {
            "text/html": [
              "<div>\n",
              "<style scoped>\n",
              "    .dataframe tbody tr th:only-of-type {\n",
              "        vertical-align: middle;\n",
              "    }\n",
              "\n",
              "    .dataframe tbody tr th {\n",
              "        vertical-align: top;\n",
              "    }\n",
              "\n",
              "    .dataframe thead th {\n",
              "        text-align: right;\n",
              "    }\n",
              "</style>\n",
              "<table border=\"1\" class=\"dataframe\">\n",
              "  <thead>\n",
              "    <tr style=\"text-align: right;\">\n",
              "      <th></th>\n",
              "      <th>Age</th>\n",
              "      <th>Attrition</th>\n",
              "      <th>BusinessTravel</th>\n",
              "      <th>Department</th>\n",
              "      <th>DistanceFromHome</th>\n",
              "      <th>Education</th>\n",
              "      <th>EducationField</th>\n",
              "      <th>EmployeeCount</th>\n",
              "      <th>EmployeeID</th>\n",
              "      <th>Gender</th>\n",
              "      <th>JobLevel</th>\n",
              "      <th>JobRole</th>\n",
              "      <th>MaritalStatus</th>\n",
              "      <th>MonthlyIncome</th>\n",
              "      <th>NumCompaniesWorked</th>\n",
              "      <th>Over18</th>\n",
              "      <th>PercentSalaryHike</th>\n",
              "      <th>StandardHours</th>\n",
              "      <th>StockOptionLevel</th>\n",
              "      <th>TotalWorkingYears</th>\n",
              "      <th>TrainingTimesLastYear</th>\n",
              "      <th>YearsAtCompany</th>\n",
              "      <th>YearsSinceLastPromotion</th>\n",
              "      <th>YearsWithCurrManager</th>\n",
              "    </tr>\n",
              "  </thead>\n",
              "  <tbody>\n",
              "    <tr>\n",
              "      <th>0</th>\n",
              "      <td>51</td>\n",
              "      <td>No</td>\n",
              "      <td>Travel_Rarely</td>\n",
              "      <td>Sales</td>\n",
              "      <td>6</td>\n",
              "      <td>2</td>\n",
              "      <td>Life Sciences</td>\n",
              "      <td>1</td>\n",
              "      <td>1</td>\n",
              "      <td>Female</td>\n",
              "      <td>1</td>\n",
              "      <td>Healthcare Representative</td>\n",
              "      <td>Married</td>\n",
              "      <td>131160</td>\n",
              "      <td>1.0</td>\n",
              "      <td>Y</td>\n",
              "      <td>11</td>\n",
              "      <td>8</td>\n",
              "      <td>0</td>\n",
              "      <td>1.0</td>\n",
              "      <td>6</td>\n",
              "      <td>1</td>\n",
              "      <td>0</td>\n",
              "      <td>0</td>\n",
              "    </tr>\n",
              "    <tr>\n",
              "      <th>1</th>\n",
              "      <td>31</td>\n",
              "      <td>Yes</td>\n",
              "      <td>Travel_Frequently</td>\n",
              "      <td>Research &amp; Development</td>\n",
              "      <td>10</td>\n",
              "      <td>1</td>\n",
              "      <td>Life Sciences</td>\n",
              "      <td>1</td>\n",
              "      <td>2</td>\n",
              "      <td>Female</td>\n",
              "      <td>1</td>\n",
              "      <td>Research Scientist</td>\n",
              "      <td>Single</td>\n",
              "      <td>41890</td>\n",
              "      <td>0.0</td>\n",
              "      <td>Y</td>\n",
              "      <td>23</td>\n",
              "      <td>8</td>\n",
              "      <td>1</td>\n",
              "      <td>6.0</td>\n",
              "      <td>3</td>\n",
              "      <td>5</td>\n",
              "      <td>1</td>\n",
              "      <td>4</td>\n",
              "    </tr>\n",
              "    <tr>\n",
              "      <th>2</th>\n",
              "      <td>32</td>\n",
              "      <td>No</td>\n",
              "      <td>Travel_Frequently</td>\n",
              "      <td>Research &amp; Development</td>\n",
              "      <td>17</td>\n",
              "      <td>4</td>\n",
              "      <td>Other</td>\n",
              "      <td>1</td>\n",
              "      <td>3</td>\n",
              "      <td>Male</td>\n",
              "      <td>4</td>\n",
              "      <td>Sales Executive</td>\n",
              "      <td>Married</td>\n",
              "      <td>193280</td>\n",
              "      <td>1.0</td>\n",
              "      <td>Y</td>\n",
              "      <td>15</td>\n",
              "      <td>8</td>\n",
              "      <td>3</td>\n",
              "      <td>5.0</td>\n",
              "      <td>2</td>\n",
              "      <td>5</td>\n",
              "      <td>0</td>\n",
              "      <td>3</td>\n",
              "    </tr>\n",
              "    <tr>\n",
              "      <th>3</th>\n",
              "      <td>38</td>\n",
              "      <td>No</td>\n",
              "      <td>Non-Travel</td>\n",
              "      <td>Research &amp; Development</td>\n",
              "      <td>2</td>\n",
              "      <td>5</td>\n",
              "      <td>Life Sciences</td>\n",
              "      <td>1</td>\n",
              "      <td>4</td>\n",
              "      <td>Male</td>\n",
              "      <td>3</td>\n",
              "      <td>Human Resources</td>\n",
              "      <td>Married</td>\n",
              "      <td>83210</td>\n",
              "      <td>3.0</td>\n",
              "      <td>Y</td>\n",
              "      <td>11</td>\n",
              "      <td>8</td>\n",
              "      <td>3</td>\n",
              "      <td>13.0</td>\n",
              "      <td>5</td>\n",
              "      <td>8</td>\n",
              "      <td>7</td>\n",
              "      <td>5</td>\n",
              "    </tr>\n",
              "    <tr>\n",
              "      <th>4</th>\n",
              "      <td>32</td>\n",
              "      <td>No</td>\n",
              "      <td>Travel_Rarely</td>\n",
              "      <td>Research &amp; Development</td>\n",
              "      <td>10</td>\n",
              "      <td>1</td>\n",
              "      <td>Medical</td>\n",
              "      <td>1</td>\n",
              "      <td>5</td>\n",
              "      <td>Male</td>\n",
              "      <td>1</td>\n",
              "      <td>Sales Executive</td>\n",
              "      <td>Single</td>\n",
              "      <td>23420</td>\n",
              "      <td>4.0</td>\n",
              "      <td>Y</td>\n",
              "      <td>12</td>\n",
              "      <td>8</td>\n",
              "      <td>2</td>\n",
              "      <td>9.0</td>\n",
              "      <td>2</td>\n",
              "      <td>6</td>\n",
              "      <td>0</td>\n",
              "      <td>4</td>\n",
              "    </tr>\n",
              "  </tbody>\n",
              "</table>\n",
              "</div>"
            ],
            "text/plain": [
              "   Age Attrition  ... YearsSinceLastPromotion YearsWithCurrManager\n",
              "0   51        No  ...                       0                    0\n",
              "1   31       Yes  ...                       1                    4\n",
              "2   32        No  ...                       0                    3\n",
              "3   38        No  ...                       7                    5\n",
              "4   32        No  ...                       0                    4\n",
              "\n",
              "[5 rows x 24 columns]"
            ]
          },
          "metadata": {
            "tags": []
          },
          "execution_count": 3
        }
      ]
    },
    {
      "cell_type": "code",
      "metadata": {
        "id": "lqG-VlXbq2uX",
        "colab_type": "code",
        "colab": {}
      },
      "source": [
        "from sklearn import preprocessing\n",
        "\n",
        "label_encoder = preprocessing.LabelEncoder()\n",
        "\n",
        "df['Attrition'] = label_encoder.fit_transform(df['Attrition'])"
      ],
      "execution_count": 4,
      "outputs": []
    },
    {
      "cell_type": "code",
      "metadata": {
        "id": "po9POjXspdmb",
        "colab_type": "code",
        "colab": {
          "base_uri": "https://localhost:8080/",
          "height": 134
        },
        "outputId": "4b72b22b-fb59-4021-ccc3-b10a43a91b64"
      },
      "source": [
        "df.columns"
      ],
      "execution_count": 5,
      "outputs": [
        {
          "output_type": "execute_result",
          "data": {
            "text/plain": [
              "Index(['Age', 'Attrition', 'BusinessTravel', 'Department', 'DistanceFromHome',\n",
              "       'Education', 'EducationField', 'EmployeeCount', 'EmployeeID', 'Gender',\n",
              "       'JobLevel', 'JobRole', 'MaritalStatus', 'MonthlyIncome',\n",
              "       'NumCompaniesWorked', 'Over18', 'PercentSalaryHike', 'StandardHours',\n",
              "       'StockOptionLevel', 'TotalWorkingYears', 'TrainingTimesLastYear',\n",
              "       'YearsAtCompany', 'YearsSinceLastPromotion', 'YearsWithCurrManager'],\n",
              "      dtype='object')"
            ]
          },
          "metadata": {
            "tags": []
          },
          "execution_count": 5
        }
      ]
    },
    {
      "cell_type": "markdown",
      "metadata": {
        "id": "a64GKTRJpwn_",
        "colab_type": "text"
      },
      "source": [
        "#Attrition vs Distance From home"
      ]
    },
    {
      "cell_type": "code",
      "metadata": {
        "id": "lJo8n_k9pmd2",
        "colab_type": "code",
        "colab": {}
      },
      "source": [
        "from scipy.stats import mannwhitneyu\n"
      ],
      "execution_count": 6,
      "outputs": []
    },
    {
      "cell_type": "code",
      "metadata": {
        "id": "xp_rjFHXp8xh",
        "colab_type": "code",
        "colab": {}
      },
      "source": [
        "a1 = df.Attrition\n",
        "a2 = df.DistanceFromHome\n"
      ],
      "execution_count": 7,
      "outputs": []
    },
    {
      "cell_type": "code",
      "metadata": {
        "id": "08gy3ZMdqKCY",
        "colab_type": "code",
        "colab": {
          "base_uri": "https://localhost:8080/",
          "height": 34
        },
        "outputId": "b1b3e207-ba4d-400a-c0a1-ab6db977cdc9"
      },
      "source": [
        "stat,p = mannwhitneyu(a1,a2)\n",
        "print(stat,p)\n"
      ],
      "execution_count": 8,
      "outputs": [
        {
          "output_type": "stream",
          "text": [
            "221832.0 0.0\n"
          ],
          "name": "stdout"
        }
      ]
    },
    {
      "cell_type": "markdown",
      "metadata": {
        "id": "4lFCTOb7Sy6h",
        "colab_type": "text"
      },
      "source": [
        "#####As the p value is less than 0.05 then h0 is rejected and ha is accepted.\n",
        "#####H0 :- There is no significance between Attrition And Distance from home\n",
        "#####H1 :- there is significance between attrition and distance \n",
        "#####Inference :- The Attrition is affected by the Distance From home."
      ]
    },
    {
      "cell_type": "markdown",
      "metadata": {
        "id": "pVaruj7CSP4I",
        "colab_type": "text"
      },
      "source": [
        "#Attrition vs Total working years\n"
      ]
    },
    {
      "cell_type": "code",
      "metadata": {
        "id": "5KMQ6I5sqRZG",
        "colab_type": "code",
        "colab": {
          "base_uri": "https://localhost:8080/",
          "height": 34
        },
        "outputId": "d45af5d7-35ab-477b-c950-c02fb40d6c62"
      },
      "source": [
        "from scipy.stats import mannwhitneyu\n",
        "\n",
        "a1 = df['Attrition']\n",
        "a2 = df['TotalWorkingYears']\n",
        "\n",
        "stat,p = mannwhitneyu(a1,a2)\n",
        "print(stat,p)"
      ],
      "execution_count": 13,
      "outputs": [
        {
          "output_type": "stream",
          "text": [
            "170527.5 0.0\n"
          ],
          "name": "stdout"
        }
      ]
    },
    {
      "cell_type": "markdown",
      "metadata": {
        "id": "e7qKRuXhS4zU",
        "colab_type": "text"
      },
      "source": [
        "#####As the p value is less than 0.05 then h0 is rejected and ha is accepted.\n",
        "\n",
        "##### H0 :- There is no significance between Attrition And Total working Years\n",
        "##### h1 :- There is significance between attrition and Total working years\n",
        "\n",
        "##### Inference :- The Attrition is affected by the Total working years because as people \n",
        "##### with less working years swift or change company fast fast."
      ]
    },
    {
      "cell_type": "markdown",
      "metadata": {
        "id": "lz5-f0jSSYyl",
        "colab_type": "text"
      },
      "source": [
        "#Attrition vs Years at company"
      ]
    },
    {
      "cell_type": "code",
      "metadata": {
        "id": "En0rdRdRtj5h",
        "colab_type": "code",
        "colab": {
          "base_uri": "https://localhost:8080/",
          "height": 34
        },
        "outputId": "f29397c2-ca1a-46cb-832f-783f1dcaecfc"
      },
      "source": [
        "from scipy.stats import mannwhitneyu\n",
        "\n",
        "a1 = df['Attrition']\n",
        "a2 = df['YearsAtCompany']\n",
        "\n",
        "stat,p = mannwhitneyu(a1,a2)\n",
        "print(stat,p)"
      ],
      "execution_count": 14,
      "outputs": [
        {
          "output_type": "stream",
          "text": [
            "520357.5 0.0\n"
          ],
          "name": "stdout"
        }
      ]
    },
    {
      "cell_type": "markdown",
      "metadata": {
        "id": "zeggLhYKTA35",
        "colab_type": "text"
      },
      "source": [
        "#####As the p value is less than 0.05 then h0 is rejected and ha is accepted.\n",
        "\n",
        "##### H0 :- There is no significance between Attrition And Years at company\n",
        "##### h1 :- There is significance between attrition and Years at company\n",
        "\n",
        "##### Inference :- The Attrition is affected by the Years at company because as people \n",
        "##### with less years at company swift or change company fast fast."
      ]
    },
    {
      "cell_type": "markdown",
      "metadata": {
        "id": "OLzZAYBeShKc",
        "colab_type": "text"
      },
      "source": [
        "#Attrition vs YearsWithCurrManager"
      ]
    },
    {
      "cell_type": "code",
      "metadata": {
        "id": "J03-WSVZ0ui7",
        "colab_type": "code",
        "colab": {
          "base_uri": "https://localhost:8080/",
          "height": 34
        },
        "outputId": "70843d6d-da5b-4d39-c57f-eb2770648291"
      },
      "source": [
        "from scipy.stats import mannwhitneyu\n",
        "\n",
        "a1 = df['Attrition']\n",
        "a2 = df['YearsWithCurrManager']\n",
        "\n",
        "stat,p = mannwhitneyu(a1,a2)\n",
        "print(stat,p)"
      ],
      "execution_count": 15,
      "outputs": [
        {
          "output_type": "stream",
          "text": [
            "2101288.5 0.0\n"
          ],
          "name": "stdout"
        }
      ]
    },
    {
      "cell_type": "markdown",
      "metadata": {
        "id": "TjrlYZ-rTEVJ",
        "colab_type": "text"
      },
      "source": [
        "#####As the p value is less than 0.05 then h0 is rejected and ha is accepted.\n",
        "\n",
        "##### H0 :- There is no significance between Attrition And Years with current Manager\n",
        "##### h1 :- There is significance between attrition and Years with current Manager\n",
        "\n",
        "##### Inference :- The Attrition is affected by the Years with current Manager because as people \n",
        "##### with more Years with current Manager is they are not comfortable then they leave."
      ]
    },
    {
      "cell_type": "markdown",
      "metadata": {
        "id": "rV4f1vf9Skjo",
        "colab_type": "text"
      },
      "source": [
        "# Attrition vs EmployeeCount\n"
      ]
    },
    {
      "cell_type": "code",
      "metadata": {
        "id": "02ciAGh6SKde",
        "colab_type": "code",
        "colab": {
          "base_uri": "https://localhost:8080/",
          "height": 34
        },
        "outputId": "d4326532-e488-48ea-c0bc-0b0a0472acc7"
      },
      "source": [
        "a1 = df['Attrition']\n",
        "a2 = df['EmployeeCount']\n",
        "\n",
        "stat,p = mannwhitneyu(a1,a2)\n",
        "print(stat,p)"
      ],
      "execution_count": 16,
      "outputs": [
        {
          "output_type": "stream",
          "text": [
            "1567755.0 0.0\n"
          ],
          "name": "stdout"
        }
      ]
    },
    {
      "cell_type": "markdown",
      "metadata": {
        "id": "48ADgewFTJgw",
        "colab_type": "text"
      },
      "source": [
        "#####As the p value is less than 0.05 then h0 is rejected and ha is accepted.\n",
        "\n",
        "##### H0 :- There is no significance between Attrition And Employee count\n",
        "##### h1 :- There is significance between attrition and Employee count\n",
        "\n",
        "##### Inference :- The Attrition is affected by the Employee count."
      ]
    },
    {
      "cell_type": "markdown",
      "metadata": {
        "id": "b818Wyq8Souh",
        "colab_type": "text"
      },
      "source": [
        "#Attrition vs NumCompaniesWorked"
      ]
    },
    {
      "cell_type": "code",
      "metadata": {
        "id": "1PO6qH9XSMQQ",
        "colab_type": "code",
        "colab": {
          "base_uri": "https://localhost:8080/",
          "height": 34
        },
        "outputId": "8172b082-b11f-40d8-eed4-2535a0e49c50"
      },
      "source": [
        "a1 = df['Attrition']\n",
        "a2 = df['NumCompaniesWorked']\n",
        "\n",
        "stat,p = mannwhitneyu(a1,a2)\n",
        "print(stat,p)"
      ],
      "execution_count": 17,
      "outputs": [
        {
          "output_type": "stream",
          "text": [
            "2054322.0 0.0\n"
          ],
          "name": "stdout"
        }
      ]
    },
    {
      "cell_type": "markdown",
      "metadata": {
        "id": "UIIfSAfcTNG6",
        "colab_type": "text"
      },
      "source": [
        "#####As the p value is less than 0.05 then h0 is rejected and ha is accepted.\n",
        "\n",
        "##### H0 :- There is no significance between Attrition And NumCompaniesWorked\n",
        "##### h1 :- There is significance between attrition and NumCompaniesWorked\n",
        "\n",
        "#####Inference :- The Attrition is affected by the NumCompaniesWorked because they are most likely to leave company."
      ]
    },
    {
      "cell_type": "code",
      "metadata": {
        "id": "bQ8tJB_LTNUY",
        "colab_type": "code",
        "colab": {}
      },
      "source": [
        ""
      ],
      "execution_count": null,
      "outputs": []
    }
  ]
}