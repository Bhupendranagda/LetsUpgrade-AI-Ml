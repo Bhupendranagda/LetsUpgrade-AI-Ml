{
  "nbformat": 4,
  "nbformat_minor": 0,
  "metadata": {
    "colab": {
      "name": "Day 14 & 15 assignment.ipynb",
      "provenance": []
    },
    "kernelspec": {
      "name": "python3",
      "display_name": "Python 3"
    }
  },
  "cells": [
    {
      "cell_type": "markdown",
      "metadata": {
        "id": "5zqj_wesqR3N",
        "colab_type": "text"
      },
      "source": [
        "#1. Create a 3x3x3 array with random values¶\n"
      ]
    },
    {
      "cell_type": "code",
      "metadata": {
        "id": "x_IHIsC-mrdc",
        "colab_type": "code",
        "colab": {
          "base_uri": "https://localhost:8080/",
          "height": 67
        },
        "outputId": "50a9a61c-81e0-4d75-ed40-d1d5f4063b59"
      },
      "source": [
        "import numpy as np\n",
        "\n",
        "a = np.empty((3,3))\n",
        "print(a)"
      ],
      "execution_count": 1,
      "outputs": [
        {
          "output_type": "stream",
          "text": [
            "[[3.96504835e-316 3.45544493e-316 0.00000000e+000]\n",
            " [3.96512345e-316 2.59007472e-316 2.47032823e-323]\n",
            " [2.54768670e+179 2.59494502e-316 4.94065646e-324]]\n"
          ],
          "name": "stdout"
        }
      ]
    },
    {
      "cell_type": "markdown",
      "metadata": {
        "id": "hu3aulm3LJ2G",
        "colab_type": "text"
      },
      "source": [
        "#2.Create a 5x5 matrix with values 1,2,3,4 just below the diagonal¶"
      ]
    },
    {
      "cell_type": "code",
      "metadata": {
        "id": "n93gXT_jKo7M",
        "colab_type": "code",
        "colab": {
          "base_uri": "https://localhost:8080/",
          "height": 101
        },
        "outputId": "070a19dd-4b04-4ea5-ad6f-b1a12f7d72e1"
      },
      "source": [
        "a = np.zeros((5,5))\n",
        "print(a)"
      ],
      "execution_count": 2,
      "outputs": [
        {
          "output_type": "stream",
          "text": [
            "[[0. 0. 0. 0. 0.]\n",
            " [0. 0. 0. 0. 0.]\n",
            " [0. 0. 0. 0. 0.]\n",
            " [0. 0. 0. 0. 0.]\n",
            " [0. 0. 0. 0. 0.]]\n"
          ],
          "name": "stdout"
        }
      ]
    },
    {
      "cell_type": "code",
      "metadata": {
        "id": "f5kcNxWCLkbV",
        "colab_type": "code",
        "colab": {
          "base_uri": "https://localhost:8080/",
          "height": 168
        },
        "outputId": "5de36e59-2a36-42df-f60c-fc3c3a39bd93"
      },
      "source": [
        "import numpy as np\n",
        "x = np.ones((3,3))\n",
        "print(\"Checkerboard pattern:\")\n",
        "x = np.zeros((8,8),dtype=int)\n",
        "x[1::2,::2] = 1\n",
        "x[::2,1::2] = 1\n",
        "print(x)\n"
      ],
      "execution_count": 45,
      "outputs": [
        {
          "output_type": "stream",
          "text": [
            "Checkerboard pattern:\n",
            "[[0 1 0 1 0 1 0 1]\n",
            " [1 0 1 0 1 0 1 0]\n",
            " [0 1 0 1 0 1 0 1]\n",
            " [1 0 1 0 1 0 1 0]\n",
            " [0 1 0 1 0 1 0 1]\n",
            " [1 0 1 0 1 0 1 0]\n",
            " [0 1 0 1 0 1 0 1]\n",
            " [1 0 1 0 1 0 1 0]]\n"
          ],
          "name": "stdout"
        }
      ]
    },
    {
      "cell_type": "code",
      "metadata": {
        "id": "9radrz4vNRPI",
        "colab_type": "code",
        "colab": {}
      },
      "source": [
        ""
      ],
      "execution_count": 45,
      "outputs": []
    },
    {
      "cell_type": "markdown",
      "metadata": {
        "id": "Ky9Rog7cOEz9",
        "colab_type": "text"
      },
      "source": [
        "#3.Create a 8x8 matrix and fill it with a checkerboard pattern¶\n"
      ]
    },
    {
      "cell_type": "code",
      "metadata": {
        "id": "GwAHo-YkNR-M",
        "colab_type": "code",
        "colab": {}
      },
      "source": [
        "a = np.zeros((8,8))"
      ],
      "execution_count": 5,
      "outputs": []
    },
    {
      "cell_type": "code",
      "metadata": {
        "id": "vorzi21IOYvp",
        "colab_type": "code",
        "colab": {
          "base_uri": "https://localhost:8080/",
          "height": 151
        },
        "outputId": "f9ed39d2-8900-4e57-caaa-aa8fabfc861c"
      },
      "source": [
        "a"
      ],
      "execution_count": 6,
      "outputs": [
        {
          "output_type": "execute_result",
          "data": {
            "text/plain": [
              "array([[0., 0., 0., 0., 0., 0., 0., 0.],\n",
              "       [0., 0., 0., 0., 0., 0., 0., 0.],\n",
              "       [0., 0., 0., 0., 0., 0., 0., 0.],\n",
              "       [0., 0., 0., 0., 0., 0., 0., 0.],\n",
              "       [0., 0., 0., 0., 0., 0., 0., 0.],\n",
              "       [0., 0., 0., 0., 0., 0., 0., 0.],\n",
              "       [0., 0., 0., 0., 0., 0., 0., 0.],\n",
              "       [0., 0., 0., 0., 0., 0., 0., 0.]])"
            ]
          },
          "metadata": {
            "tags": []
          },
          "execution_count": 6
        }
      ]
    },
    {
      "cell_type": "code",
      "metadata": {
        "id": "Ju-Ifp4oObwC",
        "colab_type": "code",
        "colab": {}
      },
      "source": [
        "for i in range(len(a)):\n",
        "  for j in range(0,len(a),2):\n",
        "    a[i][j]=1"
      ],
      "execution_count": 7,
      "outputs": []
    },
    {
      "cell_type": "code",
      "metadata": {
        "id": "Es0dIQVyPKWx",
        "colab_type": "code",
        "colab": {
          "base_uri": "https://localhost:8080/",
          "height": 151
        },
        "outputId": "718fd3e3-2b4f-45a0-a982-d070099d3277"
      },
      "source": [
        "a\n"
      ],
      "execution_count": 8,
      "outputs": [
        {
          "output_type": "execute_result",
          "data": {
            "text/plain": [
              "array([[1., 0., 1., 0., 1., 0., 1., 0.],\n",
              "       [1., 0., 1., 0., 1., 0., 1., 0.],\n",
              "       [1., 0., 1., 0., 1., 0., 1., 0.],\n",
              "       [1., 0., 1., 0., 1., 0., 1., 0.],\n",
              "       [1., 0., 1., 0., 1., 0., 1., 0.],\n",
              "       [1., 0., 1., 0., 1., 0., 1., 0.],\n",
              "       [1., 0., 1., 0., 1., 0., 1., 0.],\n",
              "       [1., 0., 1., 0., 1., 0., 1., 0.]])"
            ]
          },
          "metadata": {
            "tags": []
          },
          "execution_count": 8
        }
      ]
    },
    {
      "cell_type": "markdown",
      "metadata": {
        "id": "ubI-_IoNRsi6",
        "colab_type": "text"
      },
      "source": [
        "#4. Normalize a 5x5 random matrix¶\n"
      ]
    },
    {
      "cell_type": "code",
      "metadata": {
        "id": "pbOoj68xPLCk",
        "colab_type": "code",
        "colab": {
          "base_uri": "https://localhost:8080/",
          "height": 101
        },
        "outputId": "a7996cb6-2e60-4332-a609-54cebd1a526c"
      },
      "source": [
        "\n",
        "b = np.ones((5,5))\n",
        "print(b)"
      ],
      "execution_count": 9,
      "outputs": [
        {
          "output_type": "stream",
          "text": [
            "[[1. 1. 1. 1. 1.]\n",
            " [1. 1. 1. 1. 1.]\n",
            " [1. 1. 1. 1. 1.]\n",
            " [1. 1. 1. 1. 1.]\n",
            " [1. 1. 1. 1. 1.]]\n"
          ],
          "name": "stdout"
        }
      ]
    },
    {
      "cell_type": "code",
      "metadata": {
        "id": "JPyyIPIKRyZr",
        "colab_type": "code",
        "colab": {
          "base_uri": "https://localhost:8080/",
          "height": 101
        },
        "outputId": "b020108e-7867-4f0a-8994-302a79a79d80"
      },
      "source": [
        "for i in  range(len(b)):\n",
        "  for j in range(len(b)):\n",
        "    b[i][j]=0\n",
        "  \n",
        "\n",
        "print(b)\n"
      ],
      "execution_count": 10,
      "outputs": [
        {
          "output_type": "stream",
          "text": [
            "[[0. 0. 0. 0. 0.]\n",
            " [0. 0. 0. 0. 0.]\n",
            " [0. 0. 0. 0. 0.]\n",
            " [0. 0. 0. 0. 0.]\n",
            " [0. 0. 0. 0. 0.]]\n"
          ],
          "name": "stdout"
        }
      ]
    },
    {
      "cell_type": "markdown",
      "metadata": {
        "id": "7uxnCqK7Q-8V",
        "colab_type": "text"
      },
      "source": [
        "#5. How to find common values between two arrays?¶\n"
      ]
    },
    {
      "cell_type": "code",
      "metadata": {
        "id": "wB9s5gp2Q_oc",
        "colab_type": "code",
        "colab": {
          "base_uri": "https://localhost:8080/",
          "height": 118
        },
        "outputId": "fad566ba-e4b0-4946-8b41-1d33307ca9e1"
      },
      "source": [
        "a = np.array([[1,2,3],[4,5,6],[7,8,9]])\n",
        "b = np.array([[3,2,1],[6,5,4],[9,8,7]])\n",
        "\n",
        "print(a)\n",
        "print(b)\n"
      ],
      "execution_count": 11,
      "outputs": [
        {
          "output_type": "stream",
          "text": [
            "[[1 2 3]\n",
            " [4 5 6]\n",
            " [7 8 9]]\n",
            "[[3 2 1]\n",
            " [6 5 4]\n",
            " [9 8 7]]\n"
          ],
          "name": "stdout"
        }
      ]
    },
    {
      "cell_type": "code",
      "metadata": {
        "id": "Ft9uWCSpRG-g",
        "colab_type": "code",
        "colab": {
          "base_uri": "https://localhost:8080/",
          "height": 67
        },
        "outputId": "46f3d526-bca2-4d90-8366-8633aca1e63d"
      },
      "source": [
        "for i in range(len(a)):\n",
        "  for j in range(len(b)):\n",
        "    if(a[i][j]==b[i][j]):\n",
        "      print(a[i][j])"
      ],
      "execution_count": 12,
      "outputs": [
        {
          "output_type": "stream",
          "text": [
            "2\n",
            "5\n",
            "8\n"
          ],
          "name": "stdout"
        }
      ]
    },
    {
      "cell_type": "markdown",
      "metadata": {
        "id": "SzBvmyyjR1t1",
        "colab_type": "text"
      },
      "source": [
        "#6.How to get the dates of yesterday, today and tomorrow?¶\n"
      ]
    },
    {
      "cell_type": "code",
      "metadata": {
        "id": "UtvI7LL7RxJe",
        "colab_type": "code",
        "colab": {
          "base_uri": "https://localhost:8080/",
          "height": 67
        },
        "outputId": "7deef8c9-36b1-462b-bdbb-2ac0989fec82"
      },
      "source": [
        "today = np.datetime64('today','D')\n",
        "print(\"Today\",today)\n",
        "tomorrow = np.datetime64('today','D') + np.timedelta64(1,'D')\n",
        "print('Tomorrow', tomorrow)\n",
        "yesterday = np.datetime64('today','D') - np.timedelta64(1,'D')\n",
        "print(\"yesterday\",tomorrow)\n"
      ],
      "execution_count": 13,
      "outputs": [
        {
          "output_type": "stream",
          "text": [
            "Today 2020-07-27\n",
            "Tomorrow 2020-07-28\n",
            "yesterday 2020-07-28\n"
          ],
          "name": "stdout"
        }
      ]
    },
    {
      "cell_type": "markdown",
      "metadata": {
        "id": "daPjHVeVS2uw",
        "colab_type": "text"
      },
      "source": [
        "#7. Consider two random array A and B, check if they are equal¶\n"
      ]
    },
    {
      "cell_type": "code",
      "metadata": {
        "id": "qFW5KWwGSEwe",
        "colab_type": "code",
        "colab": {
          "base_uri": "https://localhost:8080/",
          "height": 151
        },
        "outputId": "a74c0dd6-9986-4779-ae79-eccea7157074"
      },
      "source": [
        "a = np.array([[3,2,1],[6,5,4],[9,8,7]])\n",
        "b = np.array([[3,2,1],[6,5,4],[9,8,7]])\n",
        "\n",
        "print(a)\n",
        " \n",
        "print(b)\n",
        "# a = a+b\n",
        "# print(a)\n",
        "col = a.shape[1]\n",
        "row = a.shape[0]\n",
        "elements = col*row\n",
        "print(elements)\n",
        "print(len(a))"
      ],
      "execution_count": 14,
      "outputs": [
        {
          "output_type": "stream",
          "text": [
            "[[3 2 1]\n",
            " [6 5 4]\n",
            " [9 8 7]]\n",
            "[[3 2 1]\n",
            " [6 5 4]\n",
            " [9 8 7]]\n",
            "9\n",
            "3\n"
          ],
          "name": "stdout"
        }
      ]
    },
    {
      "cell_type": "code",
      "metadata": {
        "id": "AGvMvzvrSFiO",
        "colab_type": "code",
        "colab": {
          "base_uri": "https://localhost:8080/",
          "height": 34
        },
        "outputId": "86d5940b-34a2-45c4-d14c-2116701959f6"
      },
      "source": [
        "count=0\n",
        "if a.shape==b.shape:\n",
        "  for i in range(len(a)):\n",
        "    for j in range(len(b)):\n",
        "      if(a[i][j]==b[i][j]):\n",
        "        count = count+1\n",
        "  \n",
        "if count==elements:\n",
        "    print(\"Equal\")\n",
        "else :\n",
        "  print(\"No equal\")\n",
        "\n",
        "\n",
        "  \n",
        "\n"
      ],
      "execution_count": 15,
      "outputs": [
        {
          "output_type": "stream",
          "text": [
            "Equal\n"
          ],
          "name": "stdout"
        }
      ]
    },
    {
      "cell_type": "markdown",
      "metadata": {
        "id": "uJ6lT0uyVhEw",
        "colab_type": "text"
      },
      "source": [
        "#8.Create random vector of size 10 and replace the maximum value by 0¶\n"
      ]
    },
    {
      "cell_type": "code",
      "metadata": {
        "id": "Qkochxn5TSER",
        "colab_type": "code",
        "colab": {
          "base_uri": "https://localhost:8080/",
          "height": 50
        },
        "outputId": "eece311d-3581-4c8e-a505-4c52183d6b3f"
      },
      "source": [
        "v  = np.array([1,2,3,4,5,6,7,8,9,0])\n",
        "max_ele = v.max()\n",
        "\n",
        "print(\"Before replacing\",v)\n",
        "\n",
        "for i in range(len(v)):\n",
        "  if v[i]==max_ele:\n",
        "    v[i]=0\n",
        "\n",
        "print(\"After replacing\",v)\n"
      ],
      "execution_count": 16,
      "outputs": [
        {
          "output_type": "stream",
          "text": [
            "Before replacing [1 2 3 4 5 6 7 8 9 0]\n",
            "After replacing [1 2 3 4 5 6 7 8 0 0]\n"
          ],
          "name": "stdout"
        }
      ]
    },
    {
      "cell_type": "markdown",
      "metadata": {
        "id": "KIOkCMMiWfEV",
        "colab_type": "text"
      },
      "source": [
        "#9. How to print all the values of an array?¶\n"
      ]
    },
    {
      "cell_type": "code",
      "metadata": {
        "id": "Lr785rMHVvsl",
        "colab_type": "code",
        "colab": {
          "base_uri": "https://localhost:8080/",
          "height": 67
        },
        "outputId": "75627824-a5d9-4ba5-d754-949c7cb77654"
      },
      "source": [
        "b"
      ],
      "execution_count": 17,
      "outputs": [
        {
          "output_type": "execute_result",
          "data": {
            "text/plain": [
              "array([[3, 2, 1],\n",
              "       [6, 5, 4],\n",
              "       [9, 8, 7]])"
            ]
          },
          "metadata": {
            "tags": []
          },
          "execution_count": 17
        }
      ]
    },
    {
      "cell_type": "code",
      "metadata": {
        "id": "CgtC1DBjWhoM",
        "colab_type": "code",
        "colab": {
          "base_uri": "https://localhost:8080/",
          "height": 34
        },
        "outputId": "f7a6286d-431f-4e71-c1e0-730d48ba3de6"
      },
      "source": [
        "for i in range(len(b)):\n",
        "  for  j in range(len(b)):\n",
        "    print(b[i][j],end=\" \")\n"
      ],
      "execution_count": 18,
      "outputs": [
        {
          "output_type": "stream",
          "text": [
            "3 2 1 6 5 4 9 8 7 "
          ],
          "name": "stdout"
        }
      ]
    },
    {
      "cell_type": "markdown",
      "metadata": {
        "id": "GXivP0cAXCPt",
        "colab_type": "text"
      },
      "source": [
        "#10.Subtract the mean of each row of a matrix¶\n"
      ]
    },
    {
      "cell_type": "code",
      "metadata": {
        "id": "FVlVKqSGW8ge",
        "colab_type": "code",
        "colab": {
          "base_uri": "https://localhost:8080/",
          "height": 67
        },
        "outputId": "e71ff49e-9779-4fe1-a18e-e00f7cb8b55e"
      },
      "source": [
        "b\n"
      ],
      "execution_count": 19,
      "outputs": [
        {
          "output_type": "execute_result",
          "data": {
            "text/plain": [
              "array([[3, 2, 1],\n",
              "       [6, 5, 4],\n",
              "       [9, 8, 7]])"
            ]
          },
          "metadata": {
            "tags": []
          },
          "execution_count": 19
        }
      ]
    },
    {
      "cell_type": "code",
      "metadata": {
        "id": "9e9dXetVXDzh",
        "colab_type": "code",
        "colab": {
          "base_uri": "https://localhost:8080/",
          "height": 34
        },
        "outputId": "cb44478c-db0e-4729-9be2-32de43d7ca08"
      },
      "source": [
        "mean_val = b.mean()\n",
        "mean_val"
      ],
      "execution_count": 20,
      "outputs": [
        {
          "output_type": "execute_result",
          "data": {
            "text/plain": [
              "5.0"
            ]
          },
          "metadata": {
            "tags": []
          },
          "execution_count": 20
        }
      ]
    },
    {
      "cell_type": "code",
      "metadata": {
        "id": "ffBwW-P3XE70",
        "colab_type": "code",
        "colab": {
          "base_uri": "https://localhost:8080/",
          "height": 67
        },
        "outputId": "d7813f3a-ae92-48ad-fa77-4ee18f547810"
      },
      "source": [
        "for i in range(len(b)):\n",
        "  for j in range(len(b)):\n",
        "    b[i][j] = b[i][j]-mean_val\n",
        "\n",
        "b"
      ],
      "execution_count": 21,
      "outputs": [
        {
          "output_type": "execute_result",
          "data": {
            "text/plain": [
              "array([[-2, -3, -4],\n",
              "       [ 1,  0, -1],\n",
              "       [ 4,  3,  2]])"
            ]
          },
          "metadata": {
            "tags": []
          },
          "execution_count": 21
        }
      ]
    },
    {
      "cell_type": "markdown",
      "metadata": {
        "id": "yn0fgPqmYEC5",
        "colab_type": "text"
      },
      "source": [
        "#11.Consider a given vector, how to add 1 to each element indexed by a second vector (be careful with repeated indices)?¶\n"
      ]
    },
    {
      "cell_type": "code",
      "metadata": {
        "id": "C21N32XtYFt-",
        "colab_type": "code",
        "colab": {
          "base_uri": "https://localhost:8080/",
          "height": 34
        },
        "outputId": "289fcfd6-0397-4b13-a29a-480acf788018"
      },
      "source": [
        "v"
      ],
      "execution_count": 47,
      "outputs": [
        {
          "output_type": "execute_result",
          "data": {
            "text/plain": [
              "array([1, 2, 3, 4, 5, 6, 7, 8, 0, 0])"
            ]
          },
          "metadata": {
            "tags": []
          },
          "execution_count": 47
        }
      ]
    },
    {
      "cell_type": "code",
      "metadata": {
        "id": "PHH-DHmYYFyh",
        "colab_type": "code",
        "colab": {
          "base_uri": "https://localhost:8080/",
          "height": 34
        },
        "outputId": "6a9912b7-a1cb-4840-fc63-2b5655ef5088"
      },
      "source": [
        "for i in range(len(v)):\n",
        "  v[i] +=1\n",
        "\n",
        "v"
      ],
      "execution_count": 48,
      "outputs": [
        {
          "output_type": "execute_result",
          "data": {
            "text/plain": [
              "array([2, 3, 4, 5, 6, 7, 8, 9, 1, 1])"
            ]
          },
          "metadata": {
            "tags": []
          },
          "execution_count": 48
        }
      ]
    },
    {
      "cell_type": "code",
      "metadata": {
        "id": "itoBORipYFsd",
        "colab_type": "code",
        "colab": {}
      },
      "source": [
        ""
      ],
      "execution_count": 21,
      "outputs": []
    },
    {
      "cell_type": "markdown",
      "metadata": {
        "id": "jNHezE88XcSq",
        "colab_type": "text"
      },
      "source": [
        "#12.How to get the diagonal of a dot product?\n",
        "\n"
      ]
    },
    {
      "cell_type": "code",
      "metadata": {
        "id": "2y6Ik4_zXVZ5",
        "colab_type": "code",
        "colab": {
          "base_uri": "https://localhost:8080/",
          "height": 118
        },
        "outputId": "721abe7d-5fc0-4383-d82b-accc70b4c812"
      },
      "source": [
        "print(a)\n",
        "print(b)"
      ],
      "execution_count": 22,
      "outputs": [
        {
          "output_type": "stream",
          "text": [
            "[[3 2 1]\n",
            " [6 5 4]\n",
            " [9 8 7]]\n",
            "[[-2 -3 -4]\n",
            " [ 1  0 -1]\n",
            " [ 4  3  2]]\n"
          ],
          "name": "stdout"
        }
      ]
    },
    {
      "cell_type": "code",
      "metadata": {
        "id": "CGwZK2qsXiZk",
        "colab_type": "code",
        "colab": {
          "base_uri": "https://localhost:8080/",
          "height": 67
        },
        "outputId": "08b12f5c-6dd6-48d5-dabc-5dbfa6b59541"
      },
      "source": [
        "dot_product = a.dot(b)\n",
        "print(dot_product)"
      ],
      "execution_count": 23,
      "outputs": [
        {
          "output_type": "stream",
          "text": [
            "[[  0  -6 -12]\n",
            " [  9  -6 -21]\n",
            " [ 18  -6 -30]]\n"
          ],
          "name": "stdout"
        }
      ]
    },
    {
      "cell_type": "code",
      "metadata": {
        "id": "1Fx-4DGqXk72",
        "colab_type": "code",
        "colab": {
          "base_uri": "https://localhost:8080/",
          "height": 67
        },
        "outputId": "4862f307-4fbf-405d-b577-74fb9cf93e8c"
      },
      "source": [
        "for i in range(len(dot_product)):\n",
        "  for j in range(len(dot_product)):\n",
        "    if i==j:\n",
        "      print(dot_product[i][j])"
      ],
      "execution_count": 24,
      "outputs": [
        {
          "output_type": "stream",
          "text": [
            "0\n",
            "-6\n",
            "-30\n"
          ],
          "name": "stdout"
        }
      ]
    },
    {
      "cell_type": "markdown",
      "metadata": {
        "id": "vQZsGooPYWL4",
        "colab_type": "text"
      },
      "source": [
        "#13.How to find the most frequent value in an array?¶\n"
      ]
    },
    {
      "cell_type": "code",
      "metadata": {
        "id": "AKYsecXSX_pN",
        "colab_type": "code",
        "colab": {
          "base_uri": "https://localhost:8080/",
          "height": 50
        },
        "outputId": "f0b08496-9362-4e94-9c19-19590e14c0dc"
      },
      "source": [
        "x = np.random.randint(1,10,30)\n",
        "print(x)\n",
        "len(x)\n",
        "\n",
        "print(np.bincount(x).argmax())\n"
      ],
      "execution_count": 25,
      "outputs": [
        {
          "output_type": "stream",
          "text": [
            "[9 1 8 5 6 8 9 5 7 2 3 5 5 8 9 8 3 2 1 5 5 8 3 7 9 6 8 2 5 9]\n",
            "5\n"
          ],
          "name": "stdout"
        }
      ]
    },
    {
      "cell_type": "markdown",
      "metadata": {
        "id": "NrPeWlVEYXNV",
        "colab_type": "text"
      },
      "source": [
        "#14.How to get the n largest values of an array\n",
        "\n"
      ]
    },
    {
      "cell_type": "code",
      "metadata": {
        "id": "melFGNpSaxrX",
        "colab_type": "code",
        "colab": {
          "base_uri": "https://localhost:8080/",
          "height": 34
        },
        "outputId": "408233d9-2e6e-47b5-bc80-d41bf6632791"
      },
      "source": [
        "y = np.array([1,2,3,4,5,6,7])\n",
        "y\n",
        "print(y[:-3])"
      ],
      "execution_count": 41,
      "outputs": [
        {
          "output_type": "stream",
          "text": [
            "[1 2 3 4]\n"
          ],
          "name": "stdout"
        }
      ]
    },
    {
      "cell_type": "code",
      "metadata": {
        "id": "ifG0Vm99YZ_4",
        "colab_type": "code",
        "colab": {
          "base_uri": "https://localhost:8080/",
          "height": 101
        },
        "outputId": "b9bd3a8d-d45b-405a-ac75-a4d678b8d56c"
      },
      "source": [
        "import numpy as np\n",
        "x = np.arange(10)\n",
        "print(\"Original array:\")\n",
        "print(x)\n",
        "np.random.shuffle(x)\n",
        "print(x)\n",
        "n = 3\n",
        "print (x[np.argsort(x)])\n",
        "print (x[np.argsort(x)[-n:]])\n"
      ],
      "execution_count": 44,
      "outputs": [
        {
          "output_type": "stream",
          "text": [
            "Original array:\n",
            "[0 1 2 3 4 5 6 7 8 9]\n",
            "[9 8 0 5 6 4 2 7 3 1]\n",
            "[0 1 2 3 4 5 6 7 8 9]\n",
            "[7 8 9]\n"
          ],
          "name": "stdout"
        }
      ]
    },
    {
      "cell_type": "code",
      "metadata": {
        "id": "oFUZDVawa9_R",
        "colab_type": "code",
        "colab": {
          "base_uri": "https://localhost:8080/",
          "height": 34
        },
        "outputId": "48cf7d73-8613-4b75-b93b-8707a16a550c"
      },
      "source": [
        "nLargest(3)"
      ],
      "execution_count": 30,
      "outputs": [
        {
          "output_type": "stream",
          "text": [
            "7\n"
          ],
          "name": "stdout"
        }
      ]
    },
    {
      "cell_type": "markdown",
      "metadata": {
        "id": "XJRPDWlIdW7L",
        "colab_type": "text"
      },
      "source": [
        "#15.How to create a record array from a regular array?¶\n"
      ]
    },
    {
      "cell_type": "code",
      "metadata": {
        "id": "gGSBOq9Wblyw",
        "colab_type": "code",
        "colab": {
          "base_uri": "https://localhost:8080/",
          "height": 67
        },
        "outputId": "70d531c7-0905-4c50-b28c-a771b379200a"
      },
      "source": [
        "import numpy as np\n",
        "a1=np.array([1,2,3,4])\n",
        "a2=np.array(['Red','Green','White','Orange'])\n",
        "a3=np.array([12.20,15,20,40])\n",
        "result= np.core.records.fromarrays([a1, a2, a3],names='a,b,c')\n",
        "print(result[0])\n",
        "print(result[1])\n",
        "print(result[2])\n"
      ],
      "execution_count": 46,
      "outputs": [
        {
          "output_type": "stream",
          "text": [
            "(1, 'Red', 12.2)\n",
            "(2, 'Green', 15.)\n",
            "(3, 'White', 20.)\n"
          ],
          "name": "stdout"
        }
      ]
    },
    {
      "cell_type": "code",
      "metadata": {
        "id": "ywj3ldBEdbIH",
        "colab_type": "code",
        "colab": {}
      },
      "source": [
        ""
      ],
      "execution_count": null,
      "outputs": []
    }
  ]
}