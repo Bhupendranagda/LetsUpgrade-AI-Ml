{
  "nbformat": 4,
  "nbformat_minor": 0,
  "metadata": {
    "colab": {
      "name": "Day 11.ipynb",
      "provenance": []
    },
    "kernelspec": {
      "name": "python3",
      "display_name": "Python 3"
    }
  },
  "cells": [
    {
      "cell_type": "code",
      "metadata": {
        "id": "ZhDYpnQUZgK_",
        "colab_type": "code",
        "colab": {}
      },
      "source": [
        "import pandas as pd\n",
        "import numpy as np\n",
        "import matplotlib.pyplot as plt\n"
      ],
      "execution_count": 1,
      "outputs": []
    },
    {
      "cell_type": "code",
      "metadata": {
        "id": "Yuxxx0eEa4DH",
        "colab_type": "code",
        "colab": {}
      },
      "source": [
        "df = pd.read_csv('/content/drive/My Drive/Colab Notebooks/Day 11/general_data - general_data.csv')"
      ],
      "execution_count": 2,
      "outputs": []
    },
    {
      "cell_type": "code",
      "metadata": {
        "id": "GZaA6Uina7Bo",
        "colab_type": "code",
        "colab": {
          "base_uri": "https://localhost:8080/",
          "height": 299
        },
        "outputId": "6a03d41a-25a6-402c-a914-6d0e78c7aeba"
      },
      "source": [
        "df.head()"
      ],
      "execution_count": 3,
      "outputs": [
        {
          "output_type": "execute_result",
          "data": {
            "text/html": [
              "<div>\n",
              "<style scoped>\n",
              "    .dataframe tbody tr th:only-of-type {\n",
              "        vertical-align: middle;\n",
              "    }\n",
              "\n",
              "    .dataframe tbody tr th {\n",
              "        vertical-align: top;\n",
              "    }\n",
              "\n",
              "    .dataframe thead th {\n",
              "        text-align: right;\n",
              "    }\n",
              "</style>\n",
              "<table border=\"1\" class=\"dataframe\">\n",
              "  <thead>\n",
              "    <tr style=\"text-align: right;\">\n",
              "      <th></th>\n",
              "      <th>Age</th>\n",
              "      <th>Attrition</th>\n",
              "      <th>BusinessTravel</th>\n",
              "      <th>Department</th>\n",
              "      <th>DistanceFromHome</th>\n",
              "      <th>Education</th>\n",
              "      <th>EducationField</th>\n",
              "      <th>EmployeeCount</th>\n",
              "      <th>EmployeeID</th>\n",
              "      <th>Gender</th>\n",
              "      <th>JobLevel</th>\n",
              "      <th>JobRole</th>\n",
              "      <th>MaritalStatus</th>\n",
              "      <th>MonthlyIncome</th>\n",
              "      <th>NumCompaniesWorked</th>\n",
              "      <th>Over18</th>\n",
              "      <th>PercentSalaryHike</th>\n",
              "      <th>StandardHours</th>\n",
              "      <th>StockOptionLevel</th>\n",
              "      <th>TotalWorkingYears</th>\n",
              "      <th>TrainingTimesLastYear</th>\n",
              "      <th>YearsAtCompany</th>\n",
              "      <th>YearsSinceLastPromotion</th>\n",
              "      <th>YearsWithCurrManager</th>\n",
              "    </tr>\n",
              "  </thead>\n",
              "  <tbody>\n",
              "    <tr>\n",
              "      <th>0</th>\n",
              "      <td>51</td>\n",
              "      <td>No</td>\n",
              "      <td>Travel_Rarely</td>\n",
              "      <td>Sales</td>\n",
              "      <td>6</td>\n",
              "      <td>2</td>\n",
              "      <td>Life Sciences</td>\n",
              "      <td>1</td>\n",
              "      <td>1</td>\n",
              "      <td>Female</td>\n",
              "      <td>1</td>\n",
              "      <td>Healthcare Representative</td>\n",
              "      <td>Married</td>\n",
              "      <td>131160</td>\n",
              "      <td>1.0</td>\n",
              "      <td>Y</td>\n",
              "      <td>11</td>\n",
              "      <td>8</td>\n",
              "      <td>0</td>\n",
              "      <td>1.0</td>\n",
              "      <td>6</td>\n",
              "      <td>1</td>\n",
              "      <td>0</td>\n",
              "      <td>0</td>\n",
              "    </tr>\n",
              "    <tr>\n",
              "      <th>1</th>\n",
              "      <td>31</td>\n",
              "      <td>Yes</td>\n",
              "      <td>Travel_Frequently</td>\n",
              "      <td>Research &amp; Development</td>\n",
              "      <td>10</td>\n",
              "      <td>1</td>\n",
              "      <td>Life Sciences</td>\n",
              "      <td>1</td>\n",
              "      <td>2</td>\n",
              "      <td>Female</td>\n",
              "      <td>1</td>\n",
              "      <td>Research Scientist</td>\n",
              "      <td>Single</td>\n",
              "      <td>41890</td>\n",
              "      <td>0.0</td>\n",
              "      <td>Y</td>\n",
              "      <td>23</td>\n",
              "      <td>8</td>\n",
              "      <td>1</td>\n",
              "      <td>6.0</td>\n",
              "      <td>3</td>\n",
              "      <td>5</td>\n",
              "      <td>1</td>\n",
              "      <td>4</td>\n",
              "    </tr>\n",
              "    <tr>\n",
              "      <th>2</th>\n",
              "      <td>32</td>\n",
              "      <td>No</td>\n",
              "      <td>Travel_Frequently</td>\n",
              "      <td>Research &amp; Development</td>\n",
              "      <td>17</td>\n",
              "      <td>4</td>\n",
              "      <td>Other</td>\n",
              "      <td>1</td>\n",
              "      <td>3</td>\n",
              "      <td>Male</td>\n",
              "      <td>4</td>\n",
              "      <td>Sales Executive</td>\n",
              "      <td>Married</td>\n",
              "      <td>193280</td>\n",
              "      <td>1.0</td>\n",
              "      <td>Y</td>\n",
              "      <td>15</td>\n",
              "      <td>8</td>\n",
              "      <td>3</td>\n",
              "      <td>5.0</td>\n",
              "      <td>2</td>\n",
              "      <td>5</td>\n",
              "      <td>0</td>\n",
              "      <td>3</td>\n",
              "    </tr>\n",
              "    <tr>\n",
              "      <th>3</th>\n",
              "      <td>38</td>\n",
              "      <td>No</td>\n",
              "      <td>Non-Travel</td>\n",
              "      <td>Research &amp; Development</td>\n",
              "      <td>2</td>\n",
              "      <td>5</td>\n",
              "      <td>Life Sciences</td>\n",
              "      <td>1</td>\n",
              "      <td>4</td>\n",
              "      <td>Male</td>\n",
              "      <td>3</td>\n",
              "      <td>Human Resources</td>\n",
              "      <td>Married</td>\n",
              "      <td>83210</td>\n",
              "      <td>3.0</td>\n",
              "      <td>Y</td>\n",
              "      <td>11</td>\n",
              "      <td>8</td>\n",
              "      <td>3</td>\n",
              "      <td>13.0</td>\n",
              "      <td>5</td>\n",
              "      <td>8</td>\n",
              "      <td>7</td>\n",
              "      <td>5</td>\n",
              "    </tr>\n",
              "    <tr>\n",
              "      <th>4</th>\n",
              "      <td>32</td>\n",
              "      <td>No</td>\n",
              "      <td>Travel_Rarely</td>\n",
              "      <td>Research &amp; Development</td>\n",
              "      <td>10</td>\n",
              "      <td>1</td>\n",
              "      <td>Medical</td>\n",
              "      <td>1</td>\n",
              "      <td>5</td>\n",
              "      <td>Male</td>\n",
              "      <td>1</td>\n",
              "      <td>Sales Executive</td>\n",
              "      <td>Single</td>\n",
              "      <td>23420</td>\n",
              "      <td>4.0</td>\n",
              "      <td>Y</td>\n",
              "      <td>12</td>\n",
              "      <td>8</td>\n",
              "      <td>2</td>\n",
              "      <td>9.0</td>\n",
              "      <td>2</td>\n",
              "      <td>6</td>\n",
              "      <td>0</td>\n",
              "      <td>4</td>\n",
              "    </tr>\n",
              "  </tbody>\n",
              "</table>\n",
              "</div>"
            ],
            "text/plain": [
              "   Age Attrition  ... YearsSinceLastPromotion YearsWithCurrManager\n",
              "0   51        No  ...                       0                    0\n",
              "1   31       Yes  ...                       1                    4\n",
              "2   32        No  ...                       0                    3\n",
              "3   38        No  ...                       7                    5\n",
              "4   32        No  ...                       0                    4\n",
              "\n",
              "[5 rows x 24 columns]"
            ]
          },
          "metadata": {
            "tags": []
          },
          "execution_count": 3
        }
      ]
    },
    {
      "cell_type": "code",
      "metadata": {
        "id": "FjmDshEQbEhg",
        "colab_type": "code",
        "colab": {
          "base_uri": "https://localhost:8080/",
          "height": 304
        },
        "outputId": "85fd6423-33cf-4b92-98b5-772c44614fec"
      },
      "source": [
        "df.describe()"
      ],
      "execution_count": 4,
      "outputs": [
        {
          "output_type": "execute_result",
          "data": {
            "text/html": [
              "<div>\n",
              "<style scoped>\n",
              "    .dataframe tbody tr th:only-of-type {\n",
              "        vertical-align: middle;\n",
              "    }\n",
              "\n",
              "    .dataframe tbody tr th {\n",
              "        vertical-align: top;\n",
              "    }\n",
              "\n",
              "    .dataframe thead th {\n",
              "        text-align: right;\n",
              "    }\n",
              "</style>\n",
              "<table border=\"1\" class=\"dataframe\">\n",
              "  <thead>\n",
              "    <tr style=\"text-align: right;\">\n",
              "      <th></th>\n",
              "      <th>Age</th>\n",
              "      <th>DistanceFromHome</th>\n",
              "      <th>Education</th>\n",
              "      <th>EmployeeCount</th>\n",
              "      <th>EmployeeID</th>\n",
              "      <th>JobLevel</th>\n",
              "      <th>MonthlyIncome</th>\n",
              "      <th>NumCompaniesWorked</th>\n",
              "      <th>PercentSalaryHike</th>\n",
              "      <th>StandardHours</th>\n",
              "      <th>StockOptionLevel</th>\n",
              "      <th>TotalWorkingYears</th>\n",
              "      <th>TrainingTimesLastYear</th>\n",
              "      <th>YearsAtCompany</th>\n",
              "      <th>YearsSinceLastPromotion</th>\n",
              "      <th>YearsWithCurrManager</th>\n",
              "    </tr>\n",
              "  </thead>\n",
              "  <tbody>\n",
              "    <tr>\n",
              "      <th>count</th>\n",
              "      <td>4410.000000</td>\n",
              "      <td>4410.000000</td>\n",
              "      <td>4410.000000</td>\n",
              "      <td>4410.0</td>\n",
              "      <td>4410.000000</td>\n",
              "      <td>4410.000000</td>\n",
              "      <td>4410.000000</td>\n",
              "      <td>4391.000000</td>\n",
              "      <td>4410.000000</td>\n",
              "      <td>4410.0</td>\n",
              "      <td>4410.000000</td>\n",
              "      <td>4401.000000</td>\n",
              "      <td>4410.000000</td>\n",
              "      <td>4410.000000</td>\n",
              "      <td>4410.000000</td>\n",
              "      <td>4410.000000</td>\n",
              "    </tr>\n",
              "    <tr>\n",
              "      <th>mean</th>\n",
              "      <td>36.923810</td>\n",
              "      <td>9.192517</td>\n",
              "      <td>2.912925</td>\n",
              "      <td>1.0</td>\n",
              "      <td>2205.500000</td>\n",
              "      <td>2.063946</td>\n",
              "      <td>65029.312925</td>\n",
              "      <td>2.694830</td>\n",
              "      <td>15.209524</td>\n",
              "      <td>8.0</td>\n",
              "      <td>0.793878</td>\n",
              "      <td>11.279936</td>\n",
              "      <td>2.799320</td>\n",
              "      <td>7.008163</td>\n",
              "      <td>2.187755</td>\n",
              "      <td>4.123129</td>\n",
              "    </tr>\n",
              "    <tr>\n",
              "      <th>std</th>\n",
              "      <td>9.133301</td>\n",
              "      <td>8.105026</td>\n",
              "      <td>1.023933</td>\n",
              "      <td>0.0</td>\n",
              "      <td>1273.201673</td>\n",
              "      <td>1.106689</td>\n",
              "      <td>47068.888559</td>\n",
              "      <td>2.498887</td>\n",
              "      <td>3.659108</td>\n",
              "      <td>0.0</td>\n",
              "      <td>0.851883</td>\n",
              "      <td>7.782222</td>\n",
              "      <td>1.288978</td>\n",
              "      <td>6.125135</td>\n",
              "      <td>3.221699</td>\n",
              "      <td>3.567327</td>\n",
              "    </tr>\n",
              "    <tr>\n",
              "      <th>min</th>\n",
              "      <td>18.000000</td>\n",
              "      <td>1.000000</td>\n",
              "      <td>1.000000</td>\n",
              "      <td>1.0</td>\n",
              "      <td>1.000000</td>\n",
              "      <td>1.000000</td>\n",
              "      <td>10090.000000</td>\n",
              "      <td>0.000000</td>\n",
              "      <td>11.000000</td>\n",
              "      <td>8.0</td>\n",
              "      <td>0.000000</td>\n",
              "      <td>0.000000</td>\n",
              "      <td>0.000000</td>\n",
              "      <td>0.000000</td>\n",
              "      <td>0.000000</td>\n",
              "      <td>0.000000</td>\n",
              "    </tr>\n",
              "    <tr>\n",
              "      <th>25%</th>\n",
              "      <td>30.000000</td>\n",
              "      <td>2.000000</td>\n",
              "      <td>2.000000</td>\n",
              "      <td>1.0</td>\n",
              "      <td>1103.250000</td>\n",
              "      <td>1.000000</td>\n",
              "      <td>29110.000000</td>\n",
              "      <td>1.000000</td>\n",
              "      <td>12.000000</td>\n",
              "      <td>8.0</td>\n",
              "      <td>0.000000</td>\n",
              "      <td>6.000000</td>\n",
              "      <td>2.000000</td>\n",
              "      <td>3.000000</td>\n",
              "      <td>0.000000</td>\n",
              "      <td>2.000000</td>\n",
              "    </tr>\n",
              "    <tr>\n",
              "      <th>50%</th>\n",
              "      <td>36.000000</td>\n",
              "      <td>7.000000</td>\n",
              "      <td>3.000000</td>\n",
              "      <td>1.0</td>\n",
              "      <td>2205.500000</td>\n",
              "      <td>2.000000</td>\n",
              "      <td>49190.000000</td>\n",
              "      <td>2.000000</td>\n",
              "      <td>14.000000</td>\n",
              "      <td>8.0</td>\n",
              "      <td>1.000000</td>\n",
              "      <td>10.000000</td>\n",
              "      <td>3.000000</td>\n",
              "      <td>5.000000</td>\n",
              "      <td>1.000000</td>\n",
              "      <td>3.000000</td>\n",
              "    </tr>\n",
              "    <tr>\n",
              "      <th>75%</th>\n",
              "      <td>43.000000</td>\n",
              "      <td>14.000000</td>\n",
              "      <td>4.000000</td>\n",
              "      <td>1.0</td>\n",
              "      <td>3307.750000</td>\n",
              "      <td>3.000000</td>\n",
              "      <td>83800.000000</td>\n",
              "      <td>4.000000</td>\n",
              "      <td>18.000000</td>\n",
              "      <td>8.0</td>\n",
              "      <td>1.000000</td>\n",
              "      <td>15.000000</td>\n",
              "      <td>3.000000</td>\n",
              "      <td>9.000000</td>\n",
              "      <td>3.000000</td>\n",
              "      <td>7.000000</td>\n",
              "    </tr>\n",
              "    <tr>\n",
              "      <th>max</th>\n",
              "      <td>60.000000</td>\n",
              "      <td>29.000000</td>\n",
              "      <td>5.000000</td>\n",
              "      <td>1.0</td>\n",
              "      <td>4410.000000</td>\n",
              "      <td>5.000000</td>\n",
              "      <td>199990.000000</td>\n",
              "      <td>9.000000</td>\n",
              "      <td>25.000000</td>\n",
              "      <td>8.0</td>\n",
              "      <td>3.000000</td>\n",
              "      <td>40.000000</td>\n",
              "      <td>6.000000</td>\n",
              "      <td>40.000000</td>\n",
              "      <td>15.000000</td>\n",
              "      <td>17.000000</td>\n",
              "    </tr>\n",
              "  </tbody>\n",
              "</table>\n",
              "</div>"
            ],
            "text/plain": [
              "               Age  ...  YearsWithCurrManager\n",
              "count  4410.000000  ...           4410.000000\n",
              "mean     36.923810  ...              4.123129\n",
              "std       9.133301  ...              3.567327\n",
              "min      18.000000  ...              0.000000\n",
              "25%      30.000000  ...              2.000000\n",
              "50%      36.000000  ...              3.000000\n",
              "75%      43.000000  ...              7.000000\n",
              "max      60.000000  ...             17.000000\n",
              "\n",
              "[8 rows x 16 columns]"
            ]
          },
          "metadata": {
            "tags": []
          },
          "execution_count": 4
        }
      ]
    },
    {
      "cell_type": "code",
      "metadata": {
        "id": "5HqR7cdQbCbv",
        "colab_type": "code",
        "colab": {
          "base_uri": "https://localhost:8080/",
          "height": 538
        },
        "outputId": "8e02836b-338e-41ef-ef4e-a72e0c638895"
      },
      "source": [
        "df.info()"
      ],
      "execution_count": 5,
      "outputs": [
        {
          "output_type": "stream",
          "text": [
            "<class 'pandas.core.frame.DataFrame'>\n",
            "RangeIndex: 4410 entries, 0 to 4409\n",
            "Data columns (total 24 columns):\n",
            " #   Column                   Non-Null Count  Dtype  \n",
            "---  ------                   --------------  -----  \n",
            " 0   Age                      4410 non-null   int64  \n",
            " 1   Attrition                4410 non-null   object \n",
            " 2   BusinessTravel           4410 non-null   object \n",
            " 3   Department               4410 non-null   object \n",
            " 4   DistanceFromHome         4410 non-null   int64  \n",
            " 5   Education                4410 non-null   int64  \n",
            " 6   EducationField           4410 non-null   object \n",
            " 7   EmployeeCount            4410 non-null   int64  \n",
            " 8   EmployeeID               4410 non-null   int64  \n",
            " 9   Gender                   4410 non-null   object \n",
            " 10  JobLevel                 4410 non-null   int64  \n",
            " 11  JobRole                  4410 non-null   object \n",
            " 12  MaritalStatus            4410 non-null   object \n",
            " 13  MonthlyIncome            4410 non-null   int64  \n",
            " 14  NumCompaniesWorked       4391 non-null   float64\n",
            " 15  Over18                   4410 non-null   object \n",
            " 16  PercentSalaryHike        4410 non-null   int64  \n",
            " 17  StandardHours            4410 non-null   int64  \n",
            " 18  StockOptionLevel         4410 non-null   int64  \n",
            " 19  TotalWorkingYears        4401 non-null   float64\n",
            " 20  TrainingTimesLastYear    4410 non-null   int64  \n",
            " 21  YearsAtCompany           4410 non-null   int64  \n",
            " 22  YearsSinceLastPromotion  4410 non-null   int64  \n",
            " 23  YearsWithCurrManager     4410 non-null   int64  \n",
            "dtypes: float64(2), int64(14), object(8)\n",
            "memory usage: 827.0+ KB\n"
          ],
          "name": "stdout"
        }
      ]
    },
    {
      "cell_type": "code",
      "metadata": {
        "id": "mfjvGrI0cEPW",
        "colab_type": "code",
        "colab": {
          "base_uri": "https://localhost:8080/",
          "height": 437
        },
        "outputId": "72c36164-26d8-49ca-cdda-fec4c63494e3"
      },
      "source": [
        "#to check for null values\n",
        "df.isnull().sum()"
      ],
      "execution_count": 6,
      "outputs": [
        {
          "output_type": "execute_result",
          "data": {
            "text/plain": [
              "Age                         0\n",
              "Attrition                   0\n",
              "BusinessTravel              0\n",
              "Department                  0\n",
              "DistanceFromHome            0\n",
              "Education                   0\n",
              "EducationField              0\n",
              "EmployeeCount               0\n",
              "EmployeeID                  0\n",
              "Gender                      0\n",
              "JobLevel                    0\n",
              "JobRole                     0\n",
              "MaritalStatus               0\n",
              "MonthlyIncome               0\n",
              "NumCompaniesWorked         19\n",
              "Over18                      0\n",
              "PercentSalaryHike           0\n",
              "StandardHours               0\n",
              "StockOptionLevel            0\n",
              "TotalWorkingYears           9\n",
              "TrainingTimesLastYear       0\n",
              "YearsAtCompany              0\n",
              "YearsSinceLastPromotion     0\n",
              "YearsWithCurrManager        0\n",
              "dtype: int64"
            ]
          },
          "metadata": {
            "tags": []
          },
          "execution_count": 6
        }
      ]
    },
    {
      "cell_type": "code",
      "metadata": {
        "id": "AnId6Ku-bIsU",
        "colab_type": "code",
        "colab": {
          "base_uri": "https://localhost:8080/",
          "height": 134
        },
        "outputId": "8e40c2a3-1d81-475e-8808-d952cfb6d2cc"
      },
      "source": [
        "df.columns"
      ],
      "execution_count": 7,
      "outputs": [
        {
          "output_type": "execute_result",
          "data": {
            "text/plain": [
              "Index(['Age', 'Attrition', 'BusinessTravel', 'Department', 'DistanceFromHome',\n",
              "       'Education', 'EducationField', 'EmployeeCount', 'EmployeeID', 'Gender',\n",
              "       'JobLevel', 'JobRole', 'MaritalStatus', 'MonthlyIncome',\n",
              "       'NumCompaniesWorked', 'Over18', 'PercentSalaryHike', 'StandardHours',\n",
              "       'StockOptionLevel', 'TotalWorkingYears', 'TrainingTimesLastYear',\n",
              "       'YearsAtCompany', 'YearsSinceLastPromotion', 'YearsWithCurrManager'],\n",
              "      dtype='object')"
            ]
          },
          "metadata": {
            "tags": []
          },
          "execution_count": 7
        }
      ]
    },
    {
      "cell_type": "markdown",
      "metadata": {
        "id": "3VzsDjOxbNfx",
        "colab_type": "text"
      },
      "source": [
        "#Correlation between 2 vaariable"
      ]
    },
    {
      "cell_type": "code",
      "metadata": {
        "id": "gjijcefMbL3J",
        "colab_type": "code",
        "colab": {}
      },
      "source": [
        "from scipy.stats import pearsonr"
      ],
      "execution_count": 8,
      "outputs": []
    },
    {
      "cell_type": "code",
      "metadata": {
        "id": "VyZ-aKsTbkGL",
        "colab_type": "code",
        "colab": {}
      },
      "source": [
        "r,p = pearsonr(df.Age,df.MonthlyIncome)\n"
      ],
      "execution_count": 9,
      "outputs": []
    },
    {
      "cell_type": "code",
      "metadata": {
        "id": "mBlW74NRctFy",
        "colab_type": "code",
        "colab": {
          "base_uri": "https://localhost:8080/",
          "height": 34
        },
        "outputId": "ce1fb159-5d76-4798-8aa6-d0d3b45cdd44"
      },
      "source": [
        "print(r,p)"
      ],
      "execution_count": 10,
      "outputs": [
        {
          "output_type": "stream",
          "text": [
            "-0.044313921721458836 0.0032462548325940927\n"
          ],
          "name": "stdout"
        }
      ]
    },
    {
      "cell_type": "code",
      "metadata": {
        "id": "0IPlkrTSdDSd",
        "colab_type": "code",
        "colab": {}
      },
      "source": [
        "# p value is less than 0.05 so we can say our null hypothesis is rejected"
      ],
      "execution_count": 11,
      "outputs": []
    },
    {
      "cell_type": "markdown",
      "metadata": {
        "id": "bzhf4trReFO2",
        "colab_type": "text"
      },
      "source": [
        "#visualizing the r value"
      ]
    },
    {
      "cell_type": "code",
      "metadata": {
        "id": "LhPmY4kseII6",
        "colab_type": "code",
        "colab": {
          "base_uri": "https://localhost:8080/",
          "height": 282
        },
        "outputId": "aa432d97-8313-4f87-d964-3c9062eaa61d"
      },
      "source": [
        "plt.scatter(df.Age,df.MonthlyIncome)"
      ],
      "execution_count": 12,
      "outputs": [
        {
          "output_type": "execute_result",
          "data": {
            "text/plain": [
              "<matplotlib.collections.PathCollection at 0x7f77d3c92b38>"
            ]
          },
          "metadata": {
            "tags": []
          },
          "execution_count": 12
        },
        {
          "output_type": "display_data",
          "data": {
            "image/png": "[encoded data removed]",
            "text/plain": [
              "<Figure size 432x288 with 1 Axes>"
            ]
          },
          "metadata": {
            "tags": [],
            "needs_background": "light"
          }
        }
      ]
    },
    {
      "cell_type": "code",
      "metadata": {
        "id": "LtVU7cPtePW7",
        "colab_type": "code",
        "colab": {
          "base_uri": "https://localhost:8080/",
          "height": 541
        },
        "outputId": "b180b35e-319e-4f6a-ad4f-e3a3bd87638d"
      },
      "source": [
        "df.corr()"
      ],
      "execution_count": 13,
      "outputs": [
        {
          "output_type": "execute_result",
          "data": {
            "text/html": [
              "<div>\n",
              "<style scoped>\n",
              "    .dataframe tbody tr th:only-of-type {\n",
              "        vertical-align: middle;\n",
              "    }\n",
              "\n",
              "    .dataframe tbody tr th {\n",
              "        vertical-align: top;\n",
              "    }\n",
              "\n",
              "    .dataframe thead th {\n",
              "        text-align: right;\n",
              "    }\n",
              "</style>\n",
              "<table border=\"1\" class=\"dataframe\">\n",
              "  <thead>\n",
              "    <tr style=\"text-align: right;\">\n",
              "      <th></th>\n",
              "      <th>Age</th>\n",
              "      <th>DistanceFromHome</th>\n",
              "      <th>Education</th>\n",
              "      <th>EmployeeCount</th>\n",
              "      <th>EmployeeID</th>\n",
              "      <th>JobLevel</th>\n",
              "      <th>MonthlyIncome</th>\n",
              "      <th>NumCompaniesWorked</th>\n",
              "      <th>PercentSalaryHike</th>\n",
              "      <th>StandardHours</th>\n",
              "      <th>StockOptionLevel</th>\n",
              "      <th>TotalWorkingYears</th>\n",
              "      <th>TrainingTimesLastYear</th>\n",
              "      <th>YearsAtCompany</th>\n",
              "      <th>YearsSinceLastPromotion</th>\n",
              "      <th>YearsWithCurrManager</th>\n",
              "    </tr>\n",
              "  </thead>\n",
              "  <tbody>\n",
              "    <tr>\n",
              "      <th>Age</th>\n",
              "      <td>1.000000</td>\n",
              "      <td>0.006963</td>\n",
              "      <td>-0.035706</td>\n",
              "      <td>NaN</td>\n",
              "      <td>0.008649</td>\n",
              "      <td>-0.002884</td>\n",
              "      <td>-0.044314</td>\n",
              "      <td>0.299243</td>\n",
              "      <td>-0.033137</td>\n",
              "      <td>NaN</td>\n",
              "      <td>-0.031753</td>\n",
              "      <td>0.680661</td>\n",
              "      <td>-0.027308</td>\n",
              "      <td>0.311309</td>\n",
              "      <td>0.216513</td>\n",
              "      <td>0.202089</td>\n",
              "    </tr>\n",
              "    <tr>\n",
              "      <th>DistanceFromHome</th>\n",
              "      <td>0.006963</td>\n",
              "      <td>1.000000</td>\n",
              "      <td>-0.008638</td>\n",
              "      <td>NaN</td>\n",
              "      <td>-0.001097</td>\n",
              "      <td>-0.037329</td>\n",
              "      <td>-0.021607</td>\n",
              "      <td>-0.013843</td>\n",
              "      <td>0.038125</td>\n",
              "      <td>NaN</td>\n",
              "      <td>0.011169</td>\n",
              "      <td>0.009374</td>\n",
              "      <td>-0.009001</td>\n",
              "      <td>0.031684</td>\n",
              "      <td>0.002290</td>\n",
              "      <td>0.021584</td>\n",
              "    </tr>\n",
              "    <tr>\n",
              "      <th>Education</th>\n",
              "      <td>-0.035706</td>\n",
              "      <td>-0.008638</td>\n",
              "      <td>1.000000</td>\n",
              "      <td>NaN</td>\n",
              "      <td>-0.009680</td>\n",
              "      <td>0.045746</td>\n",
              "      <td>0.006410</td>\n",
              "      <td>-0.016250</td>\n",
              "      <td>-0.040531</td>\n",
              "      <td>NaN</td>\n",
              "      <td>0.001261</td>\n",
              "      <td>-0.010717</td>\n",
              "      <td>0.010472</td>\n",
              "      <td>0.006080</td>\n",
              "      <td>0.022490</td>\n",
              "      <td>0.005358</td>\n",
              "    </tr>\n",
              "    <tr>\n",
              "      <th>EmployeeCount</th>\n",
              "      <td>NaN</td>\n",
              "      <td>NaN</td>\n",
              "      <td>NaN</td>\n",
              "      <td>NaN</td>\n",
              "      <td>NaN</td>\n",
              "      <td>NaN</td>\n",
              "      <td>NaN</td>\n",
              "      <td>NaN</td>\n",
              "      <td>NaN</td>\n",
              "      <td>NaN</td>\n",
              "      <td>NaN</td>\n",
              "      <td>NaN</td>\n",
              "      <td>NaN</td>\n",
              "      <td>NaN</td>\n",
              "      <td>NaN</td>\n",
              "      <td>NaN</td>\n",
              "    </tr>\n",
              "    <tr>\n",
              "      <th>EmployeeID</th>\n",
              "      <td>0.008649</td>\n",
              "      <td>-0.001097</td>\n",
              "      <td>-0.009680</td>\n",
              "      <td>NaN</td>\n",
              "      <td>1.000000</td>\n",
              "      <td>-0.003303</td>\n",
              "      <td>0.007338</td>\n",
              "      <td>-0.001117</td>\n",
              "      <td>-0.004456</td>\n",
              "      <td>NaN</td>\n",
              "      <td>-0.014254</td>\n",
              "      <td>-0.001063</td>\n",
              "      <td>-0.010191</td>\n",
              "      <td>0.004086</td>\n",
              "      <td>0.000256</td>\n",
              "      <td>0.008579</td>\n",
              "    </tr>\n",
              "    <tr>\n",
              "      <th>JobLevel</th>\n",
              "      <td>-0.002884</td>\n",
              "      <td>-0.037329</td>\n",
              "      <td>0.045746</td>\n",
              "      <td>NaN</td>\n",
              "      <td>-0.003303</td>\n",
              "      <td>1.000000</td>\n",
              "      <td>0.047316</td>\n",
              "      <td>-0.009875</td>\n",
              "      <td>0.010973</td>\n",
              "      <td>NaN</td>\n",
              "      <td>0.000993</td>\n",
              "      <td>-0.036957</td>\n",
              "      <td>-0.032500</td>\n",
              "      <td>-0.064219</td>\n",
              "      <td>-0.060811</td>\n",
              "      <td>-0.055251</td>\n",
              "    </tr>\n",
              "    <tr>\n",
              "      <th>MonthlyIncome</th>\n",
              "      <td>-0.044314</td>\n",
              "      <td>-0.021607</td>\n",
              "      <td>0.006410</td>\n",
              "      <td>NaN</td>\n",
              "      <td>0.007338</td>\n",
              "      <td>0.047316</td>\n",
              "      <td>1.000000</td>\n",
              "      <td>-0.020726</td>\n",
              "      <td>0.004325</td>\n",
              "      <td>NaN</td>\n",
              "      <td>0.026930</td>\n",
              "      <td>-0.033787</td>\n",
              "      <td>0.050112</td>\n",
              "      <td>0.000995</td>\n",
              "      <td>0.065219</td>\n",
              "      <td>0.024304</td>\n",
              "    </tr>\n",
              "    <tr>\n",
              "      <th>NumCompaniesWorked</th>\n",
              "      <td>0.299243</td>\n",
              "      <td>-0.013843</td>\n",
              "      <td>-0.016250</td>\n",
              "      <td>NaN</td>\n",
              "      <td>-0.001117</td>\n",
              "      <td>-0.009875</td>\n",
              "      <td>-0.020726</td>\n",
              "      <td>1.000000</td>\n",
              "      <td>0.030860</td>\n",
              "      <td>NaN</td>\n",
              "      <td>0.017163</td>\n",
              "      <td>0.238807</td>\n",
              "      <td>-0.032286</td>\n",
              "      <td>-0.117959</td>\n",
              "      <td>-0.036656</td>\n",
              "      <td>-0.109667</td>\n",
              "    </tr>\n",
              "    <tr>\n",
              "      <th>PercentSalaryHike</th>\n",
              "      <td>-0.033137</td>\n",
              "      <td>0.038125</td>\n",
              "      <td>-0.040531</td>\n",
              "      <td>NaN</td>\n",
              "      <td>-0.004456</td>\n",
              "      <td>0.010973</td>\n",
              "      <td>0.004325</td>\n",
              "      <td>0.030860</td>\n",
              "      <td>1.000000</td>\n",
              "      <td>NaN</td>\n",
              "      <td>0.012548</td>\n",
              "      <td>-0.018736</td>\n",
              "      <td>-0.037392</td>\n",
              "      <td>-0.029707</td>\n",
              "      <td>-0.029542</td>\n",
              "      <td>-0.040864</td>\n",
              "    </tr>\n",
              "    <tr>\n",
              "      <th>StandardHours</th>\n",
              "      <td>NaN</td>\n",
              "      <td>NaN</td>\n",
              "      <td>NaN</td>\n",
              "      <td>NaN</td>\n",
              "      <td>NaN</td>\n",
              "      <td>NaN</td>\n",
              "      <td>NaN</td>\n",
              "      <td>NaN</td>\n",
              "      <td>NaN</td>\n",
              "      <td>NaN</td>\n",
              "      <td>NaN</td>\n",
              "      <td>NaN</td>\n",
              "      <td>NaN</td>\n",
              "      <td>NaN</td>\n",
              "      <td>NaN</td>\n",
              "      <td>NaN</td>\n",
              "    </tr>\n",
              "    <tr>\n",
              "      <th>StockOptionLevel</th>\n",
              "      <td>-0.031753</td>\n",
              "      <td>0.011169</td>\n",
              "      <td>0.001261</td>\n",
              "      <td>NaN</td>\n",
              "      <td>-0.014254</td>\n",
              "      <td>0.000993</td>\n",
              "      <td>0.026930</td>\n",
              "      <td>0.017163</td>\n",
              "      <td>0.012548</td>\n",
              "      <td>NaN</td>\n",
              "      <td>1.000000</td>\n",
              "      <td>0.002694</td>\n",
              "      <td>-0.069902</td>\n",
              "      <td>0.007886</td>\n",
              "      <td>0.019063</td>\n",
              "      <td>0.017757</td>\n",
              "    </tr>\n",
              "    <tr>\n",
              "      <th>TotalWorkingYears</th>\n",
              "      <td>0.680661</td>\n",
              "      <td>0.009374</td>\n",
              "      <td>-0.010717</td>\n",
              "      <td>NaN</td>\n",
              "      <td>-0.001063</td>\n",
              "      <td>-0.036957</td>\n",
              "      <td>-0.033787</td>\n",
              "      <td>0.238807</td>\n",
              "      <td>-0.018736</td>\n",
              "      <td>NaN</td>\n",
              "      <td>0.002694</td>\n",
              "      <td>1.000000</td>\n",
              "      <td>-0.040762</td>\n",
              "      <td>0.627703</td>\n",
              "      <td>0.404444</td>\n",
              "      <td>0.458800</td>\n",
              "    </tr>\n",
              "    <tr>\n",
              "      <th>TrainingTimesLastYear</th>\n",
              "      <td>-0.027308</td>\n",
              "      <td>-0.009001</td>\n",
              "      <td>0.010472</td>\n",
              "      <td>NaN</td>\n",
              "      <td>-0.010191</td>\n",
              "      <td>-0.032500</td>\n",
              "      <td>0.050112</td>\n",
              "      <td>-0.032286</td>\n",
              "      <td>-0.037392</td>\n",
              "      <td>NaN</td>\n",
              "      <td>-0.069902</td>\n",
              "      <td>-0.040762</td>\n",
              "      <td>1.000000</td>\n",
              "      <td>-0.007894</td>\n",
              "      <td>0.016121</td>\n",
              "      <td>-0.013270</td>\n",
              "    </tr>\n",
              "    <tr>\n",
              "      <th>YearsAtCompany</th>\n",
              "      <td>0.311309</td>\n",
              "      <td>0.031684</td>\n",
              "      <td>0.006080</td>\n",
              "      <td>NaN</td>\n",
              "      <td>0.004086</td>\n",
              "      <td>-0.064219</td>\n",
              "      <td>0.000995</td>\n",
              "      <td>-0.117959</td>\n",
              "      <td>-0.029707</td>\n",
              "      <td>NaN</td>\n",
              "      <td>0.007886</td>\n",
              "      <td>0.627703</td>\n",
              "      <td>-0.007894</td>\n",
              "      <td>1.000000</td>\n",
              "      <td>0.618409</td>\n",
              "      <td>0.769212</td>\n",
              "    </tr>\n",
              "    <tr>\n",
              "      <th>YearsSinceLastPromotion</th>\n",
              "      <td>0.216513</td>\n",
              "      <td>0.002290</td>\n",
              "      <td>0.022490</td>\n",
              "      <td>NaN</td>\n",
              "      <td>0.000256</td>\n",
              "      <td>-0.060811</td>\n",
              "      <td>0.065219</td>\n",
              "      <td>-0.036656</td>\n",
              "      <td>-0.029542</td>\n",
              "      <td>NaN</td>\n",
              "      <td>0.019063</td>\n",
              "      <td>0.404444</td>\n",
              "      <td>0.016121</td>\n",
              "      <td>0.618409</td>\n",
              "      <td>1.000000</td>\n",
              "      <td>0.510224</td>\n",
              "    </tr>\n",
              "    <tr>\n",
              "      <th>YearsWithCurrManager</th>\n",
              "      <td>0.202089</td>\n",
              "      <td>0.021584</td>\n",
              "      <td>0.005358</td>\n",
              "      <td>NaN</td>\n",
              "      <td>0.008579</td>\n",
              "      <td>-0.055251</td>\n",
              "      <td>0.024304</td>\n",
              "      <td>-0.109667</td>\n",
              "      <td>-0.040864</td>\n",
              "      <td>NaN</td>\n",
              "      <td>0.017757</td>\n",
              "      <td>0.458800</td>\n",
              "      <td>-0.013270</td>\n",
              "      <td>0.769212</td>\n",
              "      <td>0.510224</td>\n",
              "      <td>1.000000</td>\n",
              "    </tr>\n",
              "  </tbody>\n",
              "</table>\n",
              "</div>"
            ],
            "text/plain": [
              "                              Age  ...  YearsWithCurrManager\n",
              "Age                      1.000000  ...              0.202089\n",
              "DistanceFromHome         0.006963  ...              0.021584\n",
              "Education               -0.035706  ...              0.005358\n",
              "EmployeeCount                 NaN  ...                   NaN\n",
              "EmployeeID               0.008649  ...              0.008579\n",
              "JobLevel                -0.002884  ...             -0.055251\n",
              "MonthlyIncome           -0.044314  ...              0.024304\n",
              "NumCompaniesWorked       0.299243  ...             -0.109667\n",
              "PercentSalaryHike       -0.033137  ...             -0.040864\n",
              "StandardHours                 NaN  ...                   NaN\n",
              "StockOptionLevel        -0.031753  ...              0.017757\n",
              "TotalWorkingYears        0.680661  ...              0.458800\n",
              "TrainingTimesLastYear   -0.027308  ...             -0.013270\n",
              "YearsAtCompany           0.311309  ...              0.769212\n",
              "YearsSinceLastPromotion  0.216513  ...              0.510224\n",
              "YearsWithCurrManager     0.202089  ...              1.000000\n",
              "\n",
              "[16 rows x 16 columns]"
            ]
          },
          "metadata": {
            "tags": []
          },
          "execution_count": 13
        }
      ]
    },
    {
      "cell_type": "markdown",
      "metadata": {
        "id": "fgnYIynakuSe",
        "colab_type": "text"
      },
      "source": [
        "# Attrition and age"
      ]
    },
    {
      "cell_type": "code",
      "metadata": {
        "id": "D7LyMWbTkmSe",
        "colab_type": "code",
        "colab": {}
      },
      "source": [
        "# df['Attrition'].replace(to_replace=('No','Yes'),value=(0,1),inplace=True)\n",
        "df['Attrition'] = df['Attrition'].map({\"Yes\":1,\"No\":0})\n",
        "#r,p = pearsonr(df.Age,df.Attrition)"
      ],
      "execution_count": 14,
      "outputs": []
    },
    {
      "cell_type": "code",
      "metadata": {
        "id": "ZKyBCFwZk7aI",
        "colab_type": "code",
        "colab": {
          "base_uri": "https://localhost:8080/",
          "height": 299
        },
        "outputId": "9c1c48ca-ef13-4491-f18c-7ef943a4257e"
      },
      "source": [
        "df.head()"
      ],
      "execution_count": 15,
      "outputs": [
        {
          "output_type": "execute_result",
          "data": {
            "text/html": [
              "<div>\n",
              "<style scoped>\n",
              "    .dataframe tbody tr th:only-of-type {\n",
              "        vertical-align: middle;\n",
              "    }\n",
              "\n",
              "    .dataframe tbody tr th {\n",
              "        vertical-align: top;\n",
              "    }\n",
              "\n",
              "    .dataframe thead th {\n",
              "        text-align: right;\n",
              "    }\n",
              "</style>\n",
              "<table border=\"1\" class=\"dataframe\">\n",
              "  <thead>\n",
              "    <tr style=\"text-align: right;\">\n",
              "      <th></th>\n",
              "      <th>Age</th>\n",
              "      <th>Attrition</th>\n",
              "      <th>BusinessTravel</th>\n",
              "      <th>Department</th>\n",
              "      <th>DistanceFromHome</th>\n",
              "      <th>Education</th>\n",
              "      <th>EducationField</th>\n",
              "      <th>EmployeeCount</th>\n",
              "      <th>EmployeeID</th>\n",
              "      <th>Gender</th>\n",
              "      <th>JobLevel</th>\n",
              "      <th>JobRole</th>\n",
              "      <th>MaritalStatus</th>\n",
              "      <th>MonthlyIncome</th>\n",
              "      <th>NumCompaniesWorked</th>\n",
              "      <th>Over18</th>\n",
              "      <th>PercentSalaryHike</th>\n",
              "      <th>StandardHours</th>\n",
              "      <th>StockOptionLevel</th>\n",
              "      <th>TotalWorkingYears</th>\n",
              "      <th>TrainingTimesLastYear</th>\n",
              "      <th>YearsAtCompany</th>\n",
              "      <th>YearsSinceLastPromotion</th>\n",
              "      <th>YearsWithCurrManager</th>\n",
              "    </tr>\n",
              "  </thead>\n",
              "  <tbody>\n",
              "    <tr>\n",
              "      <th>0</th>\n",
              "      <td>51</td>\n",
              "      <td>0</td>\n",
              "      <td>Travel_Rarely</td>\n",
              "      <td>Sales</td>\n",
              "      <td>6</td>\n",
              "      <td>2</td>\n",
              "      <td>Life Sciences</td>\n",
              "      <td>1</td>\n",
              "      <td>1</td>\n",
              "      <td>Female</td>\n",
              "      <td>1</td>\n",
              "      <td>Healthcare Representative</td>\n",
              "      <td>Married</td>\n",
              "      <td>131160</td>\n",
              "      <td>1.0</td>\n",
              "      <td>Y</td>\n",
              "      <td>11</td>\n",
              "      <td>8</td>\n",
              "      <td>0</td>\n",
              "      <td>1.0</td>\n",
              "      <td>6</td>\n",
              "      <td>1</td>\n",
              "      <td>0</td>\n",
              "      <td>0</td>\n",
              "    </tr>\n",
              "    <tr>\n",
              "      <th>1</th>\n",
              "      <td>31</td>\n",
              "      <td>1</td>\n",
              "      <td>Travel_Frequently</td>\n",
              "      <td>Research &amp; Development</td>\n",
              "      <td>10</td>\n",
              "      <td>1</td>\n",
              "      <td>Life Sciences</td>\n",
              "      <td>1</td>\n",
              "      <td>2</td>\n",
              "      <td>Female</td>\n",
              "      <td>1</td>\n",
              "      <td>Research Scientist</td>\n",
              "      <td>Single</td>\n",
              "      <td>41890</td>\n",
              "      <td>0.0</td>\n",
              "      <td>Y</td>\n",
              "      <td>23</td>\n",
              "      <td>8</td>\n",
              "      <td>1</td>\n",
              "      <td>6.0</td>\n",
              "      <td>3</td>\n",
              "      <td>5</td>\n",
              "      <td>1</td>\n",
              "      <td>4</td>\n",
              "    </tr>\n",
              "    <tr>\n",
              "      <th>2</th>\n",
              "      <td>32</td>\n",
              "      <td>0</td>\n",
              "      <td>Travel_Frequently</td>\n",
              "      <td>Research &amp; Development</td>\n",
              "      <td>17</td>\n",
              "      <td>4</td>\n",
              "      <td>Other</td>\n",
              "      <td>1</td>\n",
              "      <td>3</td>\n",
              "      <td>Male</td>\n",
              "      <td>4</td>\n",
              "      <td>Sales Executive</td>\n",
              "      <td>Married</td>\n",
              "      <td>193280</td>\n",
              "      <td>1.0</td>\n",
              "      <td>Y</td>\n",
              "      <td>15</td>\n",
              "      <td>8</td>\n",
              "      <td>3</td>\n",
              "      <td>5.0</td>\n",
              "      <td>2</td>\n",
              "      <td>5</td>\n",
              "      <td>0</td>\n",
              "      <td>3</td>\n",
              "    </tr>\n",
              "    <tr>\n",
              "      <th>3</th>\n",
              "      <td>38</td>\n",
              "      <td>0</td>\n",
              "      <td>Non-Travel</td>\n",
              "      <td>Research &amp; Development</td>\n",
              "      <td>2</td>\n",
              "      <td>5</td>\n",
              "      <td>Life Sciences</td>\n",
              "      <td>1</td>\n",
              "      <td>4</td>\n",
              "      <td>Male</td>\n",
              "      <td>3</td>\n",
              "      <td>Human Resources</td>\n",
              "      <td>Married</td>\n",
              "      <td>83210</td>\n",
              "      <td>3.0</td>\n",
              "      <td>Y</td>\n",
              "      <td>11</td>\n",
              "      <td>8</td>\n",
              "      <td>3</td>\n",
              "      <td>13.0</td>\n",
              "      <td>5</td>\n",
              "      <td>8</td>\n",
              "      <td>7</td>\n",
              "      <td>5</td>\n",
              "    </tr>\n",
              "    <tr>\n",
              "      <th>4</th>\n",
              "      <td>32</td>\n",
              "      <td>0</td>\n",
              "      <td>Travel_Rarely</td>\n",
              "      <td>Research &amp; Development</td>\n",
              "      <td>10</td>\n",
              "      <td>1</td>\n",
              "      <td>Medical</td>\n",
              "      <td>1</td>\n",
              "      <td>5</td>\n",
              "      <td>Male</td>\n",
              "      <td>1</td>\n",
              "      <td>Sales Executive</td>\n",
              "      <td>Single</td>\n",
              "      <td>23420</td>\n",
              "      <td>4.0</td>\n",
              "      <td>Y</td>\n",
              "      <td>12</td>\n",
              "      <td>8</td>\n",
              "      <td>2</td>\n",
              "      <td>9.0</td>\n",
              "      <td>2</td>\n",
              "      <td>6</td>\n",
              "      <td>0</td>\n",
              "      <td>4</td>\n",
              "    </tr>\n",
              "  </tbody>\n",
              "</table>\n",
              "</div>"
            ],
            "text/plain": [
              "   Age  Attrition  ... YearsSinceLastPromotion YearsWithCurrManager\n",
              "0   51          0  ...                       0                    0\n",
              "1   31          1  ...                       1                    4\n",
              "2   32          0  ...                       0                    3\n",
              "3   38          0  ...                       7                    5\n",
              "4   32          0  ...                       0                    4\n",
              "\n",
              "[5 rows x 24 columns]"
            ]
          },
          "metadata": {
            "tags": []
          },
          "execution_count": 15
        }
      ]
    },
    {
      "cell_type": "code",
      "metadata": {
        "id": "LvOmjBulmAFF",
        "colab_type": "code",
        "colab": {
          "base_uri": "https://localhost:8080/",
          "height": 67
        },
        "outputId": "1d06ba45-9900-4578-874e-0494d04f1ee1"
      },
      "source": [
        "r,p = pearsonr(df.Attrition,df.Age)\n",
        "print(r,p)\n",
        "\n",
        "if p>=0.05:\n",
        "  print(\"do not reject hypothesis\")\n",
        "if p<0.05:\n",
        "  print(\"reject the hypothesis\")\n",
        "if r<0:\n",
        "  print(\"negative correlation\")\n",
        "else:\n",
        "  print(\"positive correlation\")"
      ],
      "execution_count": 30,
      "outputs": [
        {
          "output_type": "stream",
          "text": [
            "-0.15920500686577949 1.996801615887198e-26\n",
            "reject the hypothesis\n",
            "negative correlation\n"
          ],
          "name": "stdout"
        }
      ]
    },
    {
      "cell_type": "code",
      "metadata": {
        "id": "hZ3OsnBWmpqH",
        "colab_type": "code",
        "colab": {
          "base_uri": "https://localhost:8080/",
          "height": 282
        },
        "outputId": "eb00713c-f820-4885-c034-28dd8e7ba0ac"
      },
      "source": [
        "plt.scatter(df.Attrition,df.Age)"
      ],
      "execution_count": 31,
      "outputs": [
        {
          "output_type": "execute_result",
          "data": {
            "text/plain": [
              "<matplotlib.collections.PathCollection at 0x7f77c9415470>"
            ]
          },
          "metadata": {
            "tags": []
          },
          "execution_count": 31
        },
        {
          "output_type": "display_data",
          "data": {
            "image/png": "[encoded data removed]",
            "text/plain": [
              "<Figure size 432x288 with 1 Axes>"
            ]
          },
          "metadata": {
            "tags": [],
            "needs_background": "light"
          }
        }
      ]
    },
    {
      "cell_type": "markdown",
      "metadata": {
        "id": "oDtSEXhCm-VO",
        "colab_type": "text"
      },
      "source": [
        "# Attrition and Monthlyincome"
      ]
    },
    {
      "cell_type": "code",
      "metadata": {
        "id": "j7i3VkBFmz35",
        "colab_type": "code",
        "colab": {
          "base_uri": "https://localhost:8080/",
          "height": 67
        },
        "outputId": "c314e03c-ef72-41bb-9416-f5bf2ffd4763"
      },
      "source": [
        "r1,p1=pearsonr(df.Attrition,df.MonthlyIncome)\n",
        "print(r1,p1)\n",
        "\n",
        "if p1>=0.05:\n",
        "  print(\"do not reject hypothesis\")\n",
        "if p1<0.05:\n",
        "  print(\"reject the hypothesis\")\n",
        "if r1<0:\n",
        "  print(\"negative correlation\")\n",
        "else:\n",
        "  print(\"positive correlation\")"
      ],
      "execution_count": 32,
      "outputs": [
        {
          "output_type": "stream",
          "text": [
            "-0.03117628169811501 0.03842748490600132\n",
            "reject the hypothesis\n",
            "negative correlation\n"
          ],
          "name": "stdout"
        }
      ]
    },
    {
      "cell_type": "code",
      "metadata": {
        "id": "3FVFQ7CYnPqx",
        "colab_type": "code",
        "colab": {
          "base_uri": "https://localhost:8080/",
          "height": 282
        },
        "outputId": "ecbc9a4b-48f0-451d-b535-2ef190435ab1"
      },
      "source": [
        "plt.scatter(df.Attrition,df.MonthlyIncome)"
      ],
      "execution_count": 33,
      "outputs": [
        {
          "output_type": "execute_result",
          "data": {
            "text/plain": [
              "<matplotlib.collections.PathCollection at 0x7f77c9593898>"
            ]
          },
          "metadata": {
            "tags": []
          },
          "execution_count": 33
        },
        {
          "output_type": "display_data",
          "data": {
            "image/png": "[encoded data removed]",
            "text/plain": [
              "<Figure size 432x288 with 1 Axes>"
            ]
          },
          "metadata": {
            "tags": [],
            "needs_background": "light"
          }
        }
      ]
    },
    {
      "cell_type": "code",
      "metadata": {
        "id": "UjUW9WUUnV7y",
        "colab_type": "code",
        "colab": {
          "base_uri": "https://localhost:8080/",
          "height": 538
        },
        "outputId": "7693b49f-6b4d-4d5d-cbef-2056e518162d"
      },
      "source": [
        "df.info()"
      ],
      "execution_count": 34,
      "outputs": [
        {
          "output_type": "stream",
          "text": [
            "<class 'pandas.core.frame.DataFrame'>\n",
            "RangeIndex: 4410 entries, 0 to 4409\n",
            "Data columns (total 24 columns):\n",
            " #   Column                   Non-Null Count  Dtype  \n",
            "---  ------                   --------------  -----  \n",
            " 0   Age                      4410 non-null   int64  \n",
            " 1   Attrition                4410 non-null   int64  \n",
            " 2   BusinessTravel           4410 non-null   object \n",
            " 3   Department               4410 non-null   object \n",
            " 4   DistanceFromHome         4410 non-null   int64  \n",
            " 5   Education                4410 non-null   int64  \n",
            " 6   EducationField           4410 non-null   object \n",
            " 7   EmployeeCount            4410 non-null   int64  \n",
            " 8   EmployeeID               4410 non-null   int64  \n",
            " 9   Gender                   4410 non-null   object \n",
            " 10  JobLevel                 4410 non-null   int64  \n",
            " 11  JobRole                  4410 non-null   object \n",
            " 12  MaritalStatus            4410 non-null   object \n",
            " 13  MonthlyIncome            4410 non-null   int64  \n",
            " 14  NumCompaniesWorked       4391 non-null   float64\n",
            " 15  Over18                   4410 non-null   object \n",
            " 16  PercentSalaryHike        4410 non-null   int64  \n",
            " 17  StandardHours            4410 non-null   int64  \n",
            " 18  StockOptionLevel         4410 non-null   int64  \n",
            " 19  TotalWorkingYears        4401 non-null   float64\n",
            " 20  TrainingTimesLastYear    4410 non-null   int64  \n",
            " 21  YearsAtCompany           4410 non-null   int64  \n",
            " 22  YearsSinceLastPromotion  4410 non-null   int64  \n",
            " 23  YearsWithCurrManager     4410 non-null   int64  \n",
            "dtypes: float64(2), int64(15), object(7)\n",
            "memory usage: 827.0+ KB\n"
          ],
          "name": "stdout"
        }
      ]
    },
    {
      "cell_type": "markdown",
      "metadata": {
        "id": "dB4uT2Jdp-5-",
        "colab_type": "text"
      },
      "source": [
        "# Attrition and DistanceFromHome\n"
      ]
    },
    {
      "cell_type": "code",
      "metadata": {
        "id": "owavCcZDnbfq",
        "colab_type": "code",
        "colab": {
          "base_uri": "https://localhost:8080/",
          "height": 67
        },
        "outputId": "5286500b-27b9-41f0-f55e-d8e6e6368c59"
      },
      "source": [
        "r2,p2 = pearsonr(df.Attrition,df.DistanceFromHome)\n",
        "print(r2,p2)\n",
        "\n",
        "if p2>=0.05:\n",
        "  print(\"do not reject hypothesis\")\n",
        "if p2<0.05:\n",
        "  print(\"reject the hypothesis\")\n",
        "if r2<0:\n",
        "  print(\"negative correlation\")\n",
        "else:\n",
        "  print(\"positive correlation\")"
      ],
      "execution_count": 35,
      "outputs": [
        {
          "output_type": "stream",
          "text": [
            "-0.009730141010179692 0.5182860428050771\n",
            "do not reject hypothesis\n",
            "negative correlation\n"
          ],
          "name": "stdout"
        }
      ]
    },
    {
      "cell_type": "code",
      "metadata": {
        "id": "FbiDs3WbqWUM",
        "colab_type": "code",
        "colab": {
          "base_uri": "https://localhost:8080/",
          "height": 284
        },
        "outputId": "4f9a3cc4-4867-4825-d206-047c163b62d0"
      },
      "source": [
        "## p value is greater than 0.05 so we can say our null hypothesis is accepted\n",
        "plt.scatter(df.Attrition,df.DistanceFromHome)"
      ],
      "execution_count": 36,
      "outputs": [
        {
          "output_type": "execute_result",
          "data": {
            "text/plain": [
              "<matplotlib.collections.PathCollection at 0x7f77c92da1d0>"
            ]
          },
          "metadata": {
            "tags": []
          },
          "execution_count": 36
        },
        {
          "output_type": "display_data",
          "data": {
            "image/png": "[encoded data removed]",
            "text/plain": [
              "<Figure size 432x288 with 1 Axes>"
            ]
          },
          "metadata": {
            "tags": [],
            "needs_background": "light"
          }
        }
      ]
    },
    {
      "cell_type": "markdown",
      "metadata": {
        "id": "CHzgpOA2rCmM",
        "colab_type": "text"
      },
      "source": [
        "#Attrition and Education"
      ]
    },
    {
      "cell_type": "code",
      "metadata": {
        "id": "dTv2ak9TqcGl",
        "colab_type": "code",
        "colab": {
          "base_uri": "https://localhost:8080/",
          "height": 67
        },
        "outputId": "cafa189c-aa77-4f64-e940-75f109358719"
      },
      "source": [
        "r3,p3 = pearsonr(df.Attrition,df.Education)\n",
        "print(r3,p3)\n",
        "\n",
        "if p3>=0.05:\n",
        "  print(\"do not reject hypothesis\")\n",
        "if p3<0.05:\n",
        "  print(\"reject the hypothesis\")\n",
        "if r3<0:\n",
        "  print(\"negative correlation\")\n",
        "else:\n",
        "  print(\"positive correlation\")"
      ],
      "execution_count": 37,
      "outputs": [
        {
          "output_type": "stream",
          "text": [
            "-0.015111167710968721 0.3157293177118575\n",
            "do not reject hypothesis\n",
            "negative correlation\n"
          ],
          "name": "stdout"
        }
      ]
    },
    {
      "cell_type": "code",
      "metadata": {
        "id": "RDX_QfV6rP0V",
        "colab_type": "code",
        "colab": {
          "base_uri": "https://localhost:8080/",
          "height": 282
        },
        "outputId": "c0431f69-6715-4c70-b44f-a4146ab09bc4"
      },
      "source": [
        "plt.scatter(df.Attrition,df.Education)"
      ],
      "execution_count": 38,
      "outputs": [
        {
          "output_type": "execute_result",
          "data": {
            "text/plain": [
              "<matplotlib.collections.PathCollection at 0x7f77c929e6d8>"
            ]
          },
          "metadata": {
            "tags": []
          },
          "execution_count": 38
        },
        {
          "output_type": "display_data",
          "data": {
            "image/png": "[encoded data removed]",
            "text/plain": [
              "<Figure size 432x288 with 1 Axes>"
            ]
          },
          "metadata": {
            "tags": [],
            "needs_background": "light"
          }
        }
      ]
    },
    {
      "cell_type": "markdown",
      "metadata": {
        "id": "QS_7ZEZGrquj",
        "colab_type": "text"
      },
      "source": [
        "# Attrition and Department"
      ]
    },
    {
      "cell_type": "code",
      "metadata": {
        "id": "glTa2H_9zJAQ",
        "colab_type": "code",
        "colab": {
          "base_uri": "https://localhost:8080/",
          "height": 34
        },
        "outputId": "484b6cde-5b4c-48d5-e8f1-c6872620e5c1"
      },
      "source": [
        "df['Department'].unique()"
      ],
      "execution_count": 42,
      "outputs": [
        {
          "output_type": "execute_result",
          "data": {
            "text/plain": [
              "array(['Sales', 'Research & Development', 'Human Resources'], dtype=object)"
            ]
          },
          "metadata": {
            "tags": []
          },
          "execution_count": 42
        }
      ]
    },
    {
      "cell_type": "code",
      "metadata": {
        "id": "l3T217f0zPXT",
        "colab_type": "code",
        "colab": {}
      },
      "source": [
        "df['Department'] = df['Department'].map({'Sales':0,'Research & Development':1,'Human Resources':2})"
      ],
      "execution_count": 43,
      "outputs": []
    },
    {
      "cell_type": "code",
      "metadata": {
        "id": "6Vo79lvqzjKF",
        "colab_type": "code",
        "colab": {
          "base_uri": "https://localhost:8080/",
          "height": 118
        },
        "outputId": "90fb7079-d18e-4065-9316-4b6b607fe454"
      },
      "source": [
        "df['Department'].head()"
      ],
      "execution_count": 44,
      "outputs": [
        {
          "output_type": "execute_result",
          "data": {
            "text/plain": [
              "0    0\n",
              "1    1\n",
              "2    1\n",
              "3    1\n",
              "4    1\n",
              "Name: Department, dtype: int64"
            ]
          },
          "metadata": {
            "tags": []
          },
          "execution_count": 44
        }
      ]
    },
    {
      "cell_type": "code",
      "metadata": {
        "id": "dzNWdDYFrWFg",
        "colab_type": "code",
        "colab": {
          "base_uri": "https://localhost:8080/",
          "height": 67
        },
        "outputId": "4e8397af-c17e-4d55-9f90-2133853ca85d"
      },
      "source": [
        "r4,p4 = pearsonr(df.Attrition,df.Department)\n",
        "print(r4,p4)\n",
        "\n",
        "if p4>=0.05:\n",
        "  print(\"do not reject hypothesis\")\n",
        "if p4<0.05:\n",
        "  print(\"reject the hypothesis\")\n",
        "if r4<0:\n",
        "  print(\"negative correlation\")\n",
        "else:\n",
        "  print(\"positive correlation\")"
      ],
      "execution_count": 45,
      "outputs": [
        {
          "output_type": "stream",
          "text": [
            "0.048205819918340005 0.0013638319632107141\n",
            "reject the hypothesis\n",
            "positive correlation\n"
          ],
          "name": "stdout"
        }
      ]
    },
    {
      "cell_type": "code",
      "metadata": {
        "id": "TWxu_JPfr_BX",
        "colab_type": "code",
        "colab": {
          "base_uri": "https://localhost:8080/",
          "height": 282
        },
        "outputId": "36385a1a-681d-486c-954e-265069726796"
      },
      "source": [
        "plt.scatter(df.Attrition,df.Department)"
      ],
      "execution_count": 46,
      "outputs": [
        {
          "output_type": "execute_result",
          "data": {
            "text/plain": [
              "<matplotlib.collections.PathCollection at 0x7f77c8eb86a0>"
            ]
          },
          "metadata": {
            "tags": []
          },
          "execution_count": 46
        },
        {
          "output_type": "display_data",
          "data": {
            "image/png": "[encoded data removed]",
            "text/plain": [
              "<Figure size 432x288 with 1 Axes>"
            ]
          },
          "metadata": {
            "tags": [],
            "needs_background": "light"
          }
        }
      ]
    },
    {
      "cell_type": "markdown",
      "metadata": {
        "id": "tYJYrk1JzzI_",
        "colab_type": "text"
      },
      "source": [
        "#Attrition and BusinessTravel"
      ]
    },
    {
      "cell_type": "code",
      "metadata": {
        "id": "_-ng25rFsC0-",
        "colab_type": "code",
        "colab": {
          "base_uri": "https://localhost:8080/",
          "height": 34
        },
        "outputId": "ebd9ea2d-1b41-41bf-d6fa-190032bb92c9"
      },
      "source": [
        "df['BusinessTravel'].unique()"
      ],
      "execution_count": 48,
      "outputs": [
        {
          "output_type": "execute_result",
          "data": {
            "text/plain": [
              "array(['Travel_Rarely', 'Travel_Frequently', 'Non-Travel'], dtype=object)"
            ]
          },
          "metadata": {
            "tags": []
          },
          "execution_count": 48
        }
      ]
    },
    {
      "cell_type": "code",
      "metadata": {
        "id": "6CgoWW4Dz6Sb",
        "colab_type": "code",
        "colab": {}
      },
      "source": [
        "df['BusinessTravel'] = df['BusinessTravel'].map({'Travel_Rarely':0,'Travel_Frequently':1,'Non-Travel':2})\n"
      ],
      "execution_count": 49,
      "outputs": []
    },
    {
      "cell_type": "code",
      "metadata": {
        "id": "jK9q_yAf0J_U",
        "colab_type": "code",
        "colab": {
          "base_uri": "https://localhost:8080/",
          "height": 118
        },
        "outputId": "2ed1cecf-fd84-43d6-fece-e311e3f3056a"
      },
      "source": [
        "df['BusinessTravel'].head()"
      ],
      "execution_count": 50,
      "outputs": [
        {
          "output_type": "execute_result",
          "data": {
            "text/plain": [
              "0    0\n",
              "1    1\n",
              "2    1\n",
              "3    2\n",
              "4    0\n",
              "Name: BusinessTravel, dtype: int64"
            ]
          },
          "metadata": {
            "tags": []
          },
          "execution_count": 50
        }
      ]
    },
    {
      "cell_type": "code",
      "metadata": {
        "id": "JdVY6ccQ0MD1",
        "colab_type": "code",
        "colab": {
          "base_uri": "https://localhost:8080/",
          "height": 332
        },
        "outputId": "53d76c46-2f43-4d6d-ac1f-9ff118b417a0"
      },
      "source": [
        "r4,p4 = pearsonr(df.Attrition,df.BusinessTravel)\n",
        "print(r4,p4)\n",
        "\n",
        "if p4>=0.05:\n",
        "  print(\"do not reject hypothesis\")\n",
        "if p4<0.05:\n",
        "  print(\"reject the hypothesis\")\n",
        "if r4<0:\n",
        "  print(\"negative correlation\")\n",
        "else:\n",
        "  print(\"positive correlation\")\n",
        "\n",
        "\n",
        "plt.scatter(df.Attrition,df.BusinessTravel)\n"
      ],
      "execution_count": 51,
      "outputs": [
        {
          "output_type": "stream",
          "text": [
            "-7.377694602216824e-05 0.9960919945440154\n",
            "do not reject hypothesis\n",
            "negative correlation\n"
          ],
          "name": "stdout"
        },
        {
          "output_type": "execute_result",
          "data": {
            "text/plain": [
              "<matplotlib.collections.PathCollection at 0x7f77c8eb80b8>"
            ]
          },
          "metadata": {
            "tags": []
          },
          "execution_count": 51
        },
        {
          "output_type": "display_data",
          "data": {
            "image/png": "[encoded data removed]",
            "text/plain": [
              "<Figure size 432x288 with 1 Axes>"
            ]
          },
          "metadata": {
            "tags": [],
            "needs_background": "light"
          }
        }
      ]
    },
    {
      "cell_type": "markdown",
      "metadata": {
        "id": "sksd3E3S0iPV",
        "colab_type": "text"
      },
      "source": [
        "# Attrition and Gender"
      ]
    },
    {
      "cell_type": "code",
      "metadata": {
        "id": "H-PmBE7J0cZF",
        "colab_type": "code",
        "colab": {}
      },
      "source": [
        "df['Gender'].unique()\n",
        "df['Gender'] = df['Gender'].map({'Female':0,'Male':1})\n"
      ],
      "execution_count": 53,
      "outputs": []
    },
    {
      "cell_type": "code",
      "metadata": {
        "id": "48SUVVuU0uZP",
        "colab_type": "code",
        "colab": {
          "base_uri": "https://localhost:8080/",
          "height": 332
        },
        "outputId": "eb91a327-d121-4fcb-87b4-b20eb16c059a"
      },
      "source": [
        "r4,p4 = pearsonr(df.Attrition,df.Gender)\n",
        "print(r4,p4)\n",
        "\n",
        "if p4>=0.05:\n",
        "  print(\"do not reject hypothesis\")\n",
        "if p4<0.05:\n",
        "  print(\"reject the hypothesis\")\n",
        "if r4<0:\n",
        "  print(\"negative correlation\")\n",
        "else:\n",
        "  print(\"positive correlation\")\n",
        "\n",
        "\n",
        "plt.scatter(df.Attrition,df.Gender)\n"
      ],
      "execution_count": 54,
      "outputs": [
        {
          "output_type": "stream",
          "text": [
            "0.018125078877010255 0.22881970951795952\n",
            "do not reject hypothesis\n",
            "positive correlation\n"
          ],
          "name": "stdout"
        },
        {
          "output_type": "execute_result",
          "data": {
            "text/plain": [
              "<matplotlib.collections.PathCollection at 0x7f77c929e320>"
            ]
          },
          "metadata": {
            "tags": []
          },
          "execution_count": 54
        },
        {
          "output_type": "display_data",
          "data": {
            "image/png": "[encoded data removed]",
            "text/plain": [
              "<Figure size 432x288 with 1 Axes>"
            ]
          },
          "metadata": {
            "tags": [],
            "needs_background": "light"
          }
        }
      ]
    },
    {
      "cell_type": "markdown",
      "metadata": {
        "id": "kMFdIle60-7-",
        "colab_type": "text"
      },
      "source": [
        "# Attrition and JobLevel"
      ]
    },
    {
      "cell_type": "code",
      "metadata": {
        "id": "woUWKUkp074-",
        "colab_type": "code",
        "colab": {
          "base_uri": "https://localhost:8080/",
          "height": 118
        },
        "outputId": "638534a9-6402-43b7-a6ab-5f713dd5ed54"
      },
      "source": [
        "df['JobLevel'].head()"
      ],
      "execution_count": 55,
      "outputs": [
        {
          "output_type": "execute_result",
          "data": {
            "text/plain": [
              "0    1\n",
              "1    1\n",
              "2    4\n",
              "3    3\n",
              "4    1\n",
              "Name: JobLevel, dtype: int64"
            ]
          },
          "metadata": {
            "tags": []
          },
          "execution_count": 55
        }
      ]
    },
    {
      "cell_type": "code",
      "metadata": {
        "id": "g5v1tlBF1G1U",
        "colab_type": "code",
        "colab": {
          "base_uri": "https://localhost:8080/",
          "height": 332
        },
        "outputId": "05dc1c0f-c8d2-450f-a1c1-c2e11bdcfc3a"
      },
      "source": [
        "r4,p4 = pearsonr(df.Attrition,df.JobLevel)\n",
        "print(r4,p4)\n",
        "\n",
        "if p4>=0.05:\n",
        "  print(\"do not reject hypothesis\")\n",
        "if p4<0.05:\n",
        "  print(\"reject the hypothesis\")\n",
        "if r4<0:\n",
        "  print(\"negative correlation\")\n",
        "else:\n",
        "  print(\"positive correlation\")\n",
        "\n",
        "\n",
        "plt.scatter(df.Attrition,df.JobLevel)\n"
      ],
      "execution_count": 56,
      "outputs": [
        {
          "output_type": "stream",
          "text": [
            "-0.010289713287494923 0.4945171727183978\n",
            "do not reject hypothesis\n",
            "negative correlation\n"
          ],
          "name": "stdout"
        },
        {
          "output_type": "execute_result",
          "data": {
            "text/plain": [
              "<matplotlib.collections.PathCollection at 0x7f77c8c03748>"
            ]
          },
          "metadata": {
            "tags": []
          },
          "execution_count": 56
        },
        {
          "output_type": "display_data",
          "data": {
            "image/png": "[encoded data removed]",
            "text/plain": [
              "<Figure size 432x288 with 1 Axes>"
            ]
          },
          "metadata": {
            "tags": [],
            "needs_background": "light"
          }
        }
      ]
    },
    {
      "cell_type": "markdown",
      "metadata": {
        "id": "qnQznv1l1OG7",
        "colab_type": "text"
      },
      "source": [
        "#Attrition and "
      ]
    },
    {
      "cell_type": "code",
      "metadata": {
        "id": "DR4cqlMO1MzX",
        "colab_type": "code",
        "colab": {
          "base_uri": "https://localhost:8080/",
          "height": 84
        },
        "outputId": "d101baad-6fbd-4cb2-ee6f-fb691df507a7"
      },
      "source": [
        "df['JobRole'].unique()"
      ],
      "execution_count": 57,
      "outputs": [
        {
          "output_type": "execute_result",
          "data": {
            "text/plain": [
              "array(['Healthcare Representative', 'Research Scientist',\n",
              "       'Sales Executive', 'Human Resources', 'Research Director',\n",
              "       'Laboratory Technician', 'Manufacturing Director',\n",
              "       'Sales Representative', 'Manager'], dtype=object)"
            ]
          },
          "metadata": {
            "tags": []
          },
          "execution_count": 57
        }
      ]
    },
    {
      "cell_type": "code",
      "metadata": {
        "id": "v9_4zRh41VKT",
        "colab_type": "code",
        "colab": {}
      },
      "source": [
        "df['JobRole'] = df['JobRole'].map({'Healthcare Representative':0, 'Research Scientist':1,\n",
        "       'Sales Executive':2, 'Human Resources':3, 'Research Director':4,\n",
        "       'Laboratory Technician':5, 'Manufacturing Director':6,\n",
        "       'Sales Representative':7, 'Manager':8})\n"
      ],
      "execution_count": 58,
      "outputs": []
    },
    {
      "cell_type": "code",
      "metadata": {
        "id": "5o1ZmQDz1qW3",
        "colab_type": "code",
        "colab": {
          "base_uri": "https://localhost:8080/",
          "height": 118
        },
        "outputId": "41eaef92-960b-4de7-8446-6f0df1f3ba32"
      },
      "source": [
        "df['JobRole'].head()"
      ],
      "execution_count": 59,
      "outputs": [
        {
          "output_type": "execute_result",
          "data": {
            "text/plain": [
              "0    0\n",
              "1    1\n",
              "2    2\n",
              "3    3\n",
              "4    2\n",
              "Name: JobRole, dtype: int64"
            ]
          },
          "metadata": {
            "tags": []
          },
          "execution_count": 59
        }
      ]
    },
    {
      "cell_type": "code",
      "metadata": {
        "id": "IaSW2FTT1uea",
        "colab_type": "code",
        "colab": {
          "base_uri": "https://localhost:8080/",
          "height": 332
        },
        "outputId": "3da88287-306d-43ef-f32e-a30eac88a2c2"
      },
      "source": [
        "r4,p4 = pearsonr(df.Attrition,df.JobRole)\n",
        "print(r4,p4)\n",
        "\n",
        "if p4>=0.05:\n",
        "  print(\"do not reject hypothesis\")\n",
        "if p4<0.05:\n",
        "  print(\"reject the hypothesis\")\n",
        "if r4<0:\n",
        "  print(\"negative correlation\")\n",
        "else:\n",
        "  print(\"positive correlation\")\n",
        "\n",
        "\n",
        "plt.scatter(df.Attrition,df.JobRole)\n"
      ],
      "execution_count": 64,
      "outputs": [
        {
          "output_type": "stream",
          "text": [
            "-0.03125542915814565 0.03793800590957104\n",
            "reject the hypothesis\n",
            "negative correlation\n"
          ],
          "name": "stdout"
        },
        {
          "output_type": "execute_result",
          "data": {
            "text/plain": [
              "<matplotlib.collections.PathCollection at 0x7f77c8a7aba8>"
            ]
          },
          "metadata": {
            "tags": []
          },
          "execution_count": 64
        },
        {
          "output_type": "display_data",
          "data": {
            "image/png": "[encoded data removed]",
            "text/plain": [
              "<Figure size 432x288 with 1 Axes>"
            ]
          },
          "metadata": {
            "tags": [],
            "needs_background": "light"
          }
        }
      ]
    },
    {
      "cell_type": "markdown",
      "metadata": {
        "id": "0h6AAwxD11ti",
        "colab_type": "text"
      },
      "source": [
        "#Attrition and MaritalStatus"
      ]
    },
    {
      "cell_type": "code",
      "metadata": {
        "id": "QPq_95691wxW",
        "colab_type": "code",
        "colab": {
          "base_uri": "https://localhost:8080/",
          "height": 34
        },
        "outputId": "213cdfb5-c711-4def-d2d3-b90267bb06cf"
      },
      "source": [
        "df['MaritalStatus'].unique()"
      ],
      "execution_count": 61,
      "outputs": [
        {
          "output_type": "execute_result",
          "data": {
            "text/plain": [
              "array(['Married', 'Single', 'Divorced'], dtype=object)"
            ]
          },
          "metadata": {
            "tags": []
          },
          "execution_count": 61
        }
      ]
    },
    {
      "cell_type": "code",
      "metadata": {
        "id": "N5FAZ-Aj1-Ox",
        "colab_type": "code",
        "colab": {}
      },
      "source": [
        "df['MaritalStatus']=df['MaritalStatus'].map({'Married':0, 'Single':1, 'Divorced':2})"
      ],
      "execution_count": 62,
      "outputs": []
    },
    {
      "cell_type": "code",
      "metadata": {
        "id": "9jTYZCCQ2GMO",
        "colab_type": "code",
        "colab": {
          "base_uri": "https://localhost:8080/",
          "height": 332
        },
        "outputId": "435823c1-599c-4bac-ec40-ba8880e0fafb"
      },
      "source": [
        "r4,p4 = pearsonr(df.Attrition,df.MaritalStatus)\n",
        "print(r4,p4)\n",
        "\n",
        "if p4>=0.05:\n",
        "  print(\"do not reject hypothesis\")\n",
        "if p4<0.05:\n",
        "  print(\"reject the hypothesis\")\n",
        "if r4<0:\n",
        "  print(\"negative correlation\")\n",
        "else:\n",
        "  print(\"positive correlation\")\n",
        "\n",
        "\n",
        "plt.scatter(df.Attrition,df.MaritalStatus)\n"
      ],
      "execution_count": 63,
      "outputs": [
        {
          "output_type": "stream",
          "text": [
            "0.011194651805276653 0.45734541860120026\n",
            "do not reject hypothesis\n",
            "positive correlation\n"
          ],
          "name": "stdout"
        },
        {
          "output_type": "execute_result",
          "data": {
            "text/plain": [
              "<matplotlib.collections.PathCollection at 0x7f77c8eb8080>"
            ]
          },
          "metadata": {
            "tags": []
          },
          "execution_count": 63
        },
        {
          "output_type": "display_data",
          "data": {
            "image/png": "[encoded data removed]",
            "text/plain": [
              "<Figure size 432x288 with 1 Axes>"
            ]
          },
          "metadata": {
            "tags": [],
            "needs_background": "light"
          }
        }
      ]
    },
    {
      "cell_type": "markdown",
      "metadata": {
        "id": "0kz0vA2R2XL3",
        "colab_type": "text"
      },
      "source": [
        "# Attrition and MonthlyIncome"
      ]
    },
    {
      "cell_type": "code",
      "metadata": {
        "id": "9j01v_TC2LGz",
        "colab_type": "code",
        "colab": {
          "base_uri": "https://localhost:8080/",
          "height": 332
        },
        "outputId": "06c420b7-016c-4538-9236-8b032dbf87f5"
      },
      "source": [
        "r4,p4 = pearsonr(df.Attrition,df.MonthlyIncome)\n",
        "print(r4,p4)\n",
        "\n",
        "if p4>=0.05:\n",
        "  print(\"do not reject hypothesis\")\n",
        "if p4<0.05:\n",
        "  print(\"reject the hypothesis\")\n",
        "if r4<0:\n",
        "  print(\"negative correlation\")\n",
        "else:\n",
        "  print(\"positive correlation\")\n",
        "\n",
        "\n",
        "plt.scatter(df.Attrition,df.MonthlyIncome)\n"
      ],
      "execution_count": 65,
      "outputs": [
        {
          "output_type": "stream",
          "text": [
            "-0.03117628169811501 0.03842748490600132\n",
            "reject the hypothesis\n",
            "negative correlation\n"
          ],
          "name": "stdout"
        },
        {
          "output_type": "execute_result",
          "data": {
            "text/plain": [
              "<matplotlib.collections.PathCollection at 0x7f77c9611b00>"
            ]
          },
          "metadata": {
            "tags": []
          },
          "execution_count": 65
        },
        {
          "output_type": "display_data",
          "data": {
            "image/png": "[encoded data removed]",
            "text/plain": [
              "<Figure size 432x288 with 1 Axes>"
            ]
          },
          "metadata": {
            "tags": [],
            "needs_background": "light"
          }
        }
      ]
    },
    {
      "cell_type": "markdown",
      "metadata": {
        "id": "98M2ALi72ksP",
        "colab_type": "text"
      },
      "source": [
        "# Attrition and NumCompaniesWorked"
      ]
    },
    {
      "cell_type": "code",
      "metadata": {
        "id": "-BpO5NU32ern",
        "colab_type": "code",
        "colab": {
          "base_uri": "https://localhost:8080/",
          "height": 34
        },
        "outputId": "8fa00183-7300-4f1b-dc3d-30a4caa2a63e"
      },
      "source": [
        "df['NumCompaniesWorked'].isnull().sum()"
      ],
      "execution_count": 66,
      "outputs": [
        {
          "output_type": "execute_result",
          "data": {
            "text/plain": [
              "19"
            ]
          },
          "metadata": {
            "tags": []
          },
          "execution_count": 66
        }
      ]
    },
    {
      "cell_type": "code",
      "metadata": {
        "id": "iD1lqgt12o_w",
        "colab_type": "code",
        "colab": {
          "base_uri": "https://localhost:8080/",
          "height": 422
        },
        "outputId": "6367ef8f-b52f-4a5b-e8c7-8a48e751aeec"
      },
      "source": [
        "df.dropna(inplace=True)\n",
        "df"
      ],
      "execution_count": 73,
      "outputs": [
        {
          "output_type": "execute_result",
          "data": {
            "text/html": [
              "<div>\n",
              "<style scoped>\n",
              "    .dataframe tbody tr th:only-of-type {\n",
              "        vertical-align: middle;\n",
              "    }\n",
              "\n",
              "    .dataframe tbody tr th {\n",
              "        vertical-align: top;\n",
              "    }\n",
              "\n",
              "    .dataframe thead th {\n",
              "        text-align: right;\n",
              "    }\n",
              "</style>\n",
              "<table border=\"1\" class=\"dataframe\">\n",
              "  <thead>\n",
              "    <tr style=\"text-align: right;\">\n",
              "      <th></th>\n",
              "      <th>Age</th>\n",
              "      <th>Attrition</th>\n",
              "      <th>BusinessTravel</th>\n",
              "      <th>Department</th>\n",
              "      <th>DistanceFromHome</th>\n",
              "      <th>Education</th>\n",
              "      <th>EducationField</th>\n",
              "      <th>EmployeeCount</th>\n",
              "      <th>EmployeeID</th>\n",
              "      <th>Gender</th>\n",
              "      <th>JobLevel</th>\n",
              "      <th>JobRole</th>\n",
              "      <th>MaritalStatus</th>\n",
              "      <th>MonthlyIncome</th>\n",
              "      <th>NumCompaniesWorked</th>\n",
              "      <th>Over18</th>\n",
              "      <th>PercentSalaryHike</th>\n",
              "      <th>StandardHours</th>\n",
              "      <th>StockOptionLevel</th>\n",
              "      <th>TotalWorkingYears</th>\n",
              "      <th>TrainingTimesLastYear</th>\n",
              "      <th>YearsAtCompany</th>\n",
              "      <th>YearsSinceLastPromotion</th>\n",
              "      <th>YearsWithCurrManager</th>\n",
              "    </tr>\n",
              "  </thead>\n",
              "  <tbody>\n",
              "    <tr>\n",
              "      <th>0</th>\n",
              "      <td>51</td>\n",
              "      <td>0</td>\n",
              "      <td>0</td>\n",
              "      <td>0</td>\n",
              "      <td>6</td>\n",
              "      <td>2</td>\n",
              "      <td>Life Sciences</td>\n",
              "      <td>1</td>\n",
              "      <td>1</td>\n",
              "      <td>0</td>\n",
              "      <td>1</td>\n",
              "      <td>0</td>\n",
              "      <td>0</td>\n",
              "      <td>131160</td>\n",
              "      <td>1.0</td>\n",
              "      <td>Y</td>\n",
              "      <td>11</td>\n",
              "      <td>8</td>\n",
              "      <td>0</td>\n",
              "      <td>1.0</td>\n",
              "      <td>6</td>\n",
              "      <td>1</td>\n",
              "      <td>0</td>\n",
              "      <td>0</td>\n",
              "    </tr>\n",
              "    <tr>\n",
              "      <th>1</th>\n",
              "      <td>31</td>\n",
              "      <td>1</td>\n",
              "      <td>1</td>\n",
              "      <td>1</td>\n",
              "      <td>10</td>\n",
              "      <td>1</td>\n",
              "      <td>Life Sciences</td>\n",
              "      <td>1</td>\n",
              "      <td>2</td>\n",
              "      <td>0</td>\n",
              "      <td>1</td>\n",
              "      <td>1</td>\n",
              "      <td>1</td>\n",
              "      <td>41890</td>\n",
              "      <td>0.0</td>\n",
              "      <td>Y</td>\n",
              "      <td>23</td>\n",
              "      <td>8</td>\n",
              "      <td>1</td>\n",
              "      <td>6.0</td>\n",
              "      <td>3</td>\n",
              "      <td>5</td>\n",
              "      <td>1</td>\n",
              "      <td>4</td>\n",
              "    </tr>\n",
              "    <tr>\n",
              "      <th>2</th>\n",
              "      <td>32</td>\n",
              "      <td>0</td>\n",
              "      <td>1</td>\n",
              "      <td>1</td>\n",
              "      <td>17</td>\n",
              "      <td>4</td>\n",
              "      <td>Other</td>\n",
              "      <td>1</td>\n",
              "      <td>3</td>\n",
              "      <td>1</td>\n",
              "      <td>4</td>\n",
              "      <td>2</td>\n",
              "      <td>0</td>\n",
              "      <td>193280</td>\n",
              "      <td>1.0</td>\n",
              "      <td>Y</td>\n",
              "      <td>15</td>\n",
              "      <td>8</td>\n",
              "      <td>3</td>\n",
              "      <td>5.0</td>\n",
              "      <td>2</td>\n",
              "      <td>5</td>\n",
              "      <td>0</td>\n",
              "      <td>3</td>\n",
              "    </tr>\n",
              "    <tr>\n",
              "      <th>3</th>\n",
              "      <td>38</td>\n",
              "      <td>0</td>\n",
              "      <td>2</td>\n",
              "      <td>1</td>\n",
              "      <td>2</td>\n",
              "      <td>5</td>\n",
              "      <td>Life Sciences</td>\n",
              "      <td>1</td>\n",
              "      <td>4</td>\n",
              "      <td>1</td>\n",
              "      <td>3</td>\n",
              "      <td>3</td>\n",
              "      <td>0</td>\n",
              "      <td>83210</td>\n",
              "      <td>3.0</td>\n",
              "      <td>Y</td>\n",
              "      <td>11</td>\n",
              "      <td>8</td>\n",
              "      <td>3</td>\n",
              "      <td>13.0</td>\n",
              "      <td>5</td>\n",
              "      <td>8</td>\n",
              "      <td>7</td>\n",
              "      <td>5</td>\n",
              "    </tr>\n",
              "    <tr>\n",
              "      <th>4</th>\n",
              "      <td>32</td>\n",
              "      <td>0</td>\n",
              "      <td>0</td>\n",
              "      <td>1</td>\n",
              "      <td>10</td>\n",
              "      <td>1</td>\n",
              "      <td>Medical</td>\n",
              "      <td>1</td>\n",
              "      <td>5</td>\n",
              "      <td>1</td>\n",
              "      <td>1</td>\n",
              "      <td>2</td>\n",
              "      <td>1</td>\n",
              "      <td>23420</td>\n",
              "      <td>4.0</td>\n",
              "      <td>Y</td>\n",
              "      <td>12</td>\n",
              "      <td>8</td>\n",
              "      <td>2</td>\n",
              "      <td>9.0</td>\n",
              "      <td>2</td>\n",
              "      <td>6</td>\n",
              "      <td>0</td>\n",
              "      <td>4</td>\n",
              "    </tr>\n",
              "    <tr>\n",
              "      <th>...</th>\n",
              "      <td>...</td>\n",
              "      <td>...</td>\n",
              "      <td>...</td>\n",
              "      <td>...</td>\n",
              "      <td>...</td>\n",
              "      <td>...</td>\n",
              "      <td>...</td>\n",
              "      <td>...</td>\n",
              "      <td>...</td>\n",
              "      <td>...</td>\n",
              "      <td>...</td>\n",
              "      <td>...</td>\n",
              "      <td>...</td>\n",
              "      <td>...</td>\n",
              "      <td>...</td>\n",
              "      <td>...</td>\n",
              "      <td>...</td>\n",
              "      <td>...</td>\n",
              "      <td>...</td>\n",
              "      <td>...</td>\n",
              "      <td>...</td>\n",
              "      <td>...</td>\n",
              "      <td>...</td>\n",
              "      <td>...</td>\n",
              "    </tr>\n",
              "    <tr>\n",
              "      <th>4404</th>\n",
              "      <td>29</td>\n",
              "      <td>0</td>\n",
              "      <td>0</td>\n",
              "      <td>0</td>\n",
              "      <td>4</td>\n",
              "      <td>3</td>\n",
              "      <td>Other</td>\n",
              "      <td>1</td>\n",
              "      <td>4405</td>\n",
              "      <td>0</td>\n",
              "      <td>2</td>\n",
              "      <td>3</td>\n",
              "      <td>1</td>\n",
              "      <td>35390</td>\n",
              "      <td>1.0</td>\n",
              "      <td>Y</td>\n",
              "      <td>18</td>\n",
              "      <td>8</td>\n",
              "      <td>0</td>\n",
              "      <td>6.0</td>\n",
              "      <td>2</td>\n",
              "      <td>6</td>\n",
              "      <td>1</td>\n",
              "      <td>5</td>\n",
              "    </tr>\n",
              "    <tr>\n",
              "      <th>4405</th>\n",
              "      <td>42</td>\n",
              "      <td>0</td>\n",
              "      <td>0</td>\n",
              "      <td>1</td>\n",
              "      <td>5</td>\n",
              "      <td>4</td>\n",
              "      <td>Medical</td>\n",
              "      <td>1</td>\n",
              "      <td>4406</td>\n",
              "      <td>0</td>\n",
              "      <td>1</td>\n",
              "      <td>1</td>\n",
              "      <td>1</td>\n",
              "      <td>60290</td>\n",
              "      <td>3.0</td>\n",
              "      <td>Y</td>\n",
              "      <td>17</td>\n",
              "      <td>8</td>\n",
              "      <td>1</td>\n",
              "      <td>10.0</td>\n",
              "      <td>5</td>\n",
              "      <td>3</td>\n",
              "      <td>0</td>\n",
              "      <td>2</td>\n",
              "    </tr>\n",
              "    <tr>\n",
              "      <th>4406</th>\n",
              "      <td>29</td>\n",
              "      <td>0</td>\n",
              "      <td>0</td>\n",
              "      <td>1</td>\n",
              "      <td>2</td>\n",
              "      <td>4</td>\n",
              "      <td>Medical</td>\n",
              "      <td>1</td>\n",
              "      <td>4407</td>\n",
              "      <td>1</td>\n",
              "      <td>1</td>\n",
              "      <td>5</td>\n",
              "      <td>2</td>\n",
              "      <td>26790</td>\n",
              "      <td>2.0</td>\n",
              "      <td>Y</td>\n",
              "      <td>15</td>\n",
              "      <td>8</td>\n",
              "      <td>0</td>\n",
              "      <td>10.0</td>\n",
              "      <td>2</td>\n",
              "      <td>3</td>\n",
              "      <td>0</td>\n",
              "      <td>2</td>\n",
              "    </tr>\n",
              "    <tr>\n",
              "      <th>4407</th>\n",
              "      <td>25</td>\n",
              "      <td>0</td>\n",
              "      <td>0</td>\n",
              "      <td>1</td>\n",
              "      <td>25</td>\n",
              "      <td>2</td>\n",
              "      <td>Life Sciences</td>\n",
              "      <td>1</td>\n",
              "      <td>4408</td>\n",
              "      <td>1</td>\n",
              "      <td>2</td>\n",
              "      <td>2</td>\n",
              "      <td>0</td>\n",
              "      <td>37020</td>\n",
              "      <td>0.0</td>\n",
              "      <td>Y</td>\n",
              "      <td>20</td>\n",
              "      <td>8</td>\n",
              "      <td>0</td>\n",
              "      <td>5.0</td>\n",
              "      <td>4</td>\n",
              "      <td>4</td>\n",
              "      <td>1</td>\n",
              "      <td>2</td>\n",
              "    </tr>\n",
              "    <tr>\n",
              "      <th>4408</th>\n",
              "      <td>42</td>\n",
              "      <td>0</td>\n",
              "      <td>0</td>\n",
              "      <td>0</td>\n",
              "      <td>18</td>\n",
              "      <td>2</td>\n",
              "      <td>Medical</td>\n",
              "      <td>1</td>\n",
              "      <td>4409</td>\n",
              "      <td>1</td>\n",
              "      <td>1</td>\n",
              "      <td>5</td>\n",
              "      <td>2</td>\n",
              "      <td>23980</td>\n",
              "      <td>0.0</td>\n",
              "      <td>Y</td>\n",
              "      <td>14</td>\n",
              "      <td>8</td>\n",
              "      <td>1</td>\n",
              "      <td>10.0</td>\n",
              "      <td>2</td>\n",
              "      <td>9</td>\n",
              "      <td>7</td>\n",
              "      <td>8</td>\n",
              "    </tr>\n",
              "  </tbody>\n",
              "</table>\n",
              "<p>4382 rows × 24 columns</p>\n",
              "</div>"
            ],
            "text/plain": [
              "      Age  Attrition  ...  YearsSinceLastPromotion  YearsWithCurrManager\n",
              "0      51          0  ...                        0                     0\n",
              "1      31          1  ...                        1                     4\n",
              "2      32          0  ...                        0                     3\n",
              "3      38          0  ...                        7                     5\n",
              "4      32          0  ...                        0                     4\n",
              "...   ...        ...  ...                      ...                   ...\n",
              "4404   29          0  ...                        1                     5\n",
              "4405   42          0  ...                        0                     2\n",
              "4406   29          0  ...                        0                     2\n",
              "4407   25          0  ...                        1                     2\n",
              "4408   42          0  ...                        7                     8\n",
              "\n",
              "[4382 rows x 24 columns]"
            ]
          },
          "metadata": {
            "tags": []
          },
          "execution_count": 73
        }
      ]
    },
    {
      "cell_type": "code",
      "metadata": {
        "id": "hoYFZT943PEc",
        "colab_type": "code",
        "colab": {
          "base_uri": "https://localhost:8080/",
          "height": 437
        },
        "outputId": "eed2e78c-62c6-469e-e0ee-482c92c79ec0"
      },
      "source": [
        "df.isnull().sum()"
      ],
      "execution_count": 74,
      "outputs": [
        {
          "output_type": "execute_result",
          "data": {
            "text/plain": [
              "Age                        0\n",
              "Attrition                  0\n",
              "BusinessTravel             0\n",
              "Department                 0\n",
              "DistanceFromHome           0\n",
              "Education                  0\n",
              "EducationField             0\n",
              "EmployeeCount              0\n",
              "EmployeeID                 0\n",
              "Gender                     0\n",
              "JobLevel                   0\n",
              "JobRole                    0\n",
              "MaritalStatus              0\n",
              "MonthlyIncome              0\n",
              "NumCompaniesWorked         0\n",
              "Over18                     0\n",
              "PercentSalaryHike          0\n",
              "StandardHours              0\n",
              "StockOptionLevel           0\n",
              "TotalWorkingYears          0\n",
              "TrainingTimesLastYear      0\n",
              "YearsAtCompany             0\n",
              "YearsSinceLastPromotion    0\n",
              "YearsWithCurrManager       0\n",
              "dtype: int64"
            ]
          },
          "metadata": {
            "tags": []
          },
          "execution_count": 74
        }
      ]
    },
    {
      "cell_type": "markdown",
      "metadata": {
        "id": "jBCIAYah37uD",
        "colab_type": "text"
      },
      "source": [
        "# Attrition and NumCompaniesWorked"
      ]
    },
    {
      "cell_type": "code",
      "metadata": {
        "id": "zx_slsMv3ZDJ",
        "colab_type": "code",
        "colab": {
          "base_uri": "https://localhost:8080/",
          "height": 332
        },
        "outputId": "3a80ada5-5265-4921-c49d-d59678b87dcd"
      },
      "source": [
        "r4,p4 = pearsonr(df.Attrition,df.NumCompaniesWorked)\n",
        "print(r4,p4)\n",
        "\n",
        "if p4>=0.05:\n",
        "  print(\"do not reject hypothesis\")\n",
        "if p4<0.05:\n",
        "  print(\"reject the hypothesis\")\n",
        "if r4<0:\n",
        "  print(\"negative correlation\")\n",
        "else:\n",
        "  print(\"positive correlation\")\n",
        "\n",
        "\n",
        "plt.scatter(df.Attrition,df.NumCompaniesWorked)\n"
      ],
      "execution_count": 75,
      "outputs": [
        {
          "output_type": "stream",
          "text": [
            "0.042830567244720834 0.004572057121622929\n",
            "reject the hypothesis\n",
            "positive correlation\n"
          ],
          "name": "stdout"
        },
        {
          "output_type": "execute_result",
          "data": {
            "text/plain": [
              "<matplotlib.collections.PathCollection at 0x7f77c9298358>"
            ]
          },
          "metadata": {
            "tags": []
          },
          "execution_count": 75
        },
        {
          "output_type": "display_data",
          "data": {
            "image/png": "[encoded data removed]",
            "text/plain": [
              "<Figure size 432x288 with 1 Axes>"
            ]
          },
          "metadata": {
            "tags": [],
            "needs_background": "light"
          }
        }
      ]
    },
    {
      "cell_type": "markdown",
      "metadata": {
        "id": "n_8DmmI_4GNj",
        "colab_type": "text"
      },
      "source": [
        "#Attrition and PercentSalaryHike"
      ]
    },
    {
      "cell_type": "code",
      "metadata": {
        "id": "GnH-2-LA4EiB",
        "colab_type": "code",
        "colab": {
          "base_uri": "https://localhost:8080/",
          "height": 332
        },
        "outputId": "e1d3a79c-f6c0-4cdd-ca45-97cf9e516961"
      },
      "source": [
        "r4,p4 = pearsonr(df.Attrition,df.PercentSalaryHike)\n",
        "print(r4,p4)\n",
        "\n",
        "if p4>=0.05:\n",
        "  print(\"do not reject hypothesis\")\n",
        "if p4<0.05:\n",
        "  print(\"reject the hypothesis\")\n",
        "if r4<0:\n",
        "  print(\"negative correlation\")\n",
        "else:\n",
        "  print(\"positive correlation\")\n",
        "\n",
        "\n",
        "plt.scatter(df.Attrition,df.PercentSalaryHike)\n"
      ],
      "execution_count": 77,
      "outputs": [
        {
          "output_type": "stream",
          "text": [
            "0.033153037135466544 0.028192446935112747\n",
            "reject the hypothesis\n",
            "positive correlation\n"
          ],
          "name": "stdout"
        },
        {
          "output_type": "execute_result",
          "data": {
            "text/plain": [
              "<matplotlib.collections.PathCollection at 0x7f77c8bb7470>"
            ]
          },
          "metadata": {
            "tags": []
          },
          "execution_count": 77
        },
        {
          "output_type": "display_data",
          "data": {
            "image/png": "[encoded data removed]",
            "text/plain": [
              "<Figure size 432x288 with 1 Axes>"
            ]
          },
          "metadata": {
            "tags": [],
            "needs_background": "light"
          }
        }
      ]
    },
    {
      "cell_type": "markdown",
      "metadata": {
        "id": "MnpHx3Xu4W3o",
        "colab_type": "text"
      },
      "source": [
        "# Attrition and YearsAtCompany"
      ]
    },
    {
      "cell_type": "code",
      "metadata": {
        "id": "F9TQidHy4N8I",
        "colab_type": "code",
        "colab": {
          "base_uri": "https://localhost:8080/",
          "height": 332
        },
        "outputId": "7a400abe-0005-4b0e-ad3c-d9f14249ea35"
      },
      "source": [
        "r4,p4 = pearsonr(df.Attrition,df.YearsAtCompany)\n",
        "print(r4,p4)\n",
        "\n",
        "if p4>=0.05:\n",
        "  print(\"do not reject hypothesis\")\n",
        "if p4<0.05:\n",
        "  print(\"reject the hypothesis\")\n",
        "if r4<0:\n",
        "  print(\"negative correlation\")\n",
        "else:\n",
        "  print(\"positive correlation\")\n",
        "\n",
        "\n",
        "plt.scatter(df.Attrition,df.YearsAtCompany)\n"
      ],
      "execution_count": 78,
      "outputs": [
        {
          "output_type": "stream",
          "text": [
            "-0.13300261842521535 9.476118084840815e-19\n",
            "reject the hypothesis\n",
            "negative correlation\n"
          ],
          "name": "stdout"
        },
        {
          "output_type": "execute_result",
          "data": {
            "text/plain": [
              "<matplotlib.collections.PathCollection at 0x7f77c8a64c50>"
            ]
          },
          "metadata": {
            "tags": []
          },
          "execution_count": 78
        },
        {
          "output_type": "display_data",
          "data": {
            "image/png": "[encoded data removed]",
            "text/plain": [
              "<Figure size 432x288 with 1 Axes>"
            ]
          },
          "metadata": {
            "tags": [],
            "needs_background": "light"
          }
        }
      ]
    },
    {
      "cell_type": "markdown",
      "metadata": {
        "id": "tmuRhLdM4kTK",
        "colab_type": "text"
      },
      "source": [
        "# Attrition and YearsSinceLastPromotion"
      ]
    },
    {
      "cell_type": "code",
      "metadata": {
        "id": "Ybh2-on_4fbI",
        "colab_type": "code",
        "colab": {
          "base_uri": "https://localhost:8080/",
          "height": 332
        },
        "outputId": "ee300dcb-96ca-4cb7-a271-57ded390041f"
      },
      "source": [
        "r4,p4 = pearsonr(df.Attrition,df.YearsAtCompany)\n",
        "print(r4,p4)\n",
        "\n",
        "if p4>=0.05:\n",
        "  print(\"do not reject hypothesis\")\n",
        "if p4<0.05:\n",
        "  print(\"reject the hypothesis\")\n",
        "if r4<0:\n",
        "  print(\"negative correlation\")\n",
        "else:\n",
        "  print(\"positive correlation\")\n",
        "\n",
        "\n",
        "plt.scatter(df.Attrition,df.YearsAtCompany)\n"
      ],
      "execution_count": 79,
      "outputs": [
        {
          "output_type": "stream",
          "text": [
            "-0.13300261842521535 9.476118084840815e-19\n",
            "reject the hypothesis\n",
            "negative correlation\n"
          ],
          "name": "stdout"
        },
        {
          "output_type": "execute_result",
          "data": {
            "text/plain": [
              "<matplotlib.collections.PathCollection at 0x7f77c89e3dd8>"
            ]
          },
          "metadata": {
            "tags": []
          },
          "execution_count": 79
        },
        {
          "output_type": "display_data",
          "data": {
            "image/png": "[encoded data removed]",
            "text/plain": [
              "<Figure size 432x288 with 1 Axes>"
            ]
          },
          "metadata": {
            "tags": [],
            "needs_background": "light"
          }
        }
      ]
    },
    {
      "cell_type": "markdown",
      "metadata": {
        "id": "SL10oEWv4p1j",
        "colab_type": "text"
      },
      "source": [
        "# Attrition and YearsWithCurrManager"
      ]
    },
    {
      "cell_type": "code",
      "metadata": {
        "id": "iu8uwNY24fgV",
        "colab_type": "code",
        "colab": {
          "base_uri": "https://localhost:8080/",
          "height": 332
        },
        "outputId": "a6e44d20-157c-47b0-9fee-dbaca75c52b1"
      },
      "source": [
        "r4,p4 = pearsonr(df.Attrition,df.YearsWithCurrManager)\n",
        "print(r4,p4)\n",
        "\n",
        "if p4>=0.05:\n",
        "  print(\"do not reject hypothesis\")\n",
        "if p4<0.05:\n",
        "  print(\"reject the hypothesis\")\n",
        "if r4<0:\n",
        "  print(\"negative correlation\")\n",
        "else:\n",
        "  print(\"positive correlation\")\n",
        "\n",
        "\n",
        "plt.scatter(df.Attrition,df.YearsWithCurrManager)\n"
      ],
      "execution_count": 80,
      "outputs": [
        {
          "output_type": "stream",
          "text": [
            "-0.15469153690287285 7.105369646772844e-25\n",
            "reject the hypothesis\n",
            "negative correlation\n"
          ],
          "name": "stdout"
        },
        {
          "output_type": "execute_result",
          "data": {
            "text/plain": [
              "<matplotlib.collections.PathCollection at 0x7f77c88e73c8>"
            ]
          },
          "metadata": {
            "tags": []
          },
          "execution_count": 80
        },
        {
          "output_type": "display_data",
          "data": {
            "image/png": "[encoded data removed]",
            "text/plain": [
              "<Figure size 432x288 with 1 Axes>"
            ]
          },
          "metadata": {
            "tags": [],
            "needs_background": "light"
          }
        }
      ]
    },
    {
      "cell_type": "code",
      "metadata": {
        "id": "FkJb4Ehc4fZj",
        "colab_type": "code",
        "colab": {}
      },
      "source": [
        ""
      ],
      "execution_count": null,
      "outputs": []
    }
  ]
}